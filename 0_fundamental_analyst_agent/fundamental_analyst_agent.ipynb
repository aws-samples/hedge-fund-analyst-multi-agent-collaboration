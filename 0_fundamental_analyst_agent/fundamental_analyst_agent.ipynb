{
 "cells": [
  {
   "cell_type": "markdown",
   "metadata": {},
   "source": [
    "## Creating sub-agent 1: Fundamental Analyst agent\n",
    "\n",
    "In this folder we will create the first sub-agent for getting our `input statements`, `balance sheets` and `cash flow statements`. This code defines an agent for retrieving income statements for publicly traded companies through a financial API service.\n",
    "\n",
    "This `fundamental analyst agent` will be associated with an action group which will have access to three functions. Each of the function is responsible for performing certain tasks related to getting input statements of a company's stock based on the `ticker` symbol, balance sheets and other cash flow details. "
   ]
  },
  {
   "cell_type": "markdown",
   "metadata": {},
   "source": [
    "### Prerequisites\n",
    "---\n",
    "\n",
    "You are going to install boto3 dependencies from pip. Make sure you have the latest version of it for full capabilities\n",
    "\n",
    "Before running this notebook, make sure to populate the `.env` file with your `FINANCIAL_DATASETS_API_KEY` and `TAVILY_API_KEY`. These two `API` keys will be used by the agent to access information on user related questions. You can create an `API` here: https://www.financialdatasets.ai/"
   ]
  },
  {
   "cell_type": "code",
   "execution_count": null,
   "metadata": {},
   "outputs": [],
   "source": [
    "# Uninstall the current version of boto3, botocore and awscli, to install the updated version of boto3\n",
    "!pip uninstall boto3 botocore awscli --yes"
   ]
  },
  {
   "cell_type": "code",
   "execution_count": null,
   "metadata": {},
   "outputs": [],
   "source": [
    "# Install latest boto3\n",
    "!python3 -m pip install --force-reinstall --no-cache -q --no-dependencies -r ../requirements.txt"
   ]
  },
  {
   "cell_type": "markdown",
   "metadata": {},
   "source": [
    "### Restart kernel\n",
    "\n",
    "If you face issues to apply the latest multi-agent capabilities, uncomment this line to restart kernel to ensure packages updates to take effect"
   ]
  },
  {
   "cell_type": "code",
   "execution_count": null,
   "metadata": {},
   "outputs": [],
   "source": [
    "import IPython\n",
    "\n",
    "# IPython.Application.instance().kernel.do_shutdown(True)"
   ]
  },
  {
   "cell_type": "code",
   "execution_count": null,
   "metadata": {},
   "outputs": [],
   "source": [
    "!pip freeze | grep boto3"
   ]
  },
  {
   "cell_type": "markdown",
   "metadata": {},
   "source": [
    "### Importing helper functions\n",
    "\n",
    "On following section, we're adding `agents.py` on Python path, so the files can be recognized and their functionalities can be invoked.\n",
    "\n",
    "Now, you're going to import from helper classes `agent.py`.\n",
    "\n",
    "Those files contain helper classes totally focused on make labs experience smoothly.\n",
    "\n",
    "All interactions with Bedrock will be handled by these classes.\n",
    "\n",
    "#### Following are methods that you're going to invoke on this lab:\n",
    "\n",
    "- `create_agent`: Create a new agent and respective IAM roles\n",
    "\n",
    "- `add_action_group_with_lambda`: Create a lambda function and add it as an action group for a previous created agent\n",
    "\n",
    "- `create_agent_alias`: Create an alias for this agent\n",
    "\n",
    "- `invoke`: Execute agent"
   ]
  },
  {
   "cell_type": "code",
   "execution_count": null,
   "metadata": {},
   "outputs": [],
   "source": [
    "import boto3\n",
    "import os\n",
    "import json\n",
    "import time\n",
    "\n",
    "sts_client = boto3.client('sts')\n",
    "session = boto3.session.Session()\n",
    "\n",
    "account_id = sts_client.get_caller_identity()[\"Account\"]\n",
    "region = session.region_name\n",
    "account_id_suffix = account_id[:3]\n",
    "agent_suffix = f\"{region}-{account_id_suffix}\"\n",
    "\n",
    "s3_client = boto3.client('s3', region)\n",
    "bedrock_client = boto3.client('bedrock-runtime', region)"
   ]
  },
  {
   "cell_type": "code",
   "execution_count": null,
   "metadata": {},
   "outputs": [],
   "source": [
    "import os\n",
    "import sys\n",
    "import time\n",
    "import json\n",
    "import boto3\n",
    "import shutil\n",
    "import logging\n",
    "import zipfile\n",
    "import subprocess\n",
    "from dotenv import load_dotenv\n",
    "\n",
    "sys.path.insert(0, \".\")\n",
    "sys.path.insert(1, \"..\")\n",
    "\n",
    "from utils.bedrock_agent_helper import (\n",
    "    AgentsForAmazonBedrock\n",
    ")\n",
    "agents = AgentsForAmazonBedrock()\n",
    "\n",
    "# Get the current file's directory\n",
    "current_dir = os.path.dirname(os.path.abspath('__file__'))\n",
    "\n",
    "# Get the parent directory\n",
    "parent_dir = os.path.dirname(current_dir)\n",
    "print(parent_dir)\n",
    "\n",
    "# Add the parent directory to sys.path\n",
    "sys.path.append(parent_dir)\n",
    "\n",
    "from utils import *\n",
    "from globals import *\n",
    "from utils.utils import *"
   ]
  },
  {
   "cell_type": "code",
   "execution_count": null,
   "metadata": {},
   "outputs": [],
   "source": [
    "# Load the environment variables that are defined in the \".env\" file. This contains the \n",
    "# financial data API key that will enable the user to access the data\n",
    "load_dotenv"
   ]
  },
  {
   "cell_type": "code",
   "execution_count": null,
   "metadata": {},
   "outputs": [],
   "source": [
    "# set a logger\n",
    "logging.basicConfig(format='[%(asctime)s] p%(process)s {%(filename)s:%(lineno)d} %(levelname)s - %(message)s', level=logging.INFO)\n",
    "logger = logging.getLogger(__name__)"
   ]
  },
  {
   "cell_type": "markdown",
   "metadata": {},
   "source": [
    "### Defining agent configuration\n",
    "---"
   ]
  },
  {
   "cell_type": "code",
   "execution_count": null,
   "metadata": {},
   "outputs": [],
   "source": [
    "agent_instruction = \"\"\"You are a comprehensive fundamental analyst assistant that helps users analyze company financial statements across three key areas: income statements, balance sheets, and cash flow statements.\n",
    "You require the user to provide a stock ticker symbol to analyze the company's financials.\n",
    "\n",
    "You can perform the following types of analysis by calling the functions below:\n",
    "\n",
    "1. Income Statement Analysis:\n",
    "   - Revenue growth, gross profit, operating income, net income, earnings per share, and revenue/expense breakdown\n",
    "\n",
    "2. Balance Sheet Analysis:\n",
    "   - Asset composition (current and non-current), liabilities (current and non-current), shareholders' equity, retained earnings, and financial ratios (current ratio, debt-to-equity)\n",
    "\n",
    "3. Cash Flow Statement Analysis:\n",
    "   - Net cash flow from operations, capital expenditures, business acquisitions, issuance/repayment of debt, dividends, and changes in cash and equivalents\n",
    "\n",
    "IMPORTANT: Always use the financial dataset API you have access to to call these functions and retrieve the data to answer the user question\n",
    "\n",
    "If you do not have access to the data that the user is asking for, do not make up an answer, just say that you do not know the answer. Be completely\n",
    "accurate. Do not provide answers to anything but on the topic specified above. Always give information on where you got the data to answer the user question\n",
    "and do not redact anything in your response.\n",
    "\"\"\"\n",
    "\n",
    "agent_description = \"Agent for comprehensive financial statement analysis including income statements, balance sheets, and cash flows\""
   ]
  },
  {
   "cell_type": "code",
   "execution_count": null,
   "metadata": {},
   "outputs": [],
   "source": [
    "# This is the function definition for the lambda function that will be invoked\n",
    "# as a part of the action group\n",
    "functions = [{\n",
    "    'name': 'get_income_statements',\n",
    "    'description': 'Get income statements for a company',\n",
    "    'parameters': {\n",
    "        \"ticker\": {\n",
    "            \"description\": \"stock ticker symbol of the company\",\n",
    "            \"required\": True,\n",
    "            \"type\": \"string\"\n",
    "        },\n",
    "        \"period\": {\n",
    "            \"description\": \"period of statements (ttm, quarterly, or annual)\",\n",
    "            \"required\": True,\n",
    "            \"type\": \"string\"\n",
    "        },\n",
    "        \"limit\": {\n",
    "            \"description\": \"number of statements to retrieve\",\n",
    "            \"required\": True,\n",
    "            \"type\": \"integer\"\n",
    "        }\n",
    "    }\n",
    "},\n",
    "{\n",
    "    'name': 'get_balance_sheets',\n",
    "    'description': 'Get balance sheets for a company',\n",
    "    'parameters': {\n",
    "        \"ticker\": {\n",
    "            \"description\": \"stock ticker symbol of the company\",\n",
    "            \"required\": True,\n",
    "            \"type\": \"string\"\n",
    "        },\n",
    "        \"period\": {\n",
    "            \"description\": \"period of statements (ttm, quarterly, or annual)\",\n",
    "            \"required\": True,\n",
    "            \"type\": \"string\"\n",
    "        },\n",
    "        \"limit\": {\n",
    "            \"description\": \"number of statements to retrieve\",\n",
    "            \"required\": True,\n",
    "            \"type\": \"integer\"\n",
    "        }\n",
    "    }\n",
    "},\n",
    "{\n",
    "    'name': 'get_cash_flow_statements',\n",
    "    'description': 'Get cash flow statements for a company',\n",
    "    'parameters': {\n",
    "        \"ticker\": {\n",
    "            \"description\": \"stock ticker symbol of the company\",\n",
    "            \"required\": True,\n",
    "            \"type\": \"string\"\n",
    "        },\n",
    "        \"period\": {\n",
    "            \"description\": \"period of statements (ttm, quarterly, or annual)\",\n",
    "            \"required\": True,\n",
    "            \"type\": \"string\"\n",
    "        },\n",
    "        \"limit\": {\n",
    "            \"description\": \"number of statements to retrieve\",\n",
    "            \"required\": True,\n",
    "            \"type\": \"integer\"\n",
    "        }\n",
    "    }\n",
    "}]"
   ]
  },
  {
   "cell_type": "markdown",
   "metadata": {},
   "source": [
    "### Add a lambda layer to the lambda function\n",
    "---\n",
    "\n",
    "In this section of the notebook, we will add a lambda layer to the lambda function. We will be installing `requests` to make requests to the financial data API key."
   ]
  },
  {
   "cell_type": "code",
   "execution_count": null,
   "metadata": {},
   "outputs": [],
   "source": [
    "# Create and publish the layer\n",
    "# In this case we want to add a layer to the lambda containing files to import the requests library\n",
    "layer_zip = create_lambda_layer(['requests'])\n",
    "layer_arn = publish_layer('fundamental-agent-lambda-layer')"
   ]
  },
  {
   "cell_type": "markdown",
   "metadata": {},
   "source": [
    "### Create agent\n",
    "---\n",
    "\n",
    "Next we will create the agent with the provided information. In this, we will use the prompt configuration, the lambda function and lambda layers, update the lambda function to contain the `FINANCIAL_DATASETS_API_KEY` that the agent can use to fetch data to user inputs, and then finally create the agent."
   ]
  },
  {
   "cell_type": "code",
   "execution_count": null,
   "metadata": {},
   "outputs": [],
   "source": [
    "# Create the fundamental analyst agent\n",
    "fundamental_analyst_agent = agents.create_agent(\n",
    "    SUB_AGENT_FUNDAMENTAL_ANALYST,\n",
    "    agent_description,\n",
    "    agent_instruction,\n",
    "    BEDROCK_MODEL_CLAUDE_HAIKU,\n",
    ")"
   ]
  },
  {
   "cell_type": "code",
   "execution_count": null,
   "metadata": {},
   "outputs": [],
   "source": [
    "# Add the action group with lambda to this fundamental analyst agent\n",
    "agents.add_action_group_with_lambda(\n",
    "    agent_name=SUB_AGENT_FUNDAMENTAL_ANALYST,\n",
    "    lambda_function_name=f'{SUB_AGENT_FUNDAMENTAL_ANALYST}-lambda',\n",
    "    source_code_file=FUNDAMENTAL_LAMBDA_FUNCTION_NAME,\n",
    "    agent_functions=functions,\n",
    "    agent_action_group_name=\"FundamentalAnalysisActionGroup\",\n",
    "    agent_action_group_description=\"Action group to analyze company financial statements using income statement data\",\n",
    "    lambda_layers=[layer_arn]\n",
    ")\n",
    "\n",
    "# Create a Lambda client and attach the API key as env variable to the lambda function\n",
    "lambda_client = boto3.client('lambda')\n",
    "lambda_function_name = f'{SUB_AGENT_FUNDAMENTAL_ANALYST}-lambda'\n",
    "environment_variables = {\n",
    "    'FINANCIAL_DATASETS_API_KEY': os.getenv('FINANCIAL_DATASETS_API_KEY')\n",
    "}"
   ]
  },
  {
   "cell_type": "code",
   "execution_count": null,
   "metadata": {},
   "outputs": [],
   "source": [
    "# Update the Lambda function's configuration to include the environment variables\n",
    "# In the case of this agent, we need the financial dataset API as an env variable passed to the lambda\n",
    "# so that it can be used in fetching data based on user questions\n",
    "response = lambda_client.update_function_configuration(\n",
    "    FunctionName=lambda_function_name,\n",
    "    Environment={\n",
    "        'Variables': environment_variables\n",
    "    },\n",
    "    Layers=[layer_arn]\n",
    ")"
   ]
  },
  {
   "cell_type": "markdown",
   "metadata": {},
   "source": [
    "### Testing the Fundamental Analyst agent\n",
    "---\n",
    "\n",
    "Now that we've created the agent, let's test it by using our `invoke_agent_helper` function. Here, we will invoke the `fundamental analyst` agent to provide balance sheet information, income statements and cash flow information based on the question provided by the user.\n",
    "\n",
    "Since the `invoke_agent_helper` is wrapped with a `weave` decorator, it will log the input/outputs or any errors to your weave account dashboard. To create a weave API key, refer to the following link: https://wandb.ai/site/weave/"
   ]
  },
  {
   "cell_type": "code",
   "execution_count": null,
   "metadata": {},
   "outputs": [],
   "source": [
    "# sleep for 30 seconds before invoking the agent\n",
    "time.sleep(30)"
   ]
  },
  {
   "cell_type": "code",
   "execution_count": null,
   "metadata": {},
   "outputs": [],
   "source": [
    "%%time\n",
    "response = agents.invoke(\n",
    "    \"\"\"Summarize income statements for AAPL in 2023\"\"\", \n",
    "    fundamental_analyst_agent[0], enable_trace=True\n",
    ")\n",
    "print(\"====================\")\n",
    "print(response)"
   ]
  },
  {
   "cell_type": "markdown",
   "metadata": {},
   "source": [
    "As seen from above, the agent rationalizes and uses the `get_income_statements` from the `FundamentalAnalysisActionGroup` to get the summary of the income statements for `AAPL`. View the API usage of the financial dataset website below that the agent calls to get the relevant data to answer the user question.\n",
    "\n",
    "![api-usage](images/api-usage.png)"
   ]
  },
  {
   "cell_type": "code",
   "execution_count": null,
   "metadata": {},
   "outputs": [],
   "source": [
    "%%time\n",
    "response = agents.invoke(\n",
    "    \"\"\"What is AAPL's balance sheet information for the first quarter of May, 2021?\"\"\",\n",
    "    fundamental_analyst_agent[0], enable_trace=True\n",
    ")\n",
    "print(\"====================\")\n",
    "print(response)"
   ]
  },
  {
   "cell_type": "code",
   "execution_count": null,
   "metadata": {},
   "outputs": [],
   "source": [
    "%%time\n",
    "response = agents.invoke(\n",
    "    \"\"\"Describe AAPL's cash flow for 2024?\"\"\",\n",
    "    fundamental_analyst_agent[0], enable_trace=True\n",
    ")\n",
    "print(\"====================\")\n",
    "print(response)"
   ]
  },
  {
   "cell_type": "code",
   "execution_count": null,
   "metadata": {},
   "outputs": [],
   "source": [
    "%%time\n",
    "response = agents.invoke(\n",
    "    \"\"\"What is a llama?\"\"\",\n",
    "    fundamental_analyst_agent[0], enable_trace=True\n",
    ")\n",
    "print(\"====================\")\n",
    "print(response)"
   ]
  },
  {
   "cell_type": "markdown",
   "metadata": {},
   "source": [
    "### Create alias\n",
    "\n",
    "For multi-agents collaboration it is expected that you first test your agent and only use it once it is fully functional.\n",
    "\n",
    "Since we've tested and validated our agent, let's now create an alias for it:"
   ]
  },
  {
   "cell_type": "code",
   "execution_count": null,
   "metadata": {},
   "outputs": [],
   "source": [
    "fundamental_analyst_agent_id, fundamental_analyst_agent_alias_arn = agents.create_agent_alias(\n",
    "    fundamental_analyst_agent[0], 'v1'\n",
    ")"
   ]
  },
  {
   "cell_type": "code",
   "execution_count": null,
   "metadata": {},
   "outputs": [],
   "source": [
    "fundamental_analyst_agent_arn = agents.get_agent_arn_by_name(SUB_AGENT_FUNDAMENTAL_ANALYST)"
   ]
  },
  {
   "cell_type": "markdown",
   "metadata": {},
   "source": [
    "### Saving the information\n",
    "---\n",
    "Let's now save some information so that we can use this agent as a sub-agent of our financial hedge fund assistant"
   ]
  },
  {
   "cell_type": "code",
   "execution_count": null,
   "metadata": {},
   "outputs": [],
   "source": [
    "%store fundamental_analyst_agent_id\n",
    "%store fundamental_analyst_agent_alias_arn\n",
    "%store fundamental_analyst_agent_arn"
   ]
  }
 ],
 "metadata": {
  "kernelspec": {
   "display_name": "Python 3",
   "language": "python",
   "name": "python3"
  },
  "language_info": {
   "codemirror_mode": {
    "name": "ipython",
    "version": 3
   },
   "file_extension": ".py",
   "mimetype": "text/x-python",
   "name": "python",
   "nbconvert_exporter": "python",
   "pygments_lexer": "ipython3",
   "version": "3.11.7"
  }
 },
 "nbformat": 4,
 "nbformat_minor": 2
}

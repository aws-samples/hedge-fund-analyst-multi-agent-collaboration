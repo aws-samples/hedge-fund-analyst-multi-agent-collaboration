{
 "cells": [
  {
   "cell_type": "markdown",
   "metadata": {},
   "source": [
    "## Creating sub-agent 1: Fundamental Analyst agent\n",
    "\n",
    "In this folder we will create the first sub-agent for getting our `input statements`, `balance sheets` and `cash flow statements`. This code defines an agent for retrieving income statements for publicly traded companies through a financial API service.\n",
    "\n",
    "This `fundamental analyst agent` will be associated with an action group which will have access to three functions. Each of the function is responsible for performing certain tasks related to getting input statements of a company's stock based on the `ticker` symbol, balance sheets and other cash flow details. "
   ]
  },
  {
   "cell_type": "markdown",
   "metadata": {},
   "source": [
    "### Prerequisites\n",
    "---\n",
    "\n",
    "You are going to install boto3 dependencies from pip. Make sure you have the latest version of it for full capabilities\n",
    "\n",
    "Before running this notebook, make sure to populate the `.env` file with your `FINANCIAL_DATASETS_API_KEY` and `TAVILY_API_KEY`. These two `API` keys will be used by the agent to access information on user related questions. You can create an `API` here: https://www.financialdatasets.ai/"
   ]
  },
  {
   "cell_type": "code",
   "execution_count": 1,
   "metadata": {},
   "outputs": [
    {
     "name": "stdout",
     "output_type": "stream",
     "text": [
      "Found existing installation: boto3 1.35.83\n",
      "Uninstalling boto3-1.35.83:\n",
      "  Successfully uninstalled boto3-1.35.83\n",
      "Found existing installation: botocore 1.35.83\n",
      "Uninstalling botocore-1.35.83:\n",
      "  Successfully uninstalled botocore-1.35.83\n",
      "Found existing installation: awscli 1.36.24\n",
      "Uninstalling awscli-1.36.24:\n",
      "  Successfully uninstalled awscli-1.36.24\n"
     ]
    }
   ],
   "source": [
    "# Uninstall the current version of boto3, botocore and awscli, to install the updated version of boto3\n",
    "!pip uninstall boto3 botocore awscli --yes"
   ]
  },
  {
   "cell_type": "code",
   "execution_count": 2,
   "metadata": {},
   "outputs": [],
   "source": [
    "# Install latest boto3\n",
    "!python3 -m pip install --force-reinstall --no-cache -q --no-dependencies -r ../requirements.txt"
   ]
  },
  {
   "cell_type": "markdown",
   "metadata": {},
   "source": [
    "### Importing helper functions\n",
    "\n",
    "On following section, we're adding `agents.py` on Python path, so the files can be recognized and their functionalities can be invoked.\n",
    "\n",
    "Now, you're going to import from helper classes `agent.py`.\n",
    "\n",
    "Those files contain helper classes totally focused on make labs experience smoothly.\n",
    "\n",
    "All interactions with Bedrock will be handled by these classes.\n",
    "\n",
    "#### Following are methods that you're going to invoke on this lab:\n",
    "\n",
    "- `create_agent`: Create a new agent and respective IAM roles\n",
    "\n",
    "- `add_action_group_with_lambda`: Create a lambda function and add it as an action group for a previous created agent\n",
    "\n",
    "- `create_agent_alias`: Create an alias for this agent\n",
    "\n",
    "- `invoke`: Execute agent"
   ]
  },
  {
   "cell_type": "code",
   "execution_count": 3,
   "metadata": {},
   "outputs": [
    {
     "name": "stdout",
     "output_type": "stream",
     "text": [
      "/Users/madhurpt/Desktop/hedge-fund-analyst-multi-agent-collaboration-2\n",
      "Boto3 version: 1.35.83\n"
     ]
    },
    {
     "name": "stderr",
     "output_type": "stream",
     "text": [
      "[2024-12-17 19:37:04,896] p85944 {requests.py:227} INFO - >>> {\"query\": \"query DefaultEntity {\\n  viewer {\\n    username\\n    defaultEntity {\\n      name\\n    }\\n  }\\n}\"}\n",
      "[2024-12-17 19:37:04,989] p85944 {requests.py:263} INFO - <<< {\"data\":{\"viewer\":{\"username\":\"madhur-prash\",\"defaultEntity\":{\"name\":\"madhur-prash-none\"}}}}\n",
      "[2024-12-17 19:37:06,680] p85944 {utils.py:160} INFO - NumExpr defaulting to 8 threads.\n",
      "[2024-12-17 19:37:07,555] p85944 {_client.py:1026} INFO - HTTP Request: GET https://raw.githubusercontent.com/BerriAI/litellm/main/model_prices_and_context_window.json \"HTTP/1.1 200 OK\"\n",
      "[2024-12-17 19:37:08,178] p85944 {config.py:59} INFO - PyTorch version 2.3.0 available.\n",
      "[2024-12-17 19:37:08,380] p85944 {requests.py:227} INFO - >>> {\"query\": \"query DefaultEntity {\\n  viewer {\\n    username\\n    defaultEntity {\\n      name\\n    }\\n  }\\n}\"}\n",
      "[2024-12-17 19:37:08,468] p85944 {requests.py:263} INFO - <<< {\"data\":{\"viewer\":{\"username\":\"madhur-prash\",\"defaultEntity\":{\"name\":\"madhur-prash-none\"}}}}\n"
     ]
    },
    {
     "name": "stdout",
     "output_type": "stream",
     "text": [
      "Logged in as Weights & Biases user: madhur-prash.\n",
      "View Weave data at https://wandb.ai/madhur-prash-none/multi-agent-collaboration/weave\n"
     ]
    }
   ],
   "source": [
    "import os\n",
    "import sys\n",
    "import time\n",
    "import json\n",
    "import boto3\n",
    "import shutil\n",
    "import logging\n",
    "import zipfile\n",
    "import subprocess\n",
    "from dotenv import load_dotenv\n",
    "\n",
    "# Get the current file's directory\n",
    "current_dir = os.path.dirname(os.path.abspath('__file__'))\n",
    "\n",
    "# Get the parent directory\n",
    "parent_dir = os.path.dirname(current_dir)\n",
    "print(parent_dir)\n",
    "\n",
    "# Add the parent directory to sys.path\n",
    "sys.path.append(parent_dir)\n",
    "\n",
    "from utils import *\n",
    "from globals import *\n",
    "from agents import create_agent, invoke_agent_helper"
   ]
  },
  {
   "cell_type": "code",
   "execution_count": 4,
   "metadata": {},
   "outputs": [
    {
     "data": {
      "text/plain": [
       "<function dotenv.main.load_dotenv(dotenv_path: Union[str, ForwardRef('os.PathLike[str]'), NoneType] = None, stream: Optional[IO[str]] = None, verbose: bool = False, override: bool = False, interpolate: bool = True, encoding: Optional[str] = 'utf-8') -> bool>"
      ]
     },
     "execution_count": 4,
     "metadata": {},
     "output_type": "execute_result"
    }
   ],
   "source": [
    "# Load the environment variables that are defined in the \".env\" file. This contains the \n",
    "# financial data API key that will enable the user to access the data\n",
    "load_dotenv"
   ]
  },
  {
   "cell_type": "code",
   "execution_count": 5,
   "metadata": {},
   "outputs": [],
   "source": [
    "# set a logger\n",
    "logging.basicConfig(format='[%(asctime)s] p%(process)s {%(filename)s:%(lineno)d} %(levelname)s - %(message)s', level=logging.INFO)\n",
    "logger = logging.getLogger(__name__)"
   ]
  },
  {
   "cell_type": "markdown",
   "metadata": {},
   "source": [
    "### Defining agent configuration\n",
    "---"
   ]
  },
  {
   "cell_type": "code",
   "execution_count": 6,
   "metadata": {},
   "outputs": [],
   "source": [
    "agent_instruction = \"\"\"You are a comprehensive fundamental analyst assistant that helps users analyze company financial statements across three key areas: income statements, balance sheets, and cash flow statements.\n",
    "You require the user to provide a stock ticker symbol to analyze the company's financials.\n",
    "\n",
    "You can perform the following types of analysis by calling the functions below:\n",
    "\n",
    "1. Income Statement Analysis:\n",
    "   - Revenue growth, gross profit, operating income, net income, earnings per share, and revenue/expense breakdown\n",
    "\n",
    "2. Balance Sheet Analysis:\n",
    "   - Asset composition (current and non-current), liabilities (current and non-current), shareholders' equity, retained earnings, and financial ratios (current ratio, debt-to-equity)\n",
    "\n",
    "3. Cash Flow Statement Analysis:\n",
    "   - Net cash flow from operations, capital expenditures, business acquisitions, issuance/repayment of debt, dividends, and changes in cash and equivalents\n",
    "\n",
    "IMPORTANT: Always use the financial dataset API you have access to to call these functions and retrieve the data to answer the user question\n",
    "\n",
    "If you do not have access to the data that the user is asking for, do not make up an answer, just say that you do not know the answer. Be completely\n",
    "accurate. Do not provide answers to anything but on the topic specified above. Always give information on where you got the data to answer the user question\n",
    "and do not redact anything in your response.\n",
    "\"\"\"\n",
    "\n",
    "agent_description = \"Agent for comprehensive financial statement analysis including income statements, balance sheets, and cash flows\""
   ]
  },
  {
   "cell_type": "code",
   "execution_count": 7,
   "metadata": {},
   "outputs": [],
   "source": [
    "# This is the function definition for the lambda function that will be invoked\n",
    "# as a part of the action group\n",
    "functions = [{\n",
    "    'name': 'get_income_statements',\n",
    "    'description': 'Get income statements for a company',\n",
    "    'parameters': {\n",
    "        \"ticker\": {\n",
    "            \"description\": \"stock ticker symbol of the company\",\n",
    "            \"required\": True,\n",
    "            \"type\": \"string\"\n",
    "        },\n",
    "        \"period\": {\n",
    "            \"description\": \"period of statements (ttm, quarterly, or annual)\",\n",
    "            \"required\": True,\n",
    "            \"type\": \"string\"\n",
    "        },\n",
    "        \"limit\": {\n",
    "            \"description\": \"number of statements to retrieve\",\n",
    "            \"required\": True,\n",
    "            \"type\": \"integer\"\n",
    "        }\n",
    "    }\n",
    "},\n",
    "{\n",
    "    'name': 'get_balance_sheets',\n",
    "    'description': 'Get balance sheets for a company',\n",
    "    'parameters': {\n",
    "        \"ticker\": {\n",
    "            \"description\": \"stock ticker symbol of the company\",\n",
    "            \"required\": True,\n",
    "            \"type\": \"string\"\n",
    "        },\n",
    "        \"period\": {\n",
    "            \"description\": \"period of statements (ttm, quarterly, or annual)\",\n",
    "            \"required\": True,\n",
    "            \"type\": \"string\"\n",
    "        },\n",
    "        \"limit\": {\n",
    "            \"description\": \"number of statements to retrieve\",\n",
    "            \"required\": True,\n",
    "            \"type\": \"integer\"\n",
    "        }\n",
    "    }\n",
    "},\n",
    "{\n",
    "    'name': 'get_cash_flow_statements',\n",
    "    'description': 'Get cash flow statements for a company',\n",
    "    'parameters': {\n",
    "        \"ticker\": {\n",
    "            \"description\": \"stock ticker symbol of the company\",\n",
    "            \"required\": True,\n",
    "            \"type\": \"string\"\n",
    "        },\n",
    "        \"period\": {\n",
    "            \"description\": \"period of statements (ttm, quarterly, or annual)\",\n",
    "            \"required\": True,\n",
    "            \"type\": \"string\"\n",
    "        },\n",
    "        \"limit\": {\n",
    "            \"description\": \"number of statements to retrieve\",\n",
    "            \"required\": True,\n",
    "            \"type\": \"integer\"\n",
    "        }\n",
    "    }\n",
    "}]"
   ]
  },
  {
   "cell_type": "markdown",
   "metadata": {},
   "source": [
    "### Add a lambda layer to the lambda function\n",
    "---\n",
    "\n",
    "In this section of the notebook, we will add a lambda layer to the lambda function. We will be installing `requests` to make requests to the financial data API key."
   ]
  },
  {
   "cell_type": "code",
   "execution_count": 8,
   "metadata": {},
   "outputs": [
    {
     "name": "stdout",
     "output_type": "stream",
     "text": [
      "Looking in indexes: https://pypi.org/simple, https://pypi.ngc.nvidia.com\n",
      "Collecting requests\n",
      "  Downloading requests-2.32.3-py3-none-any.whl.metadata (4.6 kB)\n",
      "Collecting charset-normalizer<4,>=2 (from requests)\n",
      "  Downloading charset_normalizer-3.4.0-cp311-cp311-macosx_11_0_arm64.whl.metadata (34 kB)\n",
      "Collecting idna<4,>=2.5 (from requests)\n",
      "  Downloading idna-3.10-py3-none-any.whl.metadata (10 kB)\n",
      "Collecting urllib3<3,>=1.21.1 (from requests)\n",
      "  Downloading urllib3-2.2.3-py3-none-any.whl.metadata (6.5 kB)\n",
      "Collecting certifi>=2017.4.17 (from requests)\n",
      "  Downloading certifi-2024.12.14-py3-none-any.whl.metadata (2.3 kB)\n",
      "Downloading requests-2.32.3-py3-none-any.whl (64 kB)\n",
      "Downloading certifi-2024.12.14-py3-none-any.whl (164 kB)\n",
      "Downloading charset_normalizer-3.4.0-cp311-cp311-macosx_11_0_arm64.whl (118 kB)\n",
      "Downloading idna-3.10-py3-none-any.whl (70 kB)\n",
      "Downloading urllib3-2.2.3-py3-none-any.whl (126 kB)\n",
      "Installing collected packages: urllib3, idna, charset-normalizer, certifi, requests\n"
     ]
    },
    {
     "name": "stderr",
     "output_type": "stream",
     "text": [
      "\u001b[31mERROR: pip's dependency resolver does not currently take into account all the packages that are installed. This behaviour is the source of the following dependency conflicts.\n",
      "conda-repo-cli 1.0.75 requires requests_mock, which is not installed.\n",
      "langchain-community 0.2.17 requires langchain-core<0.3.0,>=0.2.39, but you have langchain-core 0.3.24 which is incompatible.\n",
      "langchain-community 0.2.17 requires langsmith<0.2.0,>=0.1.112, but you have langsmith 0.2.3 which is incompatible.\n",
      "langchain-community 0.2.17 requires tenacity!=8.4.0,<9.0.0,>=8.1.0, but you have tenacity 9.0.0 which is incompatible.\n",
      "streamlit 1.30.0 requires packaging<24,>=16.8, but you have packaging 24.2 which is incompatible.\n",
      "streamlit 1.30.0 requires protobuf<5,>=3.20, but you have protobuf 5.28.3 which is incompatible.\n",
      "streamlit 1.30.0 requires tenacity<9,>=8.1.0, but you have tenacity 9.0.0 which is incompatible.\n",
      "cohere 5.3.4 requires tokenizers<0.20,>=0.19, but you have tokenizers 0.20.1 which is incompatible.\n",
      "llama-index-legacy 0.9.48 requires tenacity<9.0.0,>=8.2.0, but you have tenacity 9.0.0 which is incompatible.\n",
      "conda-repo-cli 1.0.75 requires clyent==1.2.1, but you have clyent 1.2.2 which is incompatible.\n",
      "conda-repo-cli 1.0.75 requires python-dateutil==2.8.2, but you have python-dateutil 2.9.0.post0 which is incompatible.\n",
      "conda-repo-cli 1.0.75 requires PyYAML==6.0.1, but you have pyyaml 6.0.2 which is incompatible.\n",
      "conda-repo-cli 1.0.75 requires requests==2.31.0, but you have requests 2.32.3 which is incompatible.\n",
      "sagemaker 2.232.2 requires attrs<24,>=23.1.0, but you have attrs 24.2.0 which is incompatible.\n",
      "sagemaker 2.232.2 requires protobuf<5.0,>=3.12, but you have protobuf 5.28.3 which is incompatible.\n",
      "gradientai 1.11.0 requires pydantic<2.0.0,>=1.10.5, but you have pydantic 2.9.2 which is incompatible.\n",
      "deepeval 0.20.57 requires protobuf==4.25.1, but you have protobuf 5.28.3 which is incompatible.\n",
      "langchain 0.2.16 requires langchain-core<0.3.0,>=0.2.38, but you have langchain-core 0.3.24 which is incompatible.\n",
      "langchain 0.2.16 requires langsmith<0.2.0,>=0.1.17, but you have langsmith 0.2.3 which is incompatible.\n",
      "langchain 0.2.16 requires tenacity!=8.4.0,<9.0.0,>=8.1.0, but you have tenacity 9.0.0 which is incompatible.\n",
      "llama-index-finetuning 0.1.5 requires sentence-transformers<3.0.0,>=2.3.0, but you have sentence-transformers 3.3.1 which is incompatible.\n",
      "anaconda-cloud-auth 0.1.4 requires pydantic<2.0, but you have pydantic 2.9.2 which is incompatible.\n",
      "llama-index-core 0.10.34 requires tenacity<9.0.0,>=8.2.0, but you have tenacity 9.0.0 which is incompatible.\n",
      "farm-haystack 1.26.4 requires pydantic<2, but you have pydantic 2.9.2 which is incompatible.\u001b[0m\u001b[31m\n",
      "\u001b[0m"
     ]
    },
    {
     "name": "stdout",
     "output_type": "stream",
     "text": [
      "Successfully installed certifi-2024.12.14 charset-normalizer-3.4.0 idna-3.10 requests-2.32.3 urllib3-2.2.3\n"
     ]
    }
   ],
   "source": [
    "# Create and publish the layer\n",
    "# In this case we want to add a layer to the lambda containing files to import the requests library\n",
    "layer_zip = create_lambda_layer(['requests'])\n",
    "layer_arn = publish_layer('fundamental-agent-lambda-layer')"
   ]
  },
  {
   "cell_type": "markdown",
   "metadata": {},
   "source": [
    "### Create agent\n",
    "---\n",
    "\n",
    "Next we will create the agent with the provided information. In this, we will use the prompt configuration, the lambda function and lambda layers, update the lambda function to contain the `FINANCIAL_DATASETS_API_KEY` that the agent can use to fetch data to user inputs, and then finally create the agent."
   ]
  },
  {
   "cell_type": "code",
   "execution_count": 9,
   "metadata": {},
   "outputs": [],
   "source": [
    "action_group_config = {\n",
    "    'name': 'FundamentalAnalysisActionGroup',\n",
    "    'description': 'Action group to analyze company financial statements using income statement data',\n",
    "    'functions': functions,\n",
    "    'lambda_function_name': f'{SUB_AGENT_FUNDAMENTAL_ANALYST}-lambda',\n",
    "    'lambda_file_path': FUNDAMENTAL_LAMBDA_FUNCTION_NAME,\n",
    "    # Adding the lambda layer that contains the requests installation\n",
    "    'lambda_layers': [layer_arn]\n",
    "}\n",
    "\n",
    "# Create a Lambda client and attach the API key as env variable to the lambda function\n",
    "lambda_client = boto3.client('lambda')\n",
    "lambda_function_name = action_group_config['lambda_function_name']\n",
    "environment_variables = {\n",
    "    'FINANCIAL_DATASETS_API_KEY': os.getenv('FINANCIAL_DATASETS_API_KEY')\n",
    "}"
   ]
  },
  {
   "cell_type": "code",
   "execution_count": 10,
   "metadata": {},
   "outputs": [
    {
     "name": "stdout",
     "output_type": "stream",
     "text": [
      "creating agent\n",
      "Policy fundamental-analyst-agent-ba already exists\n",
      "Checking if AmazonBedrockExecutionRoleForAgents_fundamental-analyst-agent role also exists\n",
      "Detaching and deleting fundamental-analyst-agent-ba\n",
      "deleting AmazonBedrockExecutionRoleForAgents_fundamental-analyst-agent\n",
      "Recreating fundamental-analyst-agent-ba\n",
      "creating and attaching action group\n",
      "Role already exists -- deleting and creating it again\n",
      "Detaching AWSLambdaBasicExecutionRole\n",
      "Detaching AmazonDynamoDBFullAccess\n",
      "deleting fundamental-analyst-agent-lambda-role\n",
      "recreating fundamental-analyst-agent-lambda-role\n",
      "attaching basic lambda permissions to fundamental-analyst-agent-lambda-role\n",
      "attaching dynamodb permissions to fundamental-analyst-agent-lambda-role\n",
      "fundamental-analyst-agent-lambda already exists, deleting it and recreating\n",
      "Agent id WH3Y06UPJI current status: NOT_PREPARED\n",
      "Waiting for agent status to change. Current status PREPARING\n",
      "Agent id WH3Y06UPJI current status: PREPARED\n",
      "Waiting for agent status to change. Current status VERSIONING\n",
      "Agent id WH3Y06UPJI current status: PREPARED\n"
     ]
    }
   ],
   "source": [
    "# Create the fundamental analyst agent\n",
    "fundamental_analyst_agent_id, fundamental_analyst_agent_alias_id, fundamental_analyst_agent_alias_arn = create_agent(\n",
    "    SUB_AGENT_FUNDAMENTAL_ANALYST,\n",
    "    agent_instruction,\n",
    "    agent_foundation_model=BEDROCK_MODEL_CLAUDE_HAIKU,\n",
    "    agent_description=agent_description,\n",
    "    action_group_config=action_group_config\n",
    ")"
   ]
  },
  {
   "cell_type": "code",
   "execution_count": 11,
   "metadata": {},
   "outputs": [],
   "source": [
    "# Update the Lambda function's configuration to include the environment variables\n",
    "# In the case of this agent, we need the financial dataset API as an env variable passed to the lambda\n",
    "# so that it can be used in fetching data based on user questions\n",
    "response = lambda_client.update_function_configuration(\n",
    "    FunctionName=lambda_function_name,\n",
    "    Environment={\n",
    "        'Variables': environment_variables\n",
    "    },\n",
    "    Layers=action_group_config['lambda_layers']\n",
    ")"
   ]
  },
  {
   "cell_type": "markdown",
   "metadata": {},
   "source": [
    "### Getting details from the agent\n",
    "--- \n",
    "Let's take a look at the details from the created agent."
   ]
  },
  {
   "cell_type": "code",
   "execution_count": 12,
   "metadata": {},
   "outputs": [
    {
     "data": {
      "text/plain": [
       "('WH3Y06UPJI',\n",
       " '4JZJVMDGU6',\n",
       " 'arn:aws:bedrock:us-east-1:218208277580:agent-alias/WH3Y06UPJI/4JZJVMDGU6')"
      ]
     },
     "execution_count": 12,
     "metadata": {},
     "output_type": "execute_result"
    }
   ],
   "source": [
    "fundamental_analyst_agent_id, fundamental_analyst_agent_alias_id, fundamental_analyst_agent_alias_arn"
   ]
  },
  {
   "cell_type": "markdown",
   "metadata": {},
   "source": [
    "### Testing the Fundamental Analyst agent\n",
    "---\n",
    "\n",
    "Now that we've created the agent, let's test it by using our `invoke_agent_helper` function. Here, we will invoke the `fundamental analyst` agent to provide balance sheet information, income statements and cash flow information based on the question provided by the user.\n",
    "\n",
    "Since the `invoke_agent_helper` is wrapped with a `weave` decorator, it will log the input/outputs or any errors to your weave account dashboard. To create a weave API key, refer to the following link: https://wandb.ai/site/weave/"
   ]
  },
  {
   "cell_type": "code",
   "execution_count": 13,
   "metadata": {},
   "outputs": [],
   "source": [
    "# sleep for 30 seconds before invoking the agent\n",
    "time.sleep(30)"
   ]
  },
  {
   "cell_type": "code",
   "execution_count": 14,
   "metadata": {},
   "outputs": [
    {
     "name": "stderr",
     "output_type": "stream",
     "text": [
      "[2024-12-17 19:39:22,762] p85944 {agents.py:760} INFO - invoke_agent response metadata:\n",
      "[2024-12-17 19:39:22,763] p85944 {agents.py:761} INFO - {\n",
      "  \"RequestId\": \"9a06d10e-fe32-483a-8e1b-aa320585e782\",\n",
      "  \"HTTPStatusCode\": 200,\n",
      "  \"HTTPHeaders\": {\n",
      "    \"date\": \"Wed, 18 Dec 2024 00:39:22 GMT\",\n",
      "    \"content-type\": \"application/vnd.amazon.eventstream\",\n",
      "    \"transfer-encoding\": \"chunked\",\n",
      "    \"connection\": \"keep-alive\",\n",
      "    \"x-amzn-requestid\": \"9a06d10e-fe32-483a-8e1b-aa320585e782\",\n",
      "    \"x-amz-bedrock-agent-session-id\": \"8670aa8c-bcd8-11ef-b7cc-168aeb12c117\",\n",
      "    \"x-amzn-bedrock-agent-content-type\": \"application/json\"\n",
      "  },\n",
      "  \"RetryAttempts\": 0\n",
      "}\n",
      "[2024-12-17 19:39:22,976] p85944 {agents.py:787} INFO - ==== Trace Event Received ====\n",
      "[2024-12-17 19:39:22,976] p85944 {agents.py:790} INFO - callerChain: [\n",
      "  {\n",
      "    \"agentAliasArn\": \"arn:aws:bedrock:us-east-1:218208277580:agent-alias/WH3Y06UPJI/4JZJVMDGU6\"\n",
      "  }\n",
      "]\n",
      "[2024-12-17 19:39:22,977] p85944 {agents.py:803} INFO - Orchestration Trace Detected\n",
      "[2024-12-17 19:39:24,698] p85944 {agents.py:787} INFO - ==== Trace Event Received ====\n",
      "[2024-12-17 19:39:24,699] p85944 {agents.py:790} INFO - callerChain: [\n",
      "  {\n",
      "    \"agentAliasArn\": \"arn:aws:bedrock:us-east-1:218208277580:agent-alias/WH3Y06UPJI/4JZJVMDGU6\"\n",
      "  }\n",
      "]\n",
      "[2024-12-17 19:39:24,700] p85944 {agents.py:803} INFO - Orchestration Trace Detected\n",
      "[2024-12-17 19:39:24,700] p85944 {agents.py:787} INFO - ==== Trace Event Received ====\n",
      "[2024-12-17 19:39:24,701] p85944 {agents.py:790} INFO - callerChain: [\n",
      "  {\n",
      "    \"agentAliasArn\": \"arn:aws:bedrock:us-east-1:218208277580:agent-alias/WH3Y06UPJI/4JZJVMDGU6\"\n",
      "  }\n",
      "]\n",
      "[2024-12-17 19:39:24,702] p85944 {agents.py:803} INFO - Orchestration Trace Detected\n",
      "[2024-12-17 19:39:24,703] p85944 {agents.py:806} INFO - Agent Rationale: To get the income statements for AAPL in 2023, I will call the FundamentalAnalysisActionGroup::get_income_statements function with the following parameters:\n",
      "[2024-12-17 19:39:27,969] p85944 {agents.py:787} INFO - ==== Trace Event Received ====\n",
      "[2024-12-17 19:39:27,970] p85944 {agents.py:790} INFO - callerChain: [\n",
      "  {\n",
      "    \"agentAliasArn\": \"arn:aws:bedrock:us-east-1:218208277580:agent-alias/WH3Y06UPJI/4JZJVMDGU6\"\n",
      "  }\n",
      "]\n",
      "[2024-12-17 19:39:27,970] p85944 {agents.py:803} INFO - Orchestration Trace Detected\n",
      "[2024-12-17 19:39:27,971] p85944 {agents.py:787} INFO - ==== Trace Event Received ====\n",
      "[2024-12-17 19:39:27,972] p85944 {agents.py:790} INFO - callerChain: [\n",
      "  {\n",
      "    \"agentAliasArn\": \"arn:aws:bedrock:us-east-1:218208277580:agent-alias/WH3Y06UPJI/4JZJVMDGU6\"\n",
      "  }\n",
      "]\n",
      "[2024-12-17 19:39:27,973] p85944 {agents.py:803} INFO - Orchestration Trace Detected\n",
      "[2024-12-17 19:39:27,975] p85944 {agents.py:808} INFO - Agent Observation: {\n",
      "  \"actionGroupInvocationOutput\": {\n",
      "    \"text\": \"{\\\"income_statements\\\": [{\\\"ticker\\\": \\\"AAPL\\\", \\\"calendar_date\\\": \\\"2024-12-31\\\", \\\"report_period\\\": \\\"2024-09-28\\\", \\\"period\\\": \\\"annual\\\", \\\"currency\\\": \\\"USD\\\", \\\"revenue\\\": 391035000000.0, \\\"cost_of_revenue\\\": 210352000000.0, \\\"gross_profit\\\": 180683000000.0, \\\"operating_expense\\\": 57467000000.0, \\\"selling_general_and_administrative_expenses\\\": 26097000000.0, \\\"research_and_development\\\": 31370000000.0, \\\"operating_income\\\": 123216000000.0, \\\"interest_expense\\\": 0.0, \\\"ebit\\\": 123485000000.0, \\\"income_tax_expense\\\": 29749000000.0, \\\"net_income_discontinued_operations\\\": 0.0, \\\"net_income_non_controlling_interests\\\": 0.0, \\\"net_income\\\": 93736000000.0, \\\"net_income_common_stock\\\": 93736000000.0, \\\"preferred_dividends_impact\\\": 0.0, \\\"consolidated_income\\\": 93736000000.0, \\\"earnings_per_share\\\": 6.11, \\\"earnings_per_share_diluted\\\": 6.08, \\\"dividends_per_common_share\\\": 0.98, \\\"weighted_average_shares\\\": 15343783000.0, \\\"weighted_average_shares_diluted\\\": 15408095000.0}, {\\\"ticker\\\": \\\"AAPL\\\", \\\"calendar_date\\\": \\\"2023-12-31\\\", \\\"report_period\\\": \\\"2023-09-30\\\", \\\"period\\\": \\\"annual\\\", \\\"currency\\\": \\\"USD\\\", \\\"revenue\\\": 383285000000.0, \\\"cost_of_revenue\\\": 214137000000.0, \\\"gross_profit\\\": 169148000000.0, \\\"operating_expense\\\": 54847000000.0, \\\"selling_general_and_administrative_expenses\\\": 24932000000.0, \\\"research_and_development\\\": 29915000000.0, \\\"operating_income\\\": 114301000000.0, \\\"interest_expense\\\": 0.0, \\\"ebit\\\": 113736000000.0, \\\"income_tax_expense\\\": 16741000000.0, \\\"net_income_discontinued_operations\\\": 0.0, \\\"net_income_non_controlling_interests\\\": 0.0, \\\"net_income\\\": 96995000000.0, \\\"net_income_common_stock\\\": 96995000000.0, \\\"preferred_dividends_impact\\\": 0.0, \\\"consolidated_income\\\": 96995000000.0, \\\"earnings_per_share\\\": 6.16, \\\"earnings_per_share_diluted\\\": 6.13, \\\"dividends_per_common_share\\\": 0.94, \\\"weighted_average_shares\\\": 15744231000.0, \\\"weighted_average_shares_diluted\\\": 15812547000.0}, {\\\"ticker\\\": \\\"AAPL\\\", \\\"calendar_date\\\": \\\"2022-12-31\\\", \\\"report_period\\\": \\\"2022-09-24\\\", \\\"period\\\": \\\"annual\\\", \\\"currency\\\": \\\"USD\\\", \\\"revenue\\\": 394328000000.0, \\\"cost_of_revenue\\\": 223546000000.0, \\\"gross_profit\\\": 170782000000.0, \\\"operating_expense\\\": 51345000000.0, \\\"selling_general_and_administrative_expenses\\\": 25094000000.0, \\\"research_and_development\\\": 26251000000.0, \\\"operating_income\\\": 119437000000.0, \\\"interest_expense\\\": 0.0, \\\"ebit\\\": 119103000000.0, \\\"income_tax_expense\\\": 19300000000.0, \\\"net_income_discontinued_operations\\\": 0.0, \\\"net_income_non_controlling_interests\\\": 0.0, \\\"net_income\\\": 99803000000.0, \\\"net_income_common_stock\\\": 99803000000.0, \\\"preferred_dividends_impact\\\": 0.0, \\\"consolidated_income\\\": 99803000000.0, \\\"earnings_per_share\\\": 6.15, \\\"earnings_per_share_diluted\\\": 6.11, \\\"dividends_per_common_share\\\": 0.9, \\\"weighted_average_shares\\\": 16215963000.0, \\\"weighted_average_shares_diluted\\\": 16325819000.0}, {\\\"ticker\\\": \\\"AAPL\\\", \\\"calendar_date\\\": \\\"2021-12-31\\\", \\\"report_period\\\": \\\"2021-09-25\\\", \\\"period\\\": \\\"annual\\\", \\\"currency\\\": \\\"USD\\\", \\\"revenue\\\": 365817000000.0, \\\"cost_of_revenue\\\": 212981000000.0, \\\"gross_profit\\\": 152836000000.0, \\\"operating_expense\\\": 43887000000.0, \\\"selling_general_and_administrative_expenses\\\": 21973000000.0, \\\"research_and_development\\\": 21914000000.0, \\\"operating_income\\\": 108949000000.0, \\\"interest_expense\\\": 2645000000.0, \\\"ebit\\\": 111852000000.0, \\\"income_tax_expense\\\": 14527000000.0, \\\"net_income_discontinued_operations\\\": 0.0, \\\"net_income_non_controlling_interests\\\": 0.0, \\\"net_income\\\": 94680000000.0, \\\"net_income_common_stock\\\": 94680000000.0, \\\"preferred_dividends_impact\\\": 0.0, \\\"consolidated_income\\\": 94680000000.0, \\\"earnings_per_share\\\": 5.67, \\\"earnings_per_share_diluted\\\": 5.61, \\\"dividends_per_common_share\\\": 0.85, \\\"weighted_average_shares\\\": 16701272000.0, \\\"weighted_average_shares_diluted\\\": 16864919000.0}]}\"\n",
      "  },\n",
      "  \"traceId\": \"9a06d10e-fe32-483a-8e1b-aa320585e782-0\",\n",
      "  \"type\": \"ACTION_GROUP\"\n",
      "}\n",
      "[2024-12-17 19:39:27,984] p85944 {agents.py:787} INFO - ==== Trace Event Received ====\n",
      "[2024-12-17 19:39:27,985] p85944 {agents.py:790} INFO - callerChain: [\n",
      "  {\n",
      "    \"agentAliasArn\": \"arn:aws:bedrock:us-east-1:218208277580:agent-alias/WH3Y06UPJI/4JZJVMDGU6\"\n",
      "  }\n",
      "]\n",
      "[2024-12-17 19:39:27,985] p85944 {agents.py:803} INFO - Orchestration Trace Detected\n",
      "[2024-12-17 19:39:32,257] p85944 {agents.py:787} INFO - ==== Trace Event Received ====\n",
      "[2024-12-17 19:39:32,258] p85944 {agents.py:790} INFO - callerChain: [\n",
      "  {\n",
      "    \"agentAliasArn\": \"arn:aws:bedrock:us-east-1:218208277580:agent-alias/WH3Y06UPJI/4JZJVMDGU6\"\n",
      "  }\n",
      "]\n",
      "[2024-12-17 19:39:32,259] p85944 {agents.py:803} INFO - Orchestration Trace Detected\n",
      "[2024-12-17 19:39:32,260] p85944 {agents.py:787} INFO - ==== Trace Event Received ====\n",
      "[2024-12-17 19:39:32,260] p85944 {agents.py:790} INFO - callerChain: [\n",
      "  {\n",
      "    \"agentAliasArn\": \"arn:aws:bedrock:us-east-1:218208277580:agent-alias/WH3Y06UPJI/4JZJVMDGU6\"\n",
      "  }\n",
      "]\n",
      "[2024-12-17 19:39:32,263] p85944 {agents.py:803} INFO - Orchestration Trace Detected\n",
      "[2024-12-17 19:39:32,265] p85944 {agents.py:806} INFO - Agent Rationale: The income statement data for AAPL in 2023 shows the following key highlights:\n",
      "\n",
      "- Revenue in 2023 was $383.285 billion, up from $365.817 billion in 2021.\n",
      "- Gross profit in 2023 was $169.148 billion, up from $152.836 billion in 2021.\n",
      "- Operating income in 2023 was $114.301 billion, up from $108.949 billion in 2021.\n",
      "- Net income in 2023 was $96.995 billion, up from $94.680 billion in 2021.\n",
      "- Earnings per share (diluted) in 2023 was $6.13, up from $5.61 in 2021.\n",
      "- The company paid $0.94 per share in dividends in 2023, up from $0.85 per share in 2021.\n",
      "\n",
      "Overall, the income statement data shows continued growth in revenue, profitability, and earnings per share for AAPL in 2023 compared to the prior year.\n",
      "[2024-12-17 19:39:32,273] p85944 {agents.py:787} INFO - ==== Trace Event Received ====\n",
      "[2024-12-17 19:39:32,274] p85944 {agents.py:790} INFO - callerChain: [\n",
      "  {\n",
      "    \"agentAliasArn\": \"arn:aws:bedrock:us-east-1:218208277580:agent-alias/WH3Y06UPJI/4JZJVMDGU6\"\n",
      "  }\n",
      "]\n",
      "[2024-12-17 19:39:32,275] p85944 {agents.py:803} INFO - Orchestration Trace Detected\n",
      "[2024-12-17 19:39:32,277] p85944 {agents.py:808} INFO - Agent Observation: {\n",
      "  \"finalResponse\": {\n",
      "    \"text\": \"The key highlights from the income statements for Apple (AAPL) in 2023 are:\\n\\n- Revenue: $383.285 billion, up from $365.817 billion in 2021\\n- Gross Profit: $169.148 billion, up from $152.836 billion in 2021\\n- Operating Income: $114.301 billion, up from $108.949 billion in 2021 \\n- Net Income: $96.995 billion, up from $94.680 billion in 2021\\n- Earnings Per Share (diluted): $6.13, up from $5.61 in 2021\\n- Dividends Per Share: $0.94, up from $0.85 in 2021\\n\\nThe income statement data shows continued growth in revenue, profitability, and earnings per share for Apple in 2023 compared to the prior year.\"\n",
      "  },\n",
      "  \"traceId\": \"9a06d10e-fe32-483a-8e1b-aa320585e782-1\",\n",
      "  \"type\": \"FINISH\"\n",
      "}\n",
      "[2024-12-17 19:39:32,279] p85944 {agents.py:770} INFO - ==== Final Answer Chunk Received ====\n",
      "[2024-12-17 19:39:32,280] p85944 {agents.py:771} INFO - The key highlights from the income statements for Apple (AAPL) in 2023 are:\n",
      "\n",
      "- Revenue: $383.285 billion, up from $365.817 billion in 2021\n",
      "- Gross Profit: $169.148 billion, up from $152.836 billion in 2021\n",
      "- Operating Income: $114.301 billion, up from $108.949 billion in 2021 \n",
      "- Net Income: $96.995 billion, up from $94.680 billion in 2021\n",
      "- Earnings Per Share (diluted): $6.13, up from $5.61 in 2021\n",
      "- Dividends Per Share: $0.94, up from $0.85 in 2021\n",
      "\n",
      "The income statement data shows continued growth in revenue, profitability, and earnings per share for Apple in 2023 compared to the prior year.\n"
     ]
    },
    {
     "name": "stdout",
     "output_type": "stream",
     "text": [
      "🍩 https://wandb.ai/madhur-prash-none/multi-agent-collaboration/r/call/0193d734-8107-7c90-bf52-c63ed602beb0\n",
      "The key highlights from the income statements for Apple (AAPL) in 2023 are:\n",
      "\n",
      "- Revenue: $383.285 billion, up from $365.817 billion in 2021\n",
      "- Gross Profit: $169.148 billion, up from $152.836 billion in 2021\n",
      "- Operating Income: $114.301 billion, up from $108.949 billion in 2021 \n",
      "- Net Income: $96.995 billion, up from $94.680 billion in 2021\n",
      "- Earnings Per Share (diluted): $6.13, up from $5.61 in 2021\n",
      "- Dividends Per Share: $0.94, up from $0.85 in 2021\n",
      "\n",
      "The income statement data shows continued growth in revenue, profitability, and earnings per share for Apple in 2023 compared to the prior year.\n",
      "CPU times: user 72.3 ms, sys: 22.3 ms, total: 94.6 ms\n",
      "Wall time: 9.66 s\n"
     ]
    }
   ],
   "source": [
    "%%time\n",
    "import uuid\n",
    "session_id:str = str(uuid.uuid1())\n",
    "query = \"\"\"Summarize income statements for AAPL in 2023\"\"\"\n",
    "response = invoke_agent_helper(\n",
    "    query, session_id, fundamental_analyst_agent_id, fundamental_analyst_agent_alias_id, enable_trace=True\n",
    ")\n",
    "print(response)"
   ]
  },
  {
   "cell_type": "markdown",
   "metadata": {},
   "source": [
    "As seen from above, the agent rationalizes and uses the `get_income_statements` from the `FundamentalAnalysisActionGroup` to get the summary of the income statements for `AAPL`. View the API usage of the financial dataset website below that the agent calls to get the relevant data to answer the user question.\n",
    "\n",
    "![api-usage](images/api-usage.png)"
   ]
  },
  {
   "cell_type": "code",
   "execution_count": 15,
   "metadata": {},
   "outputs": [
    {
     "name": "stderr",
     "output_type": "stream",
     "text": [
      "[2024-12-17 19:39:32,403] p85944 {agents.py:760} INFO - invoke_agent response metadata:\n",
      "[2024-12-17 19:39:32,404] p85944 {agents.py:761} INFO - {\n",
      "  \"RequestId\": \"1568b0a4-ca41-40e9-955e-24b9998f5bff\",\n",
      "  \"HTTPStatusCode\": 200,\n",
      "  \"HTTPHeaders\": {\n",
      "    \"date\": \"Wed, 18 Dec 2024 00:39:32 GMT\",\n",
      "    \"content-type\": \"application/vnd.amazon.eventstream\",\n",
      "    \"transfer-encoding\": \"chunked\",\n",
      "    \"connection\": \"keep-alive\",\n",
      "    \"x-amzn-requestid\": \"1568b0a4-ca41-40e9-955e-24b9998f5bff\",\n",
      "    \"x-amz-bedrock-agent-session-id\": \"8c33c436-bcd8-11ef-b7cc-168aeb12c117\",\n",
      "    \"x-amzn-bedrock-agent-content-type\": \"application/json\"\n",
      "  },\n",
      "  \"RetryAttempts\": 0\n",
      "}\n",
      "[2024-12-17 19:39:32,587] p85944 {agents.py:787} INFO - ==== Trace Event Received ====\n",
      "[2024-12-17 19:39:32,588] p85944 {agents.py:790} INFO - callerChain: [\n",
      "  {\n",
      "    \"agentAliasArn\": \"arn:aws:bedrock:us-east-1:218208277580:agent-alias/WH3Y06UPJI/4JZJVMDGU6\"\n",
      "  }\n",
      "]\n",
      "[2024-12-17 19:39:32,588] p85944 {agents.py:803} INFO - Orchestration Trace Detected\n",
      "[2024-12-17 19:39:34,044] p85944 {agents.py:787} INFO - ==== Trace Event Received ====\n",
      "[2024-12-17 19:39:34,045] p85944 {agents.py:790} INFO - callerChain: [\n",
      "  {\n",
      "    \"agentAliasArn\": \"arn:aws:bedrock:us-east-1:218208277580:agent-alias/WH3Y06UPJI/4JZJVMDGU6\"\n",
      "  }\n",
      "]\n",
      "[2024-12-17 19:39:34,046] p85944 {agents.py:803} INFO - Orchestration Trace Detected\n",
      "[2024-12-17 19:39:34,047] p85944 {agents.py:787} INFO - ==== Trace Event Received ====\n",
      "[2024-12-17 19:39:34,049] p85944 {agents.py:790} INFO - callerChain: [\n",
      "  {\n",
      "    \"agentAliasArn\": \"arn:aws:bedrock:us-east-1:218208277580:agent-alias/WH3Y06UPJI/4JZJVMDGU6\"\n",
      "  }\n",
      "]\n",
      "[2024-12-17 19:39:34,050] p85944 {agents.py:803} INFO - Orchestration Trace Detected\n",
      "[2024-12-17 19:39:34,052] p85944 {agents.py:806} INFO - Agent Rationale: To answer this question, I will need to retrieve the balance sheet information for Apple Inc. (AAPL) for the first quarter of 2021. I will call the FundamentalAnalysisActionGroup::get_balance_sheets function to get the data.\n",
      "[2024-12-17 19:39:34,173] p85944 {agents.py:787} INFO - ==== Trace Event Received ====\n",
      "[2024-12-17 19:39:34,173] p85944 {agents.py:790} INFO - callerChain: [\n",
      "  {\n",
      "    \"agentAliasArn\": \"arn:aws:bedrock:us-east-1:218208277580:agent-alias/WH3Y06UPJI/4JZJVMDGU6\"\n",
      "  }\n",
      "]\n",
      "[2024-12-17 19:39:34,174] p85944 {agents.py:803} INFO - Orchestration Trace Detected\n",
      "[2024-12-17 19:39:34,178] p85944 {agents.py:787} INFO - ==== Trace Event Received ====\n",
      "[2024-12-17 19:39:34,179] p85944 {agents.py:790} INFO - callerChain: [\n",
      "  {\n",
      "    \"agentAliasArn\": \"arn:aws:bedrock:us-east-1:218208277580:agent-alias/WH3Y06UPJI/4JZJVMDGU6\"\n",
      "  }\n",
      "]\n",
      "[2024-12-17 19:39:34,179] p85944 {agents.py:803} INFO - Orchestration Trace Detected\n",
      "[2024-12-17 19:39:34,181] p85944 {agents.py:808} INFO - Agent Observation: {\n",
      "  \"actionGroupInvocationOutput\": {\n",
      "    \"text\": \"{\\\"balance_sheets\\\": [{\\\"ticker\\\": \\\"AAPL\\\", \\\"calendar_date\\\": \\\"2024-09-30\\\", \\\"report_period\\\": \\\"2024-09-28\\\", \\\"period\\\": \\\"quarterly\\\", \\\"currency\\\": \\\"USD\\\", \\\"total_assets\\\": 364980000000.0, \\\"current_assets\\\": 152987000000.0, \\\"cash_and_equivalents\\\": 29943000000.0, \\\"inventory\\\": 7286000000.0, \\\"current_investments\\\": 35228000000.0, \\\"trade_and_non_trade_receivables\\\": 66243000000.0, \\\"non_current_assets\\\": 211993000000.0, \\\"property_plant_and_equipment\\\": 45680000000.0, \\\"goodwill_and_intangible_assets\\\": 0.0, \\\"investments\\\": 126707000000.0, \\\"non_current_investments\\\": 91479000000.0, \\\"tax_assets\\\": 0.0, \\\"total_liabilities\\\": 308030000000.0, \\\"current_liabilities\\\": 176392000000.0, \\\"current_debt\\\": 20879000000.0, \\\"trade_and_non_trade_payables\\\": 68960000000.0, \\\"deferred_revenue\\\": 8249000000.0, \\\"deposit_liabilities\\\": 0.0, \\\"non_current_liabilities\\\": 131638000000.0, \\\"non_current_debt\\\": 85750000000.0, \\\"tax_liabilities\\\": 0.0, \\\"shareholders_equity\\\": 56950000000.0, \\\"retained_earnings\\\": -19154000000.0, \\\"accumulated_other_comprehensive_income\\\": -7172000000.0, \\\"outstanding_shares\\\": 15204137000.0, \\\"total_debt\\\": 106629000000.0}]}\"\n",
      "  },\n",
      "  \"traceId\": \"1568b0a4-ca41-40e9-955e-24b9998f5bff-0\",\n",
      "  \"type\": \"ACTION_GROUP\"\n",
      "}\n",
      "[2024-12-17 19:39:34,184] p85944 {agents.py:787} INFO - ==== Trace Event Received ====\n",
      "[2024-12-17 19:39:34,184] p85944 {agents.py:790} INFO - callerChain: [\n",
      "  {\n",
      "    \"agentAliasArn\": \"arn:aws:bedrock:us-east-1:218208277580:agent-alias/WH3Y06UPJI/4JZJVMDGU6\"\n",
      "  }\n",
      "]\n",
      "[2024-12-17 19:39:34,185] p85944 {agents.py:803} INFO - Orchestration Trace Detected\n",
      "[2024-12-17 19:39:35,795] p85944 {agents.py:787} INFO - ==== Trace Event Received ====\n",
      "[2024-12-17 19:39:35,796] p85944 {agents.py:790} INFO - callerChain: [\n",
      "  {\n",
      "    \"agentAliasArn\": \"arn:aws:bedrock:us-east-1:218208277580:agent-alias/WH3Y06UPJI/4JZJVMDGU6\"\n",
      "  }\n",
      "]\n",
      "[2024-12-17 19:39:35,797] p85944 {agents.py:803} INFO - Orchestration Trace Detected\n",
      "[2024-12-17 19:39:35,798] p85944 {agents.py:787} INFO - ==== Trace Event Received ====\n",
      "[2024-12-17 19:39:35,799] p85944 {agents.py:790} INFO - callerChain: [\n",
      "  {\n",
      "    \"agentAliasArn\": \"arn:aws:bedrock:us-east-1:218208277580:agent-alias/WH3Y06UPJI/4JZJVMDGU6\"\n",
      "  }\n",
      "]\n",
      "[2024-12-17 19:39:35,800] p85944 {agents.py:803} INFO - Orchestration Trace Detected\n",
      "[2024-12-17 19:39:35,801] p85944 {agents.py:806} INFO - Agent Rationale: The data returned from the API call provides the latest quarterly balance sheet information for Apple Inc. (AAPL). However, the report period is for Q4 2024, not the first quarter of 2021 as requested. I will need to retrieve the balance sheet data for the correct time period.\n",
      "[2024-12-17 19:39:35,923] p85944 {agents.py:787} INFO - ==== Trace Event Received ====\n",
      "[2024-12-17 19:39:35,924] p85944 {agents.py:790} INFO - callerChain: [\n",
      "  {\n",
      "    \"agentAliasArn\": \"arn:aws:bedrock:us-east-1:218208277580:agent-alias/WH3Y06UPJI/4JZJVMDGU6\"\n",
      "  }\n",
      "]\n",
      "[2024-12-17 19:39:35,925] p85944 {agents.py:803} INFO - Orchestration Trace Detected\n",
      "[2024-12-17 19:39:35,925] p85944 {agents.py:787} INFO - ==== Trace Event Received ====\n",
      "[2024-12-17 19:39:35,926] p85944 {agents.py:790} INFO - callerChain: [\n",
      "  {\n",
      "    \"agentAliasArn\": \"arn:aws:bedrock:us-east-1:218208277580:agent-alias/WH3Y06UPJI/4JZJVMDGU6\"\n",
      "  }\n",
      "]\n",
      "[2024-12-17 19:39:35,927] p85944 {agents.py:803} INFO - Orchestration Trace Detected\n",
      "[2024-12-17 19:39:35,927] p85944 {agents.py:808} INFO - Agent Observation: {\n",
      "  \"actionGroupInvocationOutput\": {\n",
      "    \"text\": \"{\\\"balance_sheets\\\": [{\\\"ticker\\\": \\\"AAPL\\\", \\\"calendar_date\\\": \\\"2024-09-30\\\", \\\"report_period\\\": \\\"2024-09-28\\\", \\\"period\\\": \\\"quarterly\\\", \\\"currency\\\": \\\"USD\\\", \\\"total_assets\\\": 364980000000.0, \\\"current_assets\\\": 152987000000.0, \\\"cash_and_equivalents\\\": 29943000000.0, \\\"inventory\\\": 7286000000.0, \\\"current_investments\\\": 35228000000.0, \\\"trade_and_non_trade_receivables\\\": 66243000000.0, \\\"non_current_assets\\\": 211993000000.0, \\\"property_plant_and_equipment\\\": 45680000000.0, \\\"goodwill_and_intangible_assets\\\": 0.0, \\\"investments\\\": 126707000000.0, \\\"non_current_investments\\\": 91479000000.0, \\\"tax_assets\\\": 0.0, \\\"total_liabilities\\\": 308030000000.0, \\\"current_liabilities\\\": 176392000000.0, \\\"current_debt\\\": 20879000000.0, \\\"trade_and_non_trade_payables\\\": 68960000000.0, \\\"deferred_revenue\\\": 8249000000.0, \\\"deposit_liabilities\\\": 0.0, \\\"non_current_liabilities\\\": 131638000000.0, \\\"non_current_debt\\\": 85750000000.0, \\\"tax_liabilities\\\": 0.0, \\\"shareholders_equity\\\": 56950000000.0, \\\"retained_earnings\\\": -19154000000.0, \\\"accumulated_other_comprehensive_income\\\": -7172000000.0, \\\"outstanding_shares\\\": 15204137000.0, \\\"total_debt\\\": 106629000000.0}]}\"\n",
      "  },\n",
      "  \"traceId\": \"1568b0a4-ca41-40e9-955e-24b9998f5bff-1\",\n",
      "  \"type\": \"ACTION_GROUP\"\n",
      "}\n",
      "[2024-12-17 19:39:35,931] p85944 {agents.py:787} INFO - ==== Trace Event Received ====\n",
      "[2024-12-17 19:39:35,932] p85944 {agents.py:790} INFO - callerChain: [\n",
      "  {\n",
      "    \"agentAliasArn\": \"arn:aws:bedrock:us-east-1:218208277580:agent-alias/WH3Y06UPJI/4JZJVMDGU6\"\n",
      "  }\n",
      "]\n",
      "[2024-12-17 19:39:35,933] p85944 {agents.py:803} INFO - Orchestration Trace Detected\n",
      "[2024-12-17 19:39:37,910] p85944 {agents.py:787} INFO - ==== Trace Event Received ====\n",
      "[2024-12-17 19:39:37,911] p85944 {agents.py:790} INFO - callerChain: [\n",
      "  {\n",
      "    \"agentAliasArn\": \"arn:aws:bedrock:us-east-1:218208277580:agent-alias/WH3Y06UPJI/4JZJVMDGU6\"\n",
      "  }\n",
      "]\n",
      "[2024-12-17 19:39:37,912] p85944 {agents.py:803} INFO - Orchestration Trace Detected\n",
      "[2024-12-17 19:39:37,912] p85944 {agents.py:787} INFO - ==== Trace Event Received ====\n",
      "[2024-12-17 19:39:37,914] p85944 {agents.py:790} INFO - callerChain: [\n",
      "  {\n",
      "    \"agentAliasArn\": \"arn:aws:bedrock:us-east-1:218208277580:agent-alias/WH3Y06UPJI/4JZJVMDGU6\"\n",
      "  }\n",
      "]\n",
      "[2024-12-17 19:39:37,915] p85944 {agents.py:803} INFO - Orchestration Trace Detected\n",
      "[2024-12-17 19:39:37,917] p85944 {agents.py:806} INFO - Agent Rationale: I apologize, but I do not have access to the balance sheet information for Apple Inc. (AAPL) for the first quarter of 2021 as requested. The data I was able to retrieve is for a different time period. Without the specific financial data for the requested time frame, I cannot provide a complete answer to your question. I'm limited to only the information available through the financial dataset API I have access to.\n",
      "[2024-12-17 19:39:37,957] p85944 {agents.py:787} INFO - ==== Trace Event Received ====\n",
      "[2024-12-17 19:39:37,958] p85944 {agents.py:790} INFO - callerChain: [\n",
      "  {\n",
      "    \"agentAliasArn\": \"arn:aws:bedrock:us-east-1:218208277580:agent-alias/WH3Y06UPJI/4JZJVMDGU6\"\n",
      "  }\n",
      "]\n",
      "[2024-12-17 19:39:37,958] p85944 {agents.py:803} INFO - Orchestration Trace Detected\n",
      "[2024-12-17 19:39:37,959] p85944 {agents.py:808} INFO - Agent Observation: {\n",
      "  \"finalResponse\": {\n",
      "    \"text\": \"I do not have the balance sheet information for Apple Inc. (AAPL) for the first quarter of 2021.\"\n",
      "  },\n",
      "  \"traceId\": \"1568b0a4-ca41-40e9-955e-24b9998f5bff-2\",\n",
      "  \"type\": \"FINISH\"\n",
      "}\n",
      "[2024-12-17 19:39:37,959] p85944 {agents.py:770} INFO - ==== Final Answer Chunk Received ====\n",
      "[2024-12-17 19:39:37,961] p85944 {agents.py:771} INFO - I do not have the balance sheet information for Apple Inc. (AAPL) for the first quarter of 2021.\n"
     ]
    },
    {
     "name": "stdout",
     "output_type": "stream",
     "text": [
      "🍩 https://wandb.ai/madhur-prash-none/multi-agent-collaboration/r/call/0193d734-a6c6-7982-b469-b6f7ae75af9b\n",
      "I do not have the balance sheet information for Apple Inc. (AAPL) for the first quarter of 2021.\n",
      "CPU times: user 76.9 ms, sys: 18.9 ms, total: 95.8 ms\n",
      "Wall time: 5.67 s\n"
     ]
    }
   ],
   "source": [
    "%%time\n",
    "import uuid\n",
    "session_id:str = str(uuid.uuid1())\n",
    "query = \"\"\"What is AAPL's balance sheet information for the first quarter of May, 2021?\"\"\"\n",
    "response = invoke_agent_helper(\n",
    "    query, session_id, fundamental_analyst_agent_id, fundamental_analyst_agent_alias_id, enable_trace=True\n",
    ")\n",
    "print(response)"
   ]
  },
  {
   "cell_type": "code",
   "execution_count": 16,
   "metadata": {},
   "outputs": [
    {
     "name": "stderr",
     "output_type": "stream",
     "text": [
      "[2024-12-17 19:39:38,077] p85944 {agents.py:760} INFO - invoke_agent response metadata:\n",
      "[2024-12-17 19:39:38,078] p85944 {agents.py:761} INFO - {\n",
      "  \"RequestId\": \"c0c9e25d-4f0a-46af-865a-d5d021754cbe\",\n",
      "  \"HTTPStatusCode\": 200,\n",
      "  \"HTTPHeaders\": {\n",
      "    \"date\": \"Wed, 18 Dec 2024 00:39:38 GMT\",\n",
      "    \"content-type\": \"application/vnd.amazon.eventstream\",\n",
      "    \"transfer-encoding\": \"chunked\",\n",
      "    \"connection\": \"keep-alive\",\n",
      "    \"x-amzn-requestid\": \"c0c9e25d-4f0a-46af-865a-d5d021754cbe\",\n",
      "    \"x-amz-bedrock-agent-session-id\": \"8f96040e-bcd8-11ef-b7cc-168aeb12c117\",\n",
      "    \"x-amzn-bedrock-agent-content-type\": \"application/json\"\n",
      "  },\n",
      "  \"RetryAttempts\": 0\n",
      "}\n",
      "[2024-12-17 19:39:38,246] p85944 {agents.py:787} INFO - ==== Trace Event Received ====\n",
      "[2024-12-17 19:39:38,247] p85944 {agents.py:790} INFO - callerChain: [\n",
      "  {\n",
      "    \"agentAliasArn\": \"arn:aws:bedrock:us-east-1:218208277580:agent-alias/WH3Y06UPJI/4JZJVMDGU6\"\n",
      "  }\n",
      "]\n",
      "[2024-12-17 19:39:38,248] p85944 {agents.py:803} INFO - Orchestration Trace Detected\n",
      "[2024-12-17 19:39:39,815] p85944 {agents.py:787} INFO - ==== Trace Event Received ====\n",
      "[2024-12-17 19:39:39,815] p85944 {agents.py:790} INFO - callerChain: [\n",
      "  {\n",
      "    \"agentAliasArn\": \"arn:aws:bedrock:us-east-1:218208277580:agent-alias/WH3Y06UPJI/4JZJVMDGU6\"\n",
      "  }\n",
      "]\n",
      "[2024-12-17 19:39:39,815] p85944 {agents.py:803} INFO - Orchestration Trace Detected\n",
      "[2024-12-17 19:39:39,816] p85944 {agents.py:787} INFO - ==== Trace Event Received ====\n",
      "[2024-12-17 19:39:39,816] p85944 {agents.py:790} INFO - callerChain: [\n",
      "  {\n",
      "    \"agentAliasArn\": \"arn:aws:bedrock:us-east-1:218208277580:agent-alias/WH3Y06UPJI/4JZJVMDGU6\"\n",
      "  }\n",
      "]\n",
      "[2024-12-17 19:39:39,817] p85944 {agents.py:803} INFO - Orchestration Trace Detected\n",
      "[2024-12-17 19:39:39,818] p85944 {agents.py:806} INFO - Agent Rationale: To get the cash flow information for AAPL in 2024, I will need to call the FundamentalAnalysisActionGroup::get_cash_flow_statements function with the following parameters:\n",
      "[2024-12-17 19:39:39,958] p85944 {agents.py:787} INFO - ==== Trace Event Received ====\n",
      "[2024-12-17 19:39:39,959] p85944 {agents.py:790} INFO - callerChain: [\n",
      "  {\n",
      "    \"agentAliasArn\": \"arn:aws:bedrock:us-east-1:218208277580:agent-alias/WH3Y06UPJI/4JZJVMDGU6\"\n",
      "  }\n",
      "]\n",
      "[2024-12-17 19:39:39,960] p85944 {agents.py:803} INFO - Orchestration Trace Detected\n",
      "[2024-12-17 19:39:39,961] p85944 {agents.py:787} INFO - ==== Trace Event Received ====\n",
      "[2024-12-17 19:39:39,964] p85944 {agents.py:790} INFO - callerChain: [\n",
      "  {\n",
      "    \"agentAliasArn\": \"arn:aws:bedrock:us-east-1:218208277580:agent-alias/WH3Y06UPJI/4JZJVMDGU6\"\n",
      "  }\n",
      "]\n",
      "[2024-12-17 19:39:39,965] p85944 {agents.py:803} INFO - Orchestration Trace Detected\n",
      "[2024-12-17 19:39:39,966] p85944 {agents.py:808} INFO - Agent Observation: {\n",
      "  \"actionGroupInvocationOutput\": {\n",
      "    \"text\": \"{\\\"cash_flow_statements\\\": [{\\\"ticker\\\": \\\"AAPL\\\", \\\"calendar_date\\\": \\\"2024-12-31\\\", \\\"report_period\\\": \\\"2024-09-28\\\", \\\"period\\\": \\\"annual\\\", \\\"currency\\\": \\\"USD\\\", \\\"net_income\\\": 93736000000.0, \\\"depreciation_and_amortization\\\": 11445000000.0, \\\"share_based_compensation\\\": 11688000000.0, \\\"net_cash_flow_from_operations\\\": 118254000000.0, \\\"net_cash_flow_from_investing\\\": 2935000000.0, \\\"capital_expenditure\\\": -9447000000.0, \\\"property_plant_and_equipment\\\": -1965000000.0, \\\"business_acquisitions_and_disposals\\\": 0.0, \\\"investment_acquisitions_and_disposals\\\": 13690000000.0, \\\"net_cash_flow_from_financing\\\": -121983000000.0, \\\"issuance_or_repayment_of_debt_securities\\\": -5998000000.0, \\\"issuance_or_purchase_of_equity_shares\\\": -94949000000.0, \\\"dividends_and_other_cash_distributions\\\": -15234000000.0, \\\"change_in_cash_and_equivalents\\\": -794000000.0, \\\"effect_of_exchange_rate_changes\\\": 0.0, \\\"ending_cash_balance\\\": 29943000000.0, \\\"free_cash_flow\\\": 108807000000.0}]}\"\n",
      "  },\n",
      "  \"traceId\": \"c0c9e25d-4f0a-46af-865a-d5d021754cbe-0\",\n",
      "  \"type\": \"ACTION_GROUP\"\n",
      "}\n",
      "[2024-12-17 19:39:39,968] p85944 {agents.py:787} INFO - ==== Trace Event Received ====\n",
      "[2024-12-17 19:39:39,969] p85944 {agents.py:790} INFO - callerChain: [\n",
      "  {\n",
      "    \"agentAliasArn\": \"arn:aws:bedrock:us-east-1:218208277580:agent-alias/WH3Y06UPJI/4JZJVMDGU6\"\n",
      "  }\n",
      "]\n",
      "[2024-12-17 19:39:39,970] p85944 {agents.py:803} INFO - Orchestration Trace Detected\n",
      "[2024-12-17 19:39:42,669] p85944 {agents.py:787} INFO - ==== Trace Event Received ====\n",
      "[2024-12-17 19:39:42,670] p85944 {agents.py:790} INFO - callerChain: [\n",
      "  {\n",
      "    \"agentAliasArn\": \"arn:aws:bedrock:us-east-1:218208277580:agent-alias/WH3Y06UPJI/4JZJVMDGU6\"\n",
      "  }\n",
      "]\n",
      "[2024-12-17 19:39:42,671] p85944 {agents.py:803} INFO - Orchestration Trace Detected\n",
      "[2024-12-17 19:39:42,715] p85944 {agents.py:787} INFO - ==== Trace Event Received ====\n",
      "[2024-12-17 19:39:42,716] p85944 {agents.py:790} INFO - callerChain: [\n",
      "  {\n",
      "    \"agentAliasArn\": \"arn:aws:bedrock:us-east-1:218208277580:agent-alias/WH3Y06UPJI/4JZJVMDGU6\"\n",
      "  }\n",
      "]\n",
      "[2024-12-17 19:39:42,717] p85944 {agents.py:803} INFO - Orchestration Trace Detected\n",
      "[2024-12-17 19:39:42,718] p85944 {agents.py:808} INFO - Agent Observation: {\n",
      "  \"finalResponse\": {\n",
      "    \"text\": \"Based on the cash flow statement data for Apple (AAPL) in 2024:\\n\\n- Net cash flow from operations was $118,254 million\\n- Capital expenditures were $9,447 million\\n- Net cash flow from investing activities was $2,935 million, including $13,690 million from investment acquisitions and disposals\\n- Net cash flow from financing activities was -$121,983 million, including $94,949 million from issuance or purchase of equity shares and $15,234 million in dividends and other cash distributions\\n- The overall change in cash and equivalents was -$794 million\\n- The ending cash balance was $29,943 million\\n- The free cash flow (net cash flow from operations minus capital expenditures) was $108,807 million\\n\\nSo in summary, Apple generated strong operating cash flow in 2024 but used a significant amount of cash for financing activities like share repurchases and dividends, resulting in a small net decrease in cash for the year.\"\n",
      "  },\n",
      "  \"traceId\": \"c0c9e25d-4f0a-46af-865a-d5d021754cbe-1\",\n",
      "  \"type\": \"FINISH\"\n",
      "}\n",
      "[2024-12-17 19:39:42,719] p85944 {agents.py:770} INFO - ==== Final Answer Chunk Received ====\n",
      "[2024-12-17 19:39:42,720] p85944 {agents.py:771} INFO - Based on the cash flow statement data for Apple (AAPL) in 2024:\n",
      "\n",
      "- Net cash flow from operations was $118,254 million\n",
      "- Capital expenditures were $9,447 million\n",
      "- Net cash flow from investing activities was $2,935 million, including $13,690 million from investment acquisitions and disposals\n",
      "- Net cash flow from financing activities was -$121,983 million, including $94,949 million from issuance or purchase of equity shares and $15,234 million in dividends and other cash distributions\n",
      "- The overall change in cash and equivalents was -$794 million\n",
      "- The ending cash balance was $29,943 million\n",
      "- The free cash flow (net cash flow from operations minus capital expenditures) was $108,807 million\n",
      "\n",
      "So in summary, Apple generated strong operating cash flow in 2024 but used a significant amount of cash for financing activities like share repurchases and dividends, resulting in a small net decrease in cash for the year.\n"
     ]
    },
    {
     "name": "stdout",
     "output_type": "stream",
     "text": [
      "🍩 https://wandb.ai/madhur-prash-none/multi-agent-collaboration/r/call/0193d734-bcf2-7c93-9989-a3bd210824d5\n",
      "Based on the cash flow statement data for Apple (AAPL) in 2024:\n",
      "\n",
      "- Net cash flow from operations was $118,254 million\n",
      "- Capital expenditures were $9,447 million\n",
      "- Net cash flow from investing activities was $2,935 million, including $13,690 million from investment acquisitions and disposals\n",
      "- Net cash flow from financing activities was -$121,983 million, including $94,949 million from issuance or purchase of equity shares and $15,234 million in dividends and other cash distributions\n",
      "- The overall change in cash and equivalents was -$794 million\n",
      "- The ending cash balance was $29,943 million\n",
      "- The free cash flow (net cash flow from operations minus capital expenditures) was $108,807 million\n",
      "\n",
      "So in summary, Apple generated strong operating cash flow in 2024 but used a significant amount of cash for financing activities like share repurchases and dividends, resulting in a small net decrease in cash for the year.\n",
      "CPU times: user 53.1 ms, sys: 11.6 ms, total: 64.8 ms\n",
      "Wall time: 4.75 s\n"
     ]
    }
   ],
   "source": [
    "%%time\n",
    "import uuid\n",
    "session_id:str = str(uuid.uuid1())\n",
    "query = \"\"\"Describe AAPL's cash flow for 2024?\"\"\"\n",
    "response = invoke_agent_helper(\n",
    "    query, session_id, fundamental_analyst_agent_id, fundamental_analyst_agent_alias_id, enable_trace=True\n",
    ")\n",
    "print(response)"
   ]
  },
  {
   "cell_type": "code",
   "execution_count": 17,
   "metadata": {},
   "outputs": [
    {
     "name": "stderr",
     "output_type": "stream",
     "text": [
      "[2024-12-17 19:39:42,849] p85944 {agents.py:760} INFO - invoke_agent response metadata:\n",
      "[2024-12-17 19:39:42,849] p85944 {agents.py:761} INFO - {\n",
      "  \"RequestId\": \"a55b6782-f985-4c9c-8776-94847dd07ce0\",\n",
      "  \"HTTPStatusCode\": 200,\n",
      "  \"HTTPHeaders\": {\n",
      "    \"date\": \"Wed, 18 Dec 2024 00:39:42 GMT\",\n",
      "    \"content-type\": \"application/vnd.amazon.eventstream\",\n",
      "    \"transfer-encoding\": \"chunked\",\n",
      "    \"connection\": \"keep-alive\",\n",
      "    \"x-amzn-requestid\": \"a55b6782-f985-4c9c-8776-94847dd07ce0\",\n",
      "    \"x-amz-bedrock-agent-session-id\": \"926cf5ac-bcd8-11ef-b7cc-168aeb12c117\",\n",
      "    \"x-amzn-bedrock-agent-content-type\": \"application/json\"\n",
      "  },\n",
      "  \"RetryAttempts\": 0\n",
      "}\n",
      "[2024-12-17 19:39:43,017] p85944 {agents.py:787} INFO - ==== Trace Event Received ====\n",
      "[2024-12-17 19:39:43,018] p85944 {agents.py:790} INFO - callerChain: [\n",
      "  {\n",
      "    \"agentAliasArn\": \"arn:aws:bedrock:us-east-1:218208277580:agent-alias/WH3Y06UPJI/4JZJVMDGU6\"\n",
      "  }\n",
      "]\n",
      "[2024-12-17 19:39:43,019] p85944 {agents.py:803} INFO - Orchestration Trace Detected\n",
      "[2024-12-17 19:39:44,423] p85944 {agents.py:787} INFO - ==== Trace Event Received ====\n",
      "[2024-12-17 19:39:44,424] p85944 {agents.py:790} INFO - callerChain: [\n",
      "  {\n",
      "    \"agentAliasArn\": \"arn:aws:bedrock:us-east-1:218208277580:agent-alias/WH3Y06UPJI/4JZJVMDGU6\"\n",
      "  }\n",
      "]\n",
      "[2024-12-17 19:39:44,426] p85944 {agents.py:803} INFO - Orchestration Trace Detected\n",
      "[2024-12-17 19:39:44,461] p85944 {agents.py:787} INFO - ==== Trace Event Received ====\n",
      "[2024-12-17 19:39:44,462] p85944 {agents.py:790} INFO - callerChain: [\n",
      "  {\n",
      "    \"agentAliasArn\": \"arn:aws:bedrock:us-east-1:218208277580:agent-alias/WH3Y06UPJI/4JZJVMDGU6\"\n",
      "  }\n",
      "]\n",
      "[2024-12-17 19:39:44,463] p85944 {agents.py:803} INFO - Orchestration Trace Detected\n",
      "[2024-12-17 19:39:44,463] p85944 {agents.py:808} INFO - Agent Observation: {\n",
      "  \"finalResponse\": {\n",
      "    \"text\": \"I apologize, but I do not have any information about what a llama is. As an AI assistant, I do not have general knowledge about animals or other topics outside of my training. I can only provide information related to the financial analysis tasks I was designed for. If you have a question about analyzing a company's financial statements, I would be happy to assist with that. Otherwise, I do not have the capability to answer your question about llamas.\"\n",
      "  },\n",
      "  \"traceId\": \"a55b6782-f985-4c9c-8776-94847dd07ce0-0\",\n",
      "  \"type\": \"FINISH\"\n",
      "}\n",
      "[2024-12-17 19:39:44,467] p85944 {agents.py:770} INFO - ==== Final Answer Chunk Received ====\n",
      "[2024-12-17 19:39:44,467] p85944 {agents.py:771} INFO - I apologize, but I do not have any information about what a llama is. As an AI assistant, I do not have general knowledge about animals or other topics outside of my training. I can only provide information related to the financial analysis tasks I was designed for. If you have a question about analyzing a company's financial statements, I would be happy to assist with that. Otherwise, I do not have the capability to answer your question about llamas.\n"
     ]
    },
    {
     "name": "stdout",
     "output_type": "stream",
     "text": [
      "🍩 https://wandb.ai/madhur-prash-none/multi-agent-collaboration/r/call/0193d734-cf8f-79b2-9192-79ca4eb3683f\n",
      "I apologize, but I do not have any information about what a llama is. As an AI assistant, I do not have general knowledge about animals or other topics outside of my training. I can only provide information related to the financial analysis tasks I was designed for. If you have a question about analyzing a company's financial statements, I would be happy to assist with that. Otherwise, I do not have the capability to answer your question about llamas.\n",
      "CPU times: user 48.2 ms, sys: 7.16 ms, total: 55.3 ms\n",
      "Wall time: 1.74 s\n"
     ]
    }
   ],
   "source": [
    "%%time\n",
    "import uuid\n",
    "session_id:str = str(uuid.uuid1())\n",
    "\n",
    "# testing the agent with an unrelated question\n",
    "query = \"\"\"What is a llama?\"\"\"\n",
    "response = invoke_agent_helper(\n",
    "    query, session_id, fundamental_analyst_agent_id, fundamental_analyst_agent_alias_id, enable_trace=True\n",
    ")\n",
    "print(response)"
   ]
  },
  {
   "cell_type": "markdown",
   "metadata": {},
   "source": [
    "### Saving the information\n",
    "---\n",
    "Let's now save some information so that we can use this agent as a sub-agent of our financial hedge fund assistant"
   ]
  },
  {
   "cell_type": "code",
   "execution_count": 18,
   "metadata": {},
   "outputs": [
    {
     "name": "stdout",
     "output_type": "stream",
     "text": [
      "Stored 'fundamental_analyst_agent_id' (str)\n",
      "Stored 'fundamental_analyst_agent_alias_id' (str)\n",
      "Stored 'fundamental_analyst_agent_alias_arn' (str)\n"
     ]
    }
   ],
   "source": [
    "%store fundamental_analyst_agent_id\n",
    "%store fundamental_analyst_agent_alias_id\n",
    "%store fundamental_analyst_agent_alias_arn"
   ]
  }
 ],
 "metadata": {
  "kernelspec": {
   "display_name": "Python 3",
   "language": "python",
   "name": "python3"
  },
  "language_info": {
   "codemirror_mode": {
    "name": "ipython",
    "version": 3
   },
   "file_extension": ".py",
   "mimetype": "text/x-python",
   "name": "python",
   "nbconvert_exporter": "python",
   "pygments_lexer": "ipython3",
   "version": "3.11.7"
  }
 },
 "nbformat": 4,
 "nbformat_minor": 2
}

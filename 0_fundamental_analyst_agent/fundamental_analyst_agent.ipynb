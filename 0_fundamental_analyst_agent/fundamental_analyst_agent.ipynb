{
 "cells": [
  {
   "cell_type": "markdown",
   "metadata": {},
   "source": [
    "## Creating sub-agent 1: Fundamental Analyst agent\n",
    "\n",
    "In this folder we will create the first sub-agent for getting our `input statements`, `balance sheets` and `cash flow statements`. This code defines an agent for retrieving income statements for publicly traded companies through a financial API service.\n",
    "\n",
    "This `fundamental analyst agent` will be associated with an action group which will have access to three functions. Each of the function is responsible for performing certain tasks related to getting input statements of a company's stock based on the `ticker` symbol, balance sheets and other cash flow details. "
   ]
  },
  {
   "cell_type": "markdown",
   "metadata": {},
   "source": [
    "### Prerequisites\n",
    "---\n",
    "\n",
    "You are going to install boto3 dependencies from pip. Make sure you have the latest version of it for full capabilities\n",
    "\n",
    "Before running this notebook, make sure to populate the `.env` file with your `FINANCIAL_DATASETS_API_KEY` and `TAVILY_API_KEY`. These two `API` keys will be used by the agent to access information on user related questions. You can create an `API` here: https://www.financialdatasets.ai/"
   ]
  },
  {
   "cell_type": "code",
   "execution_count": 6,
   "metadata": {},
   "outputs": [
    {
     "name": "stdout",
     "output_type": "stream",
     "text": [
      "Found existing installation: boto3 1.34.162\n",
      "Uninstalling boto3-1.34.162:\n",
      "  Successfully uninstalled boto3-1.34.162\n",
      "Found existing installation: botocore 1.34.162\n",
      "Uninstalling botocore-1.34.162:\n",
      "  Successfully uninstalled botocore-1.34.162\n",
      "\u001b[33mWARNING: Skipping awscli as it is not installed.\u001b[0m\u001b[33m\n",
      "\u001b[0m"
     ]
    }
   ],
   "source": [
    "# Uninstall the current version of boto3, botocore and awscli, to install the updated version of boto3\n",
    "!pip uninstall boto3 botocore awscli --yes"
   ]
  },
  {
   "cell_type": "code",
   "execution_count": 7,
   "metadata": {},
   "outputs": [],
   "source": [
    "# Install latest boto3\n",
    "!python3 -m pip install --force-reinstall --no-cache -q --no-dependencies -r ../requirements.txt"
   ]
  },
  {
   "cell_type": "markdown",
   "metadata": {},
   "source": [
    "### Restart kernel\n",
    "\n",
    "If you face issues to apply the latest multi-agent capabilities, uncomment this line to restart kernel to ensure packages updates to take effect"
   ]
  },
  {
   "cell_type": "code",
   "execution_count": 1,
   "metadata": {},
   "outputs": [],
   "source": [
    "import IPython\n",
    "\n",
    "# IPython.Application.instance().kernel.do_shutdown(True)"
   ]
  },
  {
   "cell_type": "code",
   "execution_count": 2,
   "metadata": {},
   "outputs": [
    {
     "name": "stdout",
     "output_type": "stream",
     "text": [
      "boto3 @ file:///home/conda/feedstock_root/build_artifacts/boto3_1723775898718/work\n"
     ]
    }
   ],
   "source": [
    "!pip freeze | grep boto3"
   ]
  },
  {
   "cell_type": "markdown",
   "metadata": {},
   "source": [
    "### Importing helper functions\n",
    "\n",
    "On following section, we're adding `agents.py` on Python path, so the files can be recognized and their functionalities can be invoked.\n",
    "\n",
    "Now, you're going to import from helper classes `agent.py`.\n",
    "\n",
    "Those files contain helper classes totally focused on make labs experience smoothly.\n",
    "\n",
    "All interactions with Bedrock will be handled by these classes.\n",
    "\n",
    "#### Following are methods that you're going to invoke on this lab:\n",
    "\n",
    "- `create_agent`: Create a new agent and respective IAM roles\n",
    "\n",
    "- `add_action_group_with_lambda`: Create a lambda function and add it as an action group for a previous created agent\n",
    "\n",
    "- `create_agent_alias`: Create an alias for this agent\n",
    "\n",
    "- `invoke`: Execute agent"
   ]
  },
  {
   "cell_type": "code",
   "execution_count": 1,
   "metadata": {},
   "outputs": [],
   "source": [
    "import boto3\n",
    "import os\n",
    "import json\n",
    "import time\n",
    "\n",
    "sts_client = boto3.client('sts')\n",
    "session = boto3.session.Session()\n",
    "\n",
    "account_id = sts_client.get_caller_identity()[\"Account\"]\n",
    "region = session.region_name\n",
    "account_id_suffix = account_id[:3]\n",
    "agent_suffix = f\"{region}-{account_id_suffix}\"\n",
    "\n",
    "s3_client = boto3.client('s3', region)\n",
    "bedrock_client = boto3.client('bedrock-runtime', region)"
   ]
  },
  {
   "cell_type": "code",
   "execution_count": 2,
   "metadata": {
    "scrolled": true
   },
   "outputs": [
    {
     "name": "stdout",
     "output_type": "stream",
     "text": [
      "Requirement already satisfied: wandb in /opt/conda/lib/python3.11/site-packages (0.19.1)\n",
      "Requirement already satisfied: uuid_utils in /opt/conda/lib/python3.11/site-packages (0.10.0)\n",
      "Requirement already satisfied: emoji in /opt/conda/lib/python3.11/site-packages (2.14.0)\n",
      "Requirement already satisfied: gql in /opt/conda/lib/python3.11/site-packages (3.5.0)\n",
      "Requirement already satisfied: click!=8.0.0,>=7.1 in /opt/conda/lib/python3.11/site-packages (from wandb) (8.1.7)\n",
      "Requirement already satisfied: docker-pycreds>=0.4.0 in /opt/conda/lib/python3.11/site-packages (from wandb) (0.4.0)\n",
      "Requirement already satisfied: gitpython!=3.1.29,>=1.0.0 in /opt/conda/lib/python3.11/site-packages (from wandb) (3.1.43)\n",
      "Requirement already satisfied: platformdirs in /opt/conda/lib/python3.11/site-packages (from wandb) (4.3.6)\n",
      "Requirement already satisfied: protobuf!=4.21.0,!=5.28.0,<6,>=3.19.0 in /opt/conda/lib/python3.11/site-packages (from wandb) (4.25.3)\n",
      "Requirement already satisfied: psutil>=5.0.0 in /opt/conda/lib/python3.11/site-packages (from wandb) (5.9.8)\n",
      "Requirement already satisfied: pydantic<3,>=2.6 in /opt/conda/lib/python3.11/site-packages (from wandb) (2.10.3)\n",
      "Requirement already satisfied: pyyaml in /opt/conda/lib/python3.11/site-packages (from wandb) (6.0.2)\n",
      "Requirement already satisfied: requests<3,>=2.0.0 in /opt/conda/lib/python3.11/site-packages (from wandb) (2.32.3)\n",
      "Requirement already satisfied: sentry-sdk>=2.0.0 in /opt/conda/lib/python3.11/site-packages (from wandb) (2.19.2)\n",
      "Requirement already satisfied: setproctitle in /opt/conda/lib/python3.11/site-packages (from wandb) (1.3.4)\n",
      "Requirement already satisfied: setuptools in /opt/conda/lib/python3.11/site-packages (from wandb) (75.6.0)\n",
      "Requirement already satisfied: typing-extensions<5,>=4.4 in /opt/conda/lib/python3.11/site-packages (from wandb) (4.12.2)\n",
      "Requirement already satisfied: graphql-core<3.3,>=3.2 in /opt/conda/lib/python3.11/site-packages (from gql) (3.2.5)\n",
      "Requirement already satisfied: yarl<2.0,>=1.6 in /opt/conda/lib/python3.11/site-packages (from gql) (1.18.3)\n",
      "Requirement already satisfied: backoff<3.0,>=1.11.1 in /opt/conda/lib/python3.11/site-packages (from gql) (2.2.1)\n",
      "Requirement already satisfied: anyio<5,>=3.0 in /opt/conda/lib/python3.11/site-packages (from gql) (4.7.0)\n",
      "Requirement already satisfied: idna>=2.8 in /opt/conda/lib/python3.11/site-packages (from anyio<5,>=3.0->gql) (3.10)\n",
      "Requirement already satisfied: sniffio>=1.1 in /opt/conda/lib/python3.11/site-packages (from anyio<5,>=3.0->gql) (1.3.1)\n",
      "Requirement already satisfied: six>=1.4.0 in /opt/conda/lib/python3.11/site-packages (from docker-pycreds>=0.4.0->wandb) (1.17.0)\n",
      "Requirement already satisfied: gitdb<5,>=4.0.1 in /opt/conda/lib/python3.11/site-packages (from gitpython!=3.1.29,>=1.0.0->wandb) (4.0.11)\n",
      "Requirement already satisfied: annotated-types>=0.6.0 in /opt/conda/lib/python3.11/site-packages (from pydantic<3,>=2.6->wandb) (0.7.0)\n",
      "Requirement already satisfied: pydantic-core==2.27.1 in /opt/conda/lib/python3.11/site-packages (from pydantic<3,>=2.6->wandb) (2.27.1)\n",
      "Requirement already satisfied: charset_normalizer<4,>=2 in /opt/conda/lib/python3.11/site-packages (from requests<3,>=2.0.0->wandb) (3.4.0)\n",
      "Requirement already satisfied: urllib3<3,>=1.21.1 in /opt/conda/lib/python3.11/site-packages (from requests<3,>=2.0.0->wandb) (1.26.19)\n",
      "Requirement already satisfied: certifi>=2017.4.17 in /opt/conda/lib/python3.11/site-packages (from requests<3,>=2.0.0->wandb) (2024.8.30)\n",
      "Requirement already satisfied: multidict>=4.0 in /opt/conda/lib/python3.11/site-packages (from yarl<2.0,>=1.6->gql) (6.1.0)\n",
      "Requirement already satisfied: propcache>=0.2.0 in /opt/conda/lib/python3.11/site-packages (from yarl<2.0,>=1.6->gql) (0.2.1)\n",
      "Requirement already satisfied: smmap<6,>=3.0.1 in /opt/conda/lib/python3.11/site-packages (from gitdb<5,>=4.0.1->gitpython!=3.1.29,>=1.0.0->wandb) (5.0.0)\n"
     ]
    }
   ],
   "source": [
    "!pip install wandb uuid_utils emoji gql"
   ]
  },
  {
   "cell_type": "code",
   "execution_count": 3,
   "metadata": {},
   "outputs": [
    {
     "name": "stdout",
     "output_type": "stream",
     "text": [
      "Logged in as Weights & Biases user: billdoors0755.\n",
      "View Weave data at https://wandb.ai/billdoors0755-aws/hedge-fund-multi-agent-collaboration/weave\n",
      "/home/sagemaker-user/hedge-fund-analyst-multi-agent-collaboration\n"
     ]
    }
   ],
   "source": [
    "import os\n",
    "import sys\n",
    "import time\n",
    "import json\n",
    "import boto3\n",
    "import shutil\n",
    "import logging\n",
    "import zipfile\n",
    "import subprocess\n",
    "from dotenv import load_dotenv\n",
    "\n",
    "sys.path.insert(0, \".\")\n",
    "sys.path.insert(1, \"..\")\n",
    "\n",
    "from utils.bedrock_agent_helper import (\n",
    "    AgentsForAmazonBedrock\n",
    ")\n",
    "agents = AgentsForAmazonBedrock()\n",
    "\n",
    "# Get the current file's directory\n",
    "current_dir = os.path.dirname(os.path.abspath('__file__'))\n",
    "\n",
    "# Get the parent directory\n",
    "parent_dir = os.path.dirname(current_dir)\n",
    "print(parent_dir)\n",
    "\n",
    "# Add the parent directory to sys.path\n",
    "sys.path.append(parent_dir)\n",
    "\n",
    "from utils import *\n",
    "from globals import *\n",
    "from utils.utils import *"
   ]
  },
  {
   "cell_type": "code",
   "execution_count": 4,
   "metadata": {},
   "outputs": [
    {
     "data": {
      "text/plain": [
       "True"
      ]
     },
     "execution_count": 4,
     "metadata": {},
     "output_type": "execute_result"
    }
   ],
   "source": [
    "from pathlib import Path\n",
    "cwd_directory = os.getcwd()\n",
    "parent_dir = os.path.dirname(cwd_directory)\n",
    "env_path = os.path.join(parent_dir,'.env')\n",
    "\n",
    "# Load the environment variables that are defined in the \".env\" file. This contains the \n",
    "# financial data API key that will enable the user to access the data\n",
    "load_dotenv(env_path)"
   ]
  },
  {
   "cell_type": "code",
   "execution_count": 5,
   "metadata": {},
   "outputs": [
    {
     "name": "stdout",
     "output_type": "stream",
     "text": [
      "10b5e377-7719-40ee-b14a-eadb1971168b\n"
     ]
    }
   ],
   "source": [
    "print(os.getenv('FINANCIAL_DATASETS_API'))"
   ]
  },
  {
   "cell_type": "code",
   "execution_count": 6,
   "metadata": {},
   "outputs": [],
   "source": [
    "# set a logger\n",
    "logging.basicConfig(format='[%(asctime)s] p%(process)s {%(filename)s:%(lineno)d} %(levelname)s - %(message)s', level=logging.INFO)\n",
    "logger = logging.getLogger(__name__)"
   ]
  },
  {
   "cell_type": "markdown",
   "metadata": {},
   "source": [
    "### Defining agent configuration\n",
    "---"
   ]
  },
  {
   "cell_type": "code",
   "execution_count": 7,
   "metadata": {},
   "outputs": [],
   "source": [
    "agent_instruction = \"\"\"You are a comprehensive fundamental analyst assistant that helps users analyze company financial statements across three key areas: income statements, balance sheets, and cash flow statements.\n",
    "You require the user to provide a stock ticker symbol to analyze the company's financials.\n",
    "\n",
    "You can perform the following types of analysis by calling the functions below:\n",
    "\n",
    "1. Income Statement Analysis:\n",
    "   - Revenue growth, gross profit, operating income, net income, earnings per share, and revenue/expense breakdown\n",
    "\n",
    "2. Balance Sheet Analysis:\n",
    "   - Asset composition (current and non-current), liabilities (current and non-current), shareholders' equity, retained earnings, and financial ratios (current ratio, debt-to-equity)\n",
    "\n",
    "3. Cash Flow Statement Analysis:\n",
    "   - Net cash flow from operations, capital expenditures, business acquisitions, issuance/repayment of debt, dividends, and changes in cash and equivalents\n",
    "\n",
    "IMPORTANT: Always use the financial dataset API you have access to to call these functions and retrieve the data to answer the user question\n",
    "\n",
    "If you do not have access to the data that the user is asking for, do not make up an answer, just say that you do not know the answer. Be completely\n",
    "accurate. Do not provide answers to anything but on the topic specified above. Always give information on where you got the data to answer the user question\n",
    "and do not redact anything in your response.\n",
    "\"\"\"\n",
    "\n",
    "agent_description = \"Agent for comprehensive financial statement analysis including income statements, balance sheets, and cash flows\""
   ]
  },
  {
   "cell_type": "code",
   "execution_count": 8,
   "metadata": {},
   "outputs": [],
   "source": [
    "# This is the function definition for the lambda function that will be invoked\n",
    "# as a part of the action group\n",
    "functions = [{\n",
    "    'name': 'get_income_statements',\n",
    "    'description': 'Get income statements for a company',\n",
    "    'parameters': {\n",
    "        \"ticker\": {\n",
    "            \"description\": \"stock ticker symbol of the company\",\n",
    "            \"required\": True,\n",
    "            \"type\": \"string\"\n",
    "        },\n",
    "        \"period\": {\n",
    "            \"description\": \"period of statements (ttm, quarterly, or annual)\",\n",
    "            \"required\": True,\n",
    "            \"type\": \"string\"\n",
    "        },\n",
    "        \"limit\": {\n",
    "            \"description\": \"number of statements to retrieve\",\n",
    "            \"required\": True,\n",
    "            \"type\": \"integer\"\n",
    "        }\n",
    "    }\n",
    "},\n",
    "{\n",
    "    'name': 'get_balance_sheets',\n",
    "    'description': 'Get balance sheets for a company',\n",
    "    'parameters': {\n",
    "        \"ticker\": {\n",
    "            \"description\": \"stock ticker symbol of the company\",\n",
    "            \"required\": True,\n",
    "            \"type\": \"string\"\n",
    "        },\n",
    "        \"period\": {\n",
    "            \"description\": \"period of statements (ttm, quarterly, or annual)\",\n",
    "            \"required\": True,\n",
    "            \"type\": \"string\"\n",
    "        },\n",
    "        \"limit\": {\n",
    "            \"description\": \"number of statements to retrieve\",\n",
    "            \"required\": True,\n",
    "            \"type\": \"integer\"\n",
    "        }\n",
    "    }\n",
    "},\n",
    "{\n",
    "    'name': 'get_cash_flow_statements',\n",
    "    'description': 'Get cash flow statements for a company',\n",
    "    'parameters': {\n",
    "        \"ticker\": {\n",
    "            \"description\": \"stock ticker symbol of the company\",\n",
    "            \"required\": True,\n",
    "            \"type\": \"string\"\n",
    "        },\n",
    "        \"period\": {\n",
    "            \"description\": \"period of statements (ttm, quarterly, or annual)\",\n",
    "            \"required\": True,\n",
    "            \"type\": \"string\"\n",
    "        },\n",
    "        \"limit\": {\n",
    "            \"description\": \"number of statements to retrieve\",\n",
    "            \"required\": True,\n",
    "            \"type\": \"integer\"\n",
    "        }\n",
    "    }\n",
    "}]"
   ]
  },
  {
   "cell_type": "markdown",
   "metadata": {},
   "source": [
    "### Add a lambda layer to the lambda function\n",
    "---\n",
    "\n",
    "In this section of the notebook, we will add a lambda layer to the lambda function. We will be installing `requests` to make requests to the financial data API key."
   ]
  },
  {
   "cell_type": "code",
   "execution_count": 9,
   "metadata": {},
   "outputs": [
    {
     "name": "stdout",
     "output_type": "stream",
     "text": [
      "Collecting requests\n",
      "  Using cached requests-2.32.3-py3-none-any.whl.metadata (4.6 kB)\n",
      "Collecting charset-normalizer<4,>=2 (from requests)\n",
      "  Using cached charset_normalizer-3.4.0-cp311-cp311-manylinux_2_17_x86_64.manylinux2014_x86_64.whl.metadata (34 kB)\n",
      "Collecting idna<4,>=2.5 (from requests)\n",
      "  Using cached idna-3.10-py3-none-any.whl.metadata (10 kB)\n",
      "Collecting urllib3<3,>=1.21.1 (from requests)\n",
      "  Using cached urllib3-2.3.0-py3-none-any.whl.metadata (6.5 kB)\n",
      "Collecting certifi>=2017.4.17 (from requests)\n",
      "  Using cached certifi-2024.12.14-py3-none-any.whl.metadata (2.3 kB)\n",
      "Using cached requests-2.32.3-py3-none-any.whl (64 kB)\n",
      "Using cached certifi-2024.12.14-py3-none-any.whl (164 kB)\n",
      "Using cached charset_normalizer-3.4.0-cp311-cp311-manylinux_2_17_x86_64.manylinux2014_x86_64.whl (142 kB)\n",
      "Using cached idna-3.10-py3-none-any.whl (70 kB)\n",
      "Using cached urllib3-2.3.0-py3-none-any.whl (128 kB)\n",
      "Installing collected packages: urllib3, idna, charset-normalizer, certifi, requests\n"
     ]
    },
    {
     "name": "stderr",
     "output_type": "stream",
     "text": [
      "\u001b[31mERROR: pip's dependency resolver does not currently take into account all the packages that are installed. This behaviour is the source of the following dependency conflicts.\n",
      "autogluon-multimodal 1.1.1 requires nvidia-ml-py3==7.352.0, which is not installed.\n",
      "dash 2.18.1 requires dash-core-components==2.0.0, which is not installed.\n",
      "dash 2.18.1 requires dash-html-components==2.0.0, which is not installed.\n",
      "dash 2.18.1 requires dash-table==5.0.0, which is not installed.\n",
      "awscli 1.36.27 requires docutils<0.17,>=0.10, which is not installed.\n",
      "autogluon-core 1.1.1 requires scikit-learn<1.4.1,>=1.3.0, but you have scikit-learn 1.5.2 which is incompatible.\n",
      "autogluon-core 1.1.1 requires scipy<1.13,>=1.5.4, but you have scipy 1.14.1 which is incompatible.\n",
      "autogluon-multimodal 1.1.1 requires jsonschema<4.22,>=4.18, but you have jsonschema 4.23.0 which is incompatible.\n",
      "autogluon-multimodal 1.1.1 requires omegaconf<2.3.0,>=2.1.1, but you have omegaconf 2.3.0 which is incompatible.\n",
      "autogluon-multimodal 1.1.1 requires scikit-learn<1.4.1,>=1.3.0, but you have scikit-learn 1.5.2 which is incompatible.\n",
      "autogluon-multimodal 1.1.1 requires scipy<1.13,>=1.5.4, but you have scipy 1.14.1 which is incompatible.\n",
      "autogluon-multimodal 1.1.1 requires torch<2.4,>=2.2, but you have torch 2.4.1.post100 which is incompatible.\n",
      "autogluon-tabular 1.1.1 requires scikit-learn<1.4.1,>=1.3.0, but you have scikit-learn 1.5.2 which is incompatible.\n",
      "autogluon-tabular 1.1.1 requires scipy<1.13,>=1.5.4, but you have scipy 1.14.1 which is incompatible.\n",
      "autogluon-timeseries 1.1.1 requires gluonts==0.15.1, but you have gluonts 0.14.3 which is incompatible.\n",
      "autogluon-timeseries 1.1.1 requires scipy<1.13,>=1.5.4, but you have scipy 1.14.1 which is incompatible.\n",
      "autogluon-timeseries 1.1.1 requires torch<2.4,>=2.2, but you have torch 2.4.1.post100 which is incompatible.\n",
      "dash 2.18.1 requires Flask<3.1,>=1.0.4, but you have flask 3.1.0 which is incompatible.\n",
      "dash 2.18.1 requires Werkzeug<3.1, but you have werkzeug 3.1.3 which is incompatible.\n",
      "sparkmagic 0.21.0 requires pandas<2.0.0,>=0.17.1, but you have pandas 2.2.3 which is incompatible.\n",
      "awscli 1.36.27 requires rsa<4.8,>=3.1.2, but you have rsa 4.9 which is incompatible.\u001b[0m\u001b[31m\n",
      "\u001b[0m"
     ]
    },
    {
     "name": "stdout",
     "output_type": "stream",
     "text": [
      "Successfully installed certifi-2024.12.14 charset-normalizer-3.4.0 idna-3.10 requests-2.32.3 urllib3-2.3.0\n"
     ]
    }
   ],
   "source": [
    "# Create and publish the layer\n",
    "# In this case we want to add a layer to the lambda containing files to import the requests library\n",
    "layer_zip = create_lambda_layer(['requests'])\n",
    "layer_arn = publish_layer('fundamental-agent-lambda-layer')"
   ]
  },
  {
   "cell_type": "markdown",
   "metadata": {},
   "source": [
    "### Create agent\n",
    "---\n",
    "\n",
    "Next we will create the agent with the provided information. In this, we will use the prompt configuration, the lambda function and lambda layers, update the lambda function to contain the `FINANCIAL_DATASETS_API_KEY` that the agent can use to fetch data to user inputs, and then finally create the agent."
   ]
  },
  {
   "cell_type": "code",
   "execution_count": 10,
   "metadata": {},
   "outputs": [],
   "source": [
    "# Create the fundamental analyst agent\n",
    "fundamental_analyst_agent = agents.create_agent(\n",
    "    SUB_AGENT_FUNDAMENTAL_ANALYST,\n",
    "    agent_description,\n",
    "    agent_instruction,\n",
    "    BEDROCK_MODEL_CLAUDE_HAIKU,\n",
    ")"
   ]
  },
  {
   "cell_type": "code",
   "execution_count": 13,
   "metadata": {},
   "outputs": [
    {
     "ename": "ResourceConflictException",
     "evalue": "An error occurred (ResourceConflictException) when calling the CreateFunction operation: Function already exist: fundamental-analyst-agent-lambda",
     "output_type": "error",
     "traceback": [
      "\u001b[0;31m---------------------------------------------------------------------------\u001b[0m",
      "\u001b[0;31mResourceConflictException\u001b[0m                 Traceback (most recent call last)",
      "Cell \u001b[0;32mIn[13], line 2\u001b[0m\n\u001b[1;32m      1\u001b[0m \u001b[38;5;66;03m# Add the action group with lambda to this fundamental analyst agent\u001b[39;00m\n\u001b[0;32m----> 2\u001b[0m \u001b[43magents\u001b[49m\u001b[38;5;241;43m.\u001b[39;49m\u001b[43madd_action_group_with_lambda\u001b[49m\u001b[43m(\u001b[49m\n\u001b[1;32m      3\u001b[0m \u001b[43m    \u001b[49m\u001b[43magent_name\u001b[49m\u001b[38;5;241;43m=\u001b[39;49m\u001b[43mSUB_AGENT_FUNDAMENTAL_ANALYST\u001b[49m\u001b[43m,\u001b[49m\n\u001b[1;32m      4\u001b[0m \u001b[43m    \u001b[49m\u001b[43mlambda_function_name\u001b[49m\u001b[38;5;241;43m=\u001b[39;49m\u001b[38;5;124;43mf\u001b[39;49m\u001b[38;5;124;43m'\u001b[39;49m\u001b[38;5;132;43;01m{\u001b[39;49;00m\u001b[43mSUB_AGENT_FUNDAMENTAL_ANALYST\u001b[49m\u001b[38;5;132;43;01m}\u001b[39;49;00m\u001b[38;5;124;43m-lambda\u001b[39;49m\u001b[38;5;124;43m'\u001b[39;49m\u001b[43m,\u001b[49m\n\u001b[1;32m      5\u001b[0m \u001b[43m    \u001b[49m\u001b[43msource_code_file\u001b[49m\u001b[38;5;241;43m=\u001b[39;49m\u001b[43mFUNDAMENTAL_LAMBDA_FUNCTION_NAME\u001b[49m\u001b[43m,\u001b[49m\n\u001b[1;32m      6\u001b[0m \u001b[43m    \u001b[49m\u001b[43magent_functions\u001b[49m\u001b[38;5;241;43m=\u001b[39;49m\u001b[43mfunctions\u001b[49m\u001b[43m,\u001b[49m\n\u001b[1;32m      7\u001b[0m \u001b[43m    \u001b[49m\u001b[43magent_action_group_name\u001b[49m\u001b[38;5;241;43m=\u001b[39;49m\u001b[38;5;124;43m\"\u001b[39;49m\u001b[38;5;124;43mFundamentalAnalysisActionGroup\u001b[39;49m\u001b[38;5;124;43m\"\u001b[39;49m\u001b[43m,\u001b[49m\n\u001b[1;32m      8\u001b[0m \u001b[43m    \u001b[49m\u001b[43magent_action_group_description\u001b[49m\u001b[38;5;241;43m=\u001b[39;49m\u001b[38;5;124;43m\"\u001b[39;49m\u001b[38;5;124;43mAction group to analyze company financial statements using income statement data\u001b[39;49m\u001b[38;5;124;43m\"\u001b[39;49m\u001b[43m,\u001b[49m\n\u001b[1;32m      9\u001b[0m \u001b[43m    \u001b[49m\u001b[43mlambda_layers\u001b[49m\u001b[38;5;241;43m=\u001b[39;49m\u001b[43m[\u001b[49m\u001b[43mlayer_arn\u001b[49m\u001b[43m]\u001b[49m\n\u001b[1;32m     10\u001b[0m \u001b[43m)\u001b[49m\n\u001b[1;32m     12\u001b[0m \u001b[38;5;66;03m# Create a Lambda client and attach the API key as env variable to the lambda function\u001b[39;00m\n\u001b[1;32m     13\u001b[0m lambda_client \u001b[38;5;241m=\u001b[39m boto3\u001b[38;5;241m.\u001b[39mclient(\u001b[38;5;124m'\u001b[39m\u001b[38;5;124mlambda\u001b[39m\u001b[38;5;124m'\u001b[39m)\n",
      "File \u001b[0;32m~/hedge-fund-analyst-multi-agent-collaboration/0_fundamental_analyst_agent/../utils/bedrock_agent_helper.py:1176\u001b[0m, in \u001b[0;36mAgentsForAmazonBedrock.add_action_group_with_lambda\u001b[0;34m(self, agent_name, lambda_function_name, source_code_file, agent_functions, agent_action_group_name, agent_action_group_description, additional_function_iam_policy, sub_agent_arns, dynamo_args, verbose, lambda_layers)\u001b[0m\n\u001b[1;32m   1174\u001b[0m     _lambda_arn \u001b[38;5;241m=\u001b[39m source_code_file\n\u001b[1;32m   1175\u001b[0m \u001b[38;5;28;01melse\u001b[39;00m:\n\u001b[0;32m-> 1176\u001b[0m     _lambda_arn \u001b[38;5;241m=\u001b[39m \u001b[38;5;28;43mself\u001b[39;49m\u001b[38;5;241;43m.\u001b[39;49m\u001b[43mcreate_lambda\u001b[49m\u001b[43m(\u001b[49m\n\u001b[1;32m   1177\u001b[0m \u001b[43m        \u001b[49m\u001b[43magent_name\u001b[49m\u001b[43m,\u001b[49m\n\u001b[1;32m   1178\u001b[0m \u001b[43m        \u001b[49m\u001b[43mlambda_function_name\u001b[49m\u001b[43m,\u001b[49m\n\u001b[1;32m   1179\u001b[0m \u001b[43m        \u001b[49m\u001b[43msource_code_file\u001b[49m\u001b[43m,\u001b[49m\n\u001b[1;32m   1180\u001b[0m \u001b[43m        \u001b[49m\u001b[43madditional_function_iam_policy\u001b[49m\u001b[38;5;241;43m=\u001b[39;49m\u001b[43madditional_function_iam_policy\u001b[49m\u001b[43m,\u001b[49m\n\u001b[1;32m   1181\u001b[0m \u001b[43m        \u001b[49m\u001b[43msub_agent_arns\u001b[49m\u001b[38;5;241;43m=\u001b[39;49m\u001b[43msub_agent_arns\u001b[49m\u001b[43m,\u001b[49m\n\u001b[1;32m   1182\u001b[0m \u001b[43m        \u001b[49m\u001b[43mdynamo_args\u001b[49m\u001b[38;5;241;43m=\u001b[39;49m\u001b[43mdynamo_args\u001b[49m\u001b[43m,\u001b[49m\n\u001b[1;32m   1183\u001b[0m \u001b[43m        \u001b[49m\u001b[43mlambda_layers\u001b[49m\u001b[38;5;241;43m=\u001b[39;49m\u001b[43mlambda_layers\u001b[49m\n\u001b[1;32m   1184\u001b[0m \u001b[43m    \u001b[49m\u001b[43m)\u001b[49m\n\u001b[1;32m   1186\u001b[0m \u001b[38;5;28mself\u001b[39m\u001b[38;5;241m.\u001b[39mwait_agent_status_update(_agent_id)\n\u001b[1;32m   1188\u001b[0m \u001b[38;5;28;01mif\u001b[39;00m verbose:\n",
      "File \u001b[0;32m~/hedge-fund-analyst-multi-agent-collaboration/0_fundamental_analyst_agent/../utils/bedrock_agent_helper.py:551\u001b[0m, in \u001b[0;36mAgentsForAmazonBedrock.create_lambda\u001b[0;34m(self, agent_name, lambda_function_name, source_code_file, additional_function_iam_policy, sub_agent_arns, dynamo_args, lambda_layers)\u001b[0m\n\u001b[1;32m    546\u001b[0m     lambda_role \u001b[38;5;241m=\u001b[39m \u001b[38;5;28mself\u001b[39m\u001b[38;5;241m.\u001b[39m_create_lambda_iam_role(\n\u001b[1;32m    547\u001b[0m         agent_name, sub_agent_arns\n\u001b[1;32m    548\u001b[0m     )\n\u001b[1;32m    550\u001b[0m \u001b[38;5;66;03m# Create Lambda Function\u001b[39;00m\n\u001b[0;32m--> 551\u001b[0m _lambda_function \u001b[38;5;241m=\u001b[39m \u001b[38;5;28;43mself\u001b[39;49m\u001b[38;5;241;43m.\u001b[39;49m\u001b[43m_lambda_client\u001b[49m\u001b[38;5;241;43m.\u001b[39;49m\u001b[43mcreate_function\u001b[49m\u001b[43m(\u001b[49m\n\u001b[1;32m    552\u001b[0m \u001b[43m    \u001b[49m\u001b[43mFunctionName\u001b[49m\u001b[38;5;241;43m=\u001b[39;49m\u001b[43mlambda_function_name\u001b[49m\u001b[43m,\u001b[49m\n\u001b[1;32m    553\u001b[0m \u001b[43m    \u001b[49m\u001b[43mRuntime\u001b[49m\u001b[38;5;241;43m=\u001b[39;49m\u001b[43mPYTHON_RUNTIME\u001b[49m\u001b[43m,\u001b[49m\n\u001b[1;32m    554\u001b[0m \u001b[43m    \u001b[49m\u001b[43mTimeout\u001b[49m\u001b[38;5;241;43m=\u001b[39;49m\u001b[43mPYTHON_TIMEOUT\u001b[49m\u001b[43m,\u001b[49m\n\u001b[1;32m    555\u001b[0m \u001b[43m    \u001b[49m\u001b[43mRole\u001b[49m\u001b[38;5;241;43m=\u001b[39;49m\u001b[43mlambda_role\u001b[49m\u001b[43m,\u001b[49m\n\u001b[1;32m    556\u001b[0m \u001b[43m    \u001b[49m\u001b[43mCode\u001b[49m\u001b[38;5;241;43m=\u001b[39;49m\u001b[43m{\u001b[49m\u001b[38;5;124;43m\"\u001b[39;49m\u001b[38;5;124;43mZipFile\u001b[39;49m\u001b[38;5;124;43m\"\u001b[39;49m\u001b[43m:\u001b[49m\u001b[43m \u001b[49m\u001b[43mzip_content\u001b[49m\u001b[43m}\u001b[49m\u001b[43m,\u001b[49m\n\u001b[1;32m    557\u001b[0m \u001b[43m    \u001b[49m\u001b[43mHandler\u001b[49m\u001b[38;5;241;43m=\u001b[39;49m\u001b[38;5;124;43mf\u001b[39;49m\u001b[38;5;124;43m\"\u001b[39;49m\u001b[38;5;132;43;01m{\u001b[39;49;00m\u001b[43m_base_filename\u001b[49m\u001b[38;5;132;43;01m}\u001b[39;49;00m\u001b[38;5;124;43m.lambda_handler\u001b[39;49m\u001b[38;5;124;43m\"\u001b[39;49m\u001b[43m,\u001b[49m\n\u001b[1;32m    558\u001b[0m \u001b[43m    \u001b[49m\u001b[38;5;66;43;03m# TODO: make this an optional keyword arg. only supply it when sub-agent-arns are provided\u001b[39;49;00m\n\u001b[1;32m    559\u001b[0m \u001b[43m    \u001b[49m\u001b[43mEnvironment\u001b[49m\u001b[38;5;241;43m=\u001b[39;49m\u001b[43menv_variables\u001b[49m\u001b[43m,\u001b[49m\n\u001b[1;32m    560\u001b[0m \u001b[43m    \u001b[49m\u001b[43mLayers\u001b[49m\u001b[38;5;241;43m=\u001b[39;49m\u001b[43mlambda_layers\u001b[49m\u001b[43m \u001b[49m\u001b[38;5;28;43;01mif\u001b[39;49;00m\u001b[43m \u001b[49m\u001b[43mlambda_layers\u001b[49m\u001b[43m \u001b[49m\u001b[38;5;28;43;01melse\u001b[39;49;00m\u001b[43m \u001b[49m\u001b[43m[\u001b[49m\u001b[43m]\u001b[49m\n\u001b[1;32m    561\u001b[0m \u001b[43m\u001b[49m\u001b[43m)\u001b[49m\n\u001b[1;32m    563\u001b[0m \u001b[38;5;28mself\u001b[39m\u001b[38;5;241m.\u001b[39m_allow_agent_lambda(_agent_id, lambda_function_name)\n\u001b[1;32m    565\u001b[0m \u001b[38;5;28;01mreturn\u001b[39;00m _lambda_function[\u001b[38;5;124m\"\u001b[39m\u001b[38;5;124mFunctionArn\u001b[39m\u001b[38;5;124m\"\u001b[39m]\n",
      "File \u001b[0;32m/opt/conda/lib/python3.11/site-packages/botocore/client.py:569\u001b[0m, in \u001b[0;36mClientCreator._create_api_method.<locals>._api_call\u001b[0;34m(self, *args, **kwargs)\u001b[0m\n\u001b[1;32m    565\u001b[0m     \u001b[38;5;28;01mraise\u001b[39;00m \u001b[38;5;167;01mTypeError\u001b[39;00m(\n\u001b[1;32m    566\u001b[0m         \u001b[38;5;124mf\u001b[39m\u001b[38;5;124m\"\u001b[39m\u001b[38;5;132;01m{\u001b[39;00mpy_operation_name\u001b[38;5;132;01m}\u001b[39;00m\u001b[38;5;124m() only accepts keyword arguments.\u001b[39m\u001b[38;5;124m\"\u001b[39m\n\u001b[1;32m    567\u001b[0m     )\n\u001b[1;32m    568\u001b[0m \u001b[38;5;66;03m# The \"self\" in this scope is referring to the BaseClient.\u001b[39;00m\n\u001b[0;32m--> 569\u001b[0m \u001b[38;5;28;01mreturn\u001b[39;00m \u001b[38;5;28;43mself\u001b[39;49m\u001b[38;5;241;43m.\u001b[39;49m\u001b[43m_make_api_call\u001b[49m\u001b[43m(\u001b[49m\u001b[43moperation_name\u001b[49m\u001b[43m,\u001b[49m\u001b[43m \u001b[49m\u001b[43mkwargs\u001b[49m\u001b[43m)\u001b[49m\n",
      "File \u001b[0;32m/opt/conda/lib/python3.11/site-packages/botocore/client.py:1023\u001b[0m, in \u001b[0;36mBaseClient._make_api_call\u001b[0;34m(self, operation_name, api_params)\u001b[0m\n\u001b[1;32m   1019\u001b[0m     error_code \u001b[38;5;241m=\u001b[39m error_info\u001b[38;5;241m.\u001b[39mget(\u001b[38;5;124m\"\u001b[39m\u001b[38;5;124mQueryErrorCode\u001b[39m\u001b[38;5;124m\"\u001b[39m) \u001b[38;5;129;01mor\u001b[39;00m error_info\u001b[38;5;241m.\u001b[39mget(\n\u001b[1;32m   1020\u001b[0m         \u001b[38;5;124m\"\u001b[39m\u001b[38;5;124mCode\u001b[39m\u001b[38;5;124m\"\u001b[39m\n\u001b[1;32m   1021\u001b[0m     )\n\u001b[1;32m   1022\u001b[0m     error_class \u001b[38;5;241m=\u001b[39m \u001b[38;5;28mself\u001b[39m\u001b[38;5;241m.\u001b[39mexceptions\u001b[38;5;241m.\u001b[39mfrom_code(error_code)\n\u001b[0;32m-> 1023\u001b[0m     \u001b[38;5;28;01mraise\u001b[39;00m error_class(parsed_response, operation_name)\n\u001b[1;32m   1024\u001b[0m \u001b[38;5;28;01melse\u001b[39;00m:\n\u001b[1;32m   1025\u001b[0m     \u001b[38;5;28;01mreturn\u001b[39;00m parsed_response\n",
      "\u001b[0;31mResourceConflictException\u001b[0m: An error occurred (ResourceConflictException) when calling the CreateFunction operation: Function already exist: fundamental-analyst-agent-lambda"
     ]
    }
   ],
   "source": [
    "# Add the action group with lambda to this fundamental analyst agent\n",
    "agents.add_action_group_with_lambda(\n",
    "    agent_name=SUB_AGENT_FUNDAMENTAL_ANALYST,\n",
    "    lambda_function_name=f'{SUB_AGENT_FUNDAMENTAL_ANALYST}-lambda',\n",
    "    source_code_file=FUNDAMENTAL_LAMBDA_FUNCTION_NAME,\n",
    "    agent_functions=functions,\n",
    "    agent_action_group_name=\"FundamentalAnalysisActionGroup\",\n",
    "    agent_action_group_description=\"Action group to analyze company financial statements using income statement data\",\n",
    "    lambda_layers=[layer_arn]\n",
    ")\n",
    "\n",
    "# Create a Lambda client and attach the API key as env variable to the lambda function\n",
    "lambda_client = boto3.client('lambda')\n",
    "lambda_function_name = f'{SUB_AGENT_FUNDAMENTAL_ANALYST}-lambda'\n"
   ]
  },
  {
   "cell_type": "code",
   "execution_count": 14,
   "metadata": {},
   "outputs": [],
   "source": [
    "environment_variables = {\n",
    "    'FINANCIAL_DATASETS_API_KEY': os.getenv('FINANCIAL_DATASETS_API')\n",
    "}\n",
    "# Update the Lambda function's configuration to include the environment variables\n",
    "# In the case of this agent, we need the financial dataset API as an env variable passed to the lambda\n",
    "# so that it can be used in fetching data based on user questions\n",
    "response = lambda_client.update_function_configuration(\n",
    "    FunctionName=lambda_function_name,\n",
    "    Environment={\n",
    "        'Variables': environment_variables\n",
    "    },\n",
    "    Layers=[layer_arn]\n",
    ")"
   ]
  },
  {
   "cell_type": "markdown",
   "metadata": {},
   "source": [
    "### Testing the Fundamental Analyst agent\n",
    "---\n",
    "\n",
    "Now that we've created the agent, let's test it by using our `invoke_agent_helper` function. Here, we will invoke the `fundamental analyst` agent to provide balance sheet information, income statements and cash flow information based on the question provided by the user.\n",
    "\n",
    "Since the `invoke_agent_helper` is wrapped with a `weave` decorator, it will log the input/outputs or any errors to your weave account dashboard. To create a weave API key, refer to the following link: https://wandb.ai/site/weave/"
   ]
  },
  {
   "cell_type": "code",
   "execution_count": 15,
   "metadata": {},
   "outputs": [],
   "source": [
    "# sleep for 30 seconds before invoking the agent\n",
    "time.sleep(30)"
   ]
  },
  {
   "cell_type": "code",
   "execution_count": 16,
   "metadata": {},
   "outputs": [
    {
     "name": "stdout",
     "output_type": "stream",
     "text": [
      "invokeAgent API request ID: a9a904a7-97a2-491f-9385-f058f5c08304\n",
      "invokeAgent API session ID: c4dfe1a8-c169-11ef-98c9-0e95fab06a54\n",
      "\u001b[32m---- Step 1 ----\u001b[0m\n",
      "\u001b[33mTook 2.2s, using 1460 tokens (in: 1308, out: 152) to complete prior action, observe, orchestrate.\u001b[0m\n",
      "\u001b[34mTo get the income statements for AAPL in 2023, I will call the FundamentalAnalysisActionGroup::get_income_statements function with the following parameters:\u001b[0m\n",
      "\u001b[35mUsing tool: get_income_statements with these inputs:\u001b[0m\n",
      "\u001b[35m[{'name': 'period', 'type': 'string', 'value': 'annual'}, {'name': 'ticker', 'type': 'string', 'value': 'AAPL'}, {'name': 'limit', 'type': 'integer', 'value': '4'}]\n",
      "\u001b[0m\n",
      "\u001b[35m--tool outputs:\n",
      "{\"income_statements\": [{\"ticker\": \"AAPL\", \"calendar_date\": \"2024-12-31\", \"report_period\": \"2024-09-28\", \"period\": \"annual\", \"currency\": \"USD\", \"revenue\": 391035000000.0, \"cost_of_revenue\": 210352000000.0, \"gross_profit\": 180683000000.0, \"operating_expense\": 57467000000.0, \"selling_general_and_admini...\n",
      "\u001b[0m\n",
      "\u001b[32m---- Step 2 ----\u001b[0m\n",
      "\u001b[33mTook 5.2s, using 3477 tokens (in: 3010, out: 467) to complete prior action, observe, orchestrate.\u001b[0m\n",
      "\u001b[34mThe income statement data for AAPL in 2023 shows the following key highlights:\n",
      "\n",
      "- Revenue in 2023 was $383.285 billion, up from $365.817 billion in 2021.\n",
      "- Gross profit in 2023 was $169.148 billion, up from $152.836 billion in 2021.\n",
      "- Operating income in 2023 was $114.301 billion, up from $108.949 billion in 2021.\n",
      "- Net income in 2023 was $96.995 billion, up from $94.680 billion in 2021.\n",
      "- Earnings per share (diluted) in 2023 was $6.13, up from $5.61 in 2021.\n",
      "- The company paid $0.94 per share in dividends in 2023, up from $0.85 per share in 2021.\n",
      "\n",
      "Overall, the income statement data shows continued growth in revenue, profitability, and earnings per share for AAPL in 2023 compared to the prior year.\u001b[0m\n",
      "\u001b[36mFinal response:\n",
      "In summary, the key highlights from Apple's (AAPL) income statements in 2023 are:\n",
      "\n",
      "- Revenue: $383.285 billion, up from $365.817 billion in 2021\n",
      "- Gross Profit: $169.148 billion, up from $152.836 billion in 2021\n",
      "- Operating Income: $114.301 billion, up from $108.949 billion in 2021 \n",
      "- Net Income: $9...\u001b[0m\n",
      "\u001b[33mAgent made a total of 2 LLM calls, using 4937 tokens (in: 4318, out: 619), and took 7.6 total seconds\u001b[0m\n",
      "🍩 https://wandb.ai/billdoors0755-aws/hedge-fund-multi-agent-collaboration/r/call/0193f525-2d74-7860-94ef-1695eee0de87\n",
      "====================\n",
      "In summary, the key highlights from Apple's (AAPL) income statements in 2023 are:\n",
      "\n",
      "- Revenue: $383.285 billion, up from $365.817 billion in 2021\n",
      "- Gross Profit: $169.148 billion, up from $152.836 billion in 2021\n",
      "- Operating Income: $114.301 billion, up from $108.949 billion in 2021 \n",
      "- Net Income: $96.995 billion, up from $94.680 billion in 2021\n",
      "- Earnings Per Share (diluted): $6.13, up from $5.61 in 2021\n",
      "- Dividends Per Share: $0.94, up from $0.85 in 2021\n",
      "\n",
      "The data shows continued strong financial performance for Apple in 2023, with growth across key metrics like revenue, profitability, and earnings per share compared to the prior year.\n",
      "CPU times: user 46 ms, sys: 4.78 ms, total: 50.8 ms\n",
      "Wall time: 7.61 s\n"
     ]
    }
   ],
   "source": [
    "%%time\n",
    "response = agents.invoke(\n",
    "    \"\"\"Summarize income statements for AAPL in 2023\"\"\", \n",
    "    fundamental_analyst_agent[0], enable_trace=True\n",
    ")\n",
    "print(\"====================\")\n",
    "print(response)"
   ]
  },
  {
   "cell_type": "markdown",
   "metadata": {},
   "source": [
    "As seen from above, the agent rationalizes and uses the `get_income_statements` from the `FundamentalAnalysisActionGroup` to get the summary of the income statements for `AAPL`. View the API usage of the financial dataset website below that the agent calls to get the relevant data to answer the user question.\n",
    "\n",
    "![api-usage](images/api-usage.png)"
   ]
  },
  {
   "cell_type": "code",
   "execution_count": null,
   "metadata": {},
   "outputs": [],
   "source": [
    "%%time\n",
    "response = agents.invoke(\n",
    "    \"\"\"What is AAPL's balance sheet information for the first quarter of May, 2021?\"\"\",\n",
    "    fundamental_analyst_agent[0], enable_trace=True\n",
    ")\n",
    "print(\"====================\")\n",
    "print(response)"
   ]
  },
  {
   "cell_type": "code",
   "execution_count": null,
   "metadata": {},
   "outputs": [],
   "source": [
    "%%time\n",
    "response = agents.invoke(\n",
    "    \"\"\"Describe AAPL's cash flow for 2024?\"\"\",\n",
    "    fundamental_analyst_agent[0], enable_trace=True\n",
    ")\n",
    "print(\"====================\")\n",
    "print(response)"
   ]
  },
  {
   "cell_type": "code",
   "execution_count": null,
   "metadata": {},
   "outputs": [],
   "source": [
    "%%time\n",
    "response = agents.invoke(\n",
    "    \"\"\"What is a llama?\"\"\",\n",
    "    fundamental_analyst_agent[0], enable_trace=True\n",
    ")\n",
    "print(\"====================\")\n",
    "print(response)"
   ]
  },
  {
   "cell_type": "markdown",
   "metadata": {},
   "source": [
    "### Create alias\n",
    "\n",
    "For multi-agents collaboration it is expected that you first test your agent and only use it once it is fully functional.\n",
    "\n",
    "Since we've tested and validated our agent, let's now create an alias for it:"
   ]
  },
  {
   "cell_type": "code",
   "execution_count": null,
   "metadata": {},
   "outputs": [],
   "source": [
    "fundamental_analyst_agent_id, fundamental_analyst_agent_alias_arn = agents.create_agent_alias(\n",
    "    fundamental_analyst_agent[0], 'v1'\n",
    ")"
   ]
  },
  {
   "cell_type": "code",
   "execution_count": null,
   "metadata": {},
   "outputs": [],
   "source": [
    "fundamental_analyst_agent_arn = agents.get_agent_arn_by_name(SUB_AGENT_FUNDAMENTAL_ANALYST)"
   ]
  },
  {
   "cell_type": "markdown",
   "metadata": {},
   "source": [
    "### Saving the information\n",
    "---\n",
    "Let's now save some information so that we can use this agent as a sub-agent of our financial hedge fund assistant"
   ]
  },
  {
   "cell_type": "code",
   "execution_count": null,
   "metadata": {},
   "outputs": [],
   "source": [
    "%store fundamental_analyst_agent_id\n",
    "%store fundamental_analyst_agent_alias_arn\n",
    "%store fundamental_analyst_agent_arn"
   ]
  }
 ],
 "metadata": {
  "kernelspec": {
   "display_name": "Python 3 (ipykernel)",
   "language": "python",
   "name": "python3"
  },
  "language_info": {
   "codemirror_mode": {
    "name": "ipython",
    "version": 3
   },
   "file_extension": ".py",
   "mimetype": "text/x-python",
   "name": "python",
   "nbconvert_exporter": "python",
   "pygments_lexer": "ipython3",
   "version": "3.11.11"
  }
 },
 "nbformat": 4,
 "nbformat_minor": 4
}

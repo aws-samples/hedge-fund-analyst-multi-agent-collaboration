{
 "cells": [
  {
   "cell_type": "markdown",
   "metadata": {},
   "source": [
    "## Creating sub-agent 3: Market analysis agent\n",
    "\n",
    "In this folder we will create the second sub-agent for get options chains, insider trading transactions and get news. We will use the `financial dataset API` and three functions: `get_options_chains`, `get_insider_trading` and `get_news` using the `marketing-analyst-agent`."
   ]
  },
  {
   "cell_type": "markdown",
   "metadata": {},
   "source": [
    "### Prerequisites\n",
    "---\n",
    "\n",
    "You are going to install boto3 dependencies from pip. Make sure you have the latest version of it for full capabilities\n",
    "\n",
    "Before running this notebook, make sure to populate the `.env` file with your `FINANCIAL_DATASETS_API_KEY` and `TAVILY_API_KEY`. These two `API` keys will be used by the agent to access information on user related questions. You can create an `API` here: https://www.financialdatasets.ai/"
   ]
  },
  {
   "cell_type": "code",
   "execution_count": 1,
   "metadata": {},
   "outputs": [
    {
     "name": "stdout",
     "output_type": "stream",
     "text": [
      "Found existing installation: boto3 1.35.83\n",
      "Uninstalling boto3-1.35.83:\n",
      "  Successfully uninstalled boto3-1.35.83\n",
      "Found existing installation: botocore 1.35.83\n",
      "Uninstalling botocore-1.35.83:\n",
      "  Successfully uninstalled botocore-1.35.83\n",
      "Found existing installation: awscli 1.36.24\n",
      "Uninstalling awscli-1.36.24:\n",
      "  Successfully uninstalled awscli-1.36.24\n"
     ]
    }
   ],
   "source": [
    "!pip uninstall boto3 botocore awscli --yes"
   ]
  },
  {
   "cell_type": "code",
   "execution_count": 2,
   "metadata": {},
   "outputs": [],
   "source": [
    "# Install latest boto3\n",
    "!python3 -m pip install --force-reinstall --no-cache -q --no-dependencies -r ../requirements.txt"
   ]
  },
  {
   "cell_type": "markdown",
   "metadata": {},
   "source": [
    "### Import required libraries\n",
    "\n",
    "Next we will import the required libraries. We will also import some support functions available in the parent directory. Those functions are:\n",
    "\n",
    "1. `create_agent`: helps you to create the necessary IAM permissions and Bedrock agetns based on the agent's name, instructions, foundation models, descriptions and other properties.\n",
    "\n",
    "1. `invoke_agent_helper`: helps you to invoke your agent using invoke_agent\n",
    "You can see the implementation of both functions in the parent directory"
   ]
  },
  {
   "cell_type": "code",
   "execution_count": 3,
   "metadata": {},
   "outputs": [
    {
     "name": "stdout",
     "output_type": "stream",
     "text": [
      "/Users/madhurpt/Desktop/hedge-fund-analyst-multi-agent-collaboration-2\n",
      "Boto3 version: 1.35.83\n"
     ]
    },
    {
     "name": "stderr",
     "output_type": "stream",
     "text": [
      "[2024-12-17 19:44:08,151] p88722 {requests.py:227} INFO - >>> {\"query\": \"query DefaultEntity {\\n  viewer {\\n    username\\n    defaultEntity {\\n      name\\n    }\\n  }\\n}\"}\n",
      "[2024-12-17 19:44:08,278] p88722 {requests.py:263} INFO - <<< {\"data\":{\"viewer\":{\"username\":\"madhur-prash\",\"defaultEntity\":{\"name\":\"madhur-prash-none\"}}}}\n",
      "[2024-12-17 19:44:09,711] p88722 {utils.py:160} INFO - NumExpr defaulting to 8 threads.\n",
      "[2024-12-17 19:44:10,521] p88722 {_client.py:1026} INFO - HTTP Request: GET https://raw.githubusercontent.com/BerriAI/litellm/main/model_prices_and_context_window.json \"HTTP/1.1 200 OK\"\n",
      "[2024-12-17 19:44:11,112] p88722 {config.py:59} INFO - PyTorch version 2.3.0 available.\n",
      "[2024-12-17 19:44:11,336] p88722 {requests.py:227} INFO - >>> {\"query\": \"query DefaultEntity {\\n  viewer {\\n    username\\n    defaultEntity {\\n      name\\n    }\\n  }\\n}\"}\n",
      "[2024-12-17 19:44:11,428] p88722 {requests.py:263} INFO - <<< {\"data\":{\"viewer\":{\"username\":\"madhur-prash\",\"defaultEntity\":{\"name\":\"madhur-prash-none\"}}}}\n"
     ]
    },
    {
     "name": "stdout",
     "output_type": "stream",
     "text": [
      "Logged in as Weights & Biases user: madhur-prash.\n",
      "View Weave data at https://wandb.ai/madhur-prash-none/multi-agent-collaboration/weave\n"
     ]
    }
   ],
   "source": [
    "import os\n",
    "import sys\n",
    "import time\n",
    "import json\n",
    "import boto3\n",
    "import shutil\n",
    "import logging\n",
    "import zipfile\n",
    "import subprocess\n",
    "from dotenv import load_dotenv\n",
    "\n",
    "# Get the current file's directory\n",
    "current_dir = os.path.dirname(os.path.abspath('__file__'))\n",
    "\n",
    "# Get the parent directory\n",
    "parent_dir = os.path.dirname(current_dir)\n",
    "print(parent_dir)\n",
    "\n",
    "# Add the parent directory to sys.path\n",
    "sys.path.append(parent_dir)\n",
    "\n",
    "from utils import *\n",
    "from globals import *\n",
    "from agents import create_agent, invoke_agent_helper"
   ]
  },
  {
   "cell_type": "code",
   "execution_count": 4,
   "metadata": {},
   "outputs": [
    {
     "data": {
      "text/plain": [
       "<function dotenv.main.load_dotenv(dotenv_path: Union[str, ForwardRef('os.PathLike[str]'), NoneType] = None, stream: Optional[IO[str]] = None, verbose: bool = False, override: bool = False, interpolate: bool = True, encoding: Optional[str] = 'utf-8') -> bool>"
      ]
     },
     "execution_count": 4,
     "metadata": {},
     "output_type": "execute_result"
    }
   ],
   "source": [
    "# Load the environment variables that are defined in the \".env\" file. This contains the \n",
    "# financial data API key that will enable the user to access the data\n",
    "load_dotenv"
   ]
  },
  {
   "cell_type": "code",
   "execution_count": 5,
   "metadata": {},
   "outputs": [],
   "source": [
    "# set a logger\n",
    "logging.basicConfig(format='[%(asctime)s] p%(process)s {%(filename)s:%(lineno)d} %(levelname)s - %(message)s', level=logging.INFO)\n",
    "logger = logging.getLogger(__name__)"
   ]
  },
  {
   "cell_type": "markdown",
   "metadata": {},
   "source": [
    "### Defining agent configuration\n",
    "---"
   ]
  },
  {
   "cell_type": "code",
   "execution_count": 6,
   "metadata": {},
   "outputs": [],
   "source": [
    "agent_instruction = \"\"\"You are a comprehensive market analysis assistant that helps users analyze options chains, insider trading data, and relevant market news.\n",
    "You require the user to provide a stock ticker symbol for analysis.\n",
    "If a user does not provide a ticker symbol, mention in the answer that they need to provide a ticker symbol.\n",
    "\n",
    "You can perform the following types of analysis. You have access to APIs and tools to call to fetch data based on what the user question is:\n",
    "\n",
    "1. Use the appropriate functions based on the analysis needed:\n",
    "    - get_options_chain for options analysis\n",
    "    - get_insider_trades for insider trading analysis\n",
    "    - get_news for market news and sentiment\n",
    "\n",
    "2. Options Chain Analysis:\n",
    "   - View available options contracts\n",
    "   - Filter by strike price\n",
    "   - Filter by option type (call/put)\n",
    "   - Analyze options pricing and volume\n",
    "\n",
    "3. Insider Trading Analysis:\n",
    "   - Recent insider transactions\n",
    "   - Transaction types (buy/sell)\n",
    "\n",
    "4. Market News Analysis:\n",
    "   - Latest relevant news\n",
    "   - Market sentiment\n",
    "   - Industry trends\n",
    "\n",
    "For options chain data, you can specify:\n",
    "- Strike price filters\n",
    "- Option type (call/put)\n",
    "- Number of results to return (limit)\n",
    "\n",
    "For insider trades, you can specify:\n",
    "- Number of transactions to analyze (limit)\n",
    "\n",
    "If you do not have access to the data that the user is asking for, do not make up an answer, just say that you do not know the answer. Be completely\n",
    "accurate. Do not provide answers to anything but on the topic specified above.\n",
    "\"\"\"\n",
    "\n",
    "agent_description = \"Agent for analyzing options chains, insider trading data, and market news\""
   ]
  },
  {
   "cell_type": "code",
   "execution_count": 7,
   "metadata": {},
   "outputs": [],
   "source": [
    "# These are the functions that are used by the market analysis agent\n",
    "functions = [{\n",
    "    'name': 'get_options_chain',\n",
    "    'description': 'Get options chain data for a ticker',\n",
    "    'parameters': {\n",
    "        \"ticker\": {\n",
    "            \"description\": \"stock ticker symbol of the company\",\n",
    "            \"required\": True,\n",
    "            \"type\": \"string\"\n",
    "        },\n",
    "        \"limit\": {\n",
    "            \"description\": \"number of options to retrieve\",\n",
    "            \"required\": False,\n",
    "            \"type\": \"integer\"\n",
    "        },\n",
    "        \"strike_price\": {\n",
    "            \"description\": \"filter by strike price\",\n",
    "            \"required\": False,\n",
    "            \"type\": \"number\"\n",
    "        },\n",
    "        \"option_type\": {\n",
    "            \"description\": \"filter by option type (call/put)\",\n",
    "            \"required\": False,\n",
    "            \"type\": \"string\"\n",
    "        }\n",
    "    }\n",
    "},\n",
    "{\n",
    "    'name': 'get_insider_trades',\n",
    "    'description': 'Get insider trading transactions for a ticker',\n",
    "    'parameters': {\n",
    "        \"ticker\": {\n",
    "            \"description\": \"stock ticker symbol of the company\",\n",
    "            \"required\": True,\n",
    "            \"type\": \"string\"\n",
    "        },\n",
    "        \"limit\": {\n",
    "            \"description\": \"number of transactions to retrieve\",\n",
    "            \"required\": False,\n",
    "            \"type\": \"integer\"\n",
    "        }\n",
    "    }\n",
    "},\n",
    "{\n",
    "    'name': 'get_news',\n",
    "    'description': 'Get latest market news and analysis',\n",
    "    'parameters': {\n",
    "        \"query\": {\n",
    "            \"description\": \"search query for news\",\n",
    "            \"required\": True,\n",
    "            \"type\": \"string\"\n",
    "        },\n",
    "        \"max_results\": {\n",
    "            \"description\": \"maximum number of news results\",\n",
    "            \"required\": False,\n",
    "            \"type\": \"integer\"\n",
    "        }\n",
    "    }\n",
    "}]"
   ]
  },
  {
   "cell_type": "markdown",
   "metadata": {},
   "source": [
    "### Add a lambda layer to the lambda function\n",
    "---\n",
    "\n",
    "In this section of the notebook, we will add a lambda layer to the lambda function. We will be installing `requests` to make requests to the financial data API key."
   ]
  },
  {
   "cell_type": "code",
   "execution_count": 8,
   "metadata": {},
   "outputs": [
    {
     "name": "stdout",
     "output_type": "stream",
     "text": [
      "Looking in indexes: https://pypi.org/simple, https://pypi.ngc.nvidia.com\n",
      "Collecting requests\n",
      "  Downloading requests-2.32.3-py3-none-any.whl.metadata (4.6 kB)\n",
      "Collecting charset-normalizer<4,>=2 (from requests)\n",
      "  Downloading charset_normalizer-3.4.0-cp311-cp311-macosx_11_0_arm64.whl.metadata (34 kB)\n",
      "Collecting idna<4,>=2.5 (from requests)\n",
      "  Downloading idna-3.10-py3-none-any.whl.metadata (10 kB)\n",
      "Collecting urllib3<3,>=1.21.1 (from requests)\n",
      "  Downloading urllib3-2.2.3-py3-none-any.whl.metadata (6.5 kB)\n",
      "Collecting certifi>=2017.4.17 (from requests)\n",
      "  Downloading certifi-2024.12.14-py3-none-any.whl.metadata (2.3 kB)\n",
      "Downloading requests-2.32.3-py3-none-any.whl (64 kB)\n",
      "Downloading certifi-2024.12.14-py3-none-any.whl (164 kB)\n",
      "Downloading charset_normalizer-3.4.0-cp311-cp311-macosx_11_0_arm64.whl (118 kB)\n",
      "Downloading idna-3.10-py3-none-any.whl (70 kB)\n",
      "Downloading urllib3-2.2.3-py3-none-any.whl (126 kB)\n",
      "Installing collected packages: urllib3, idna, charset-normalizer, certifi, requests\n",
      "Successfully installed certifi-2024.12.14 charset-normalizer-3.4.0 idna-3.10 requests-2.32.3 urllib3-2.2.3\n"
     ]
    },
    {
     "name": "stderr",
     "output_type": "stream",
     "text": [
      "\u001b[31mERROR: pip's dependency resolver does not currently take into account all the packages that are installed. This behaviour is the source of the following dependency conflicts.\n",
      "conda-repo-cli 1.0.75 requires requests_mock, which is not installed.\n",
      "langchain-community 0.2.17 requires langchain-core<0.3.0,>=0.2.39, but you have langchain-core 0.3.24 which is incompatible.\n",
      "langchain-community 0.2.17 requires langsmith<0.2.0,>=0.1.112, but you have langsmith 0.2.3 which is incompatible.\n",
      "langchain-community 0.2.17 requires tenacity!=8.4.0,<9.0.0,>=8.1.0, but you have tenacity 9.0.0 which is incompatible.\n",
      "streamlit 1.30.0 requires packaging<24,>=16.8, but you have packaging 24.2 which is incompatible.\n",
      "streamlit 1.30.0 requires protobuf<5,>=3.20, but you have protobuf 5.28.3 which is incompatible.\n",
      "streamlit 1.30.0 requires tenacity<9,>=8.1.0, but you have tenacity 9.0.0 which is incompatible.\n",
      "cohere 5.3.4 requires tokenizers<0.20,>=0.19, but you have tokenizers 0.20.1 which is incompatible.\n",
      "llama-index-legacy 0.9.48 requires tenacity<9.0.0,>=8.2.0, but you have tenacity 9.0.0 which is incompatible.\n",
      "conda-repo-cli 1.0.75 requires clyent==1.2.1, but you have clyent 1.2.2 which is incompatible.\n",
      "conda-repo-cli 1.0.75 requires python-dateutil==2.8.2, but you have python-dateutil 2.9.0.post0 which is incompatible.\n",
      "conda-repo-cli 1.0.75 requires PyYAML==6.0.1, but you have pyyaml 6.0.2 which is incompatible.\n",
      "conda-repo-cli 1.0.75 requires requests==2.31.0, but you have requests 2.32.3 which is incompatible.\n",
      "sagemaker 2.232.2 requires attrs<24,>=23.1.0, but you have attrs 24.2.0 which is incompatible.\n",
      "sagemaker 2.232.2 requires protobuf<5.0,>=3.12, but you have protobuf 5.28.3 which is incompatible.\n",
      "gradientai 1.11.0 requires pydantic<2.0.0,>=1.10.5, but you have pydantic 2.9.2 which is incompatible.\n",
      "deepeval 0.20.57 requires protobuf==4.25.1, but you have protobuf 5.28.3 which is incompatible.\n",
      "langchain 0.2.16 requires langchain-core<0.3.0,>=0.2.38, but you have langchain-core 0.3.24 which is incompatible.\n",
      "langchain 0.2.16 requires langsmith<0.2.0,>=0.1.17, but you have langsmith 0.2.3 which is incompatible.\n",
      "langchain 0.2.16 requires tenacity!=8.4.0,<9.0.0,>=8.1.0, but you have tenacity 9.0.0 which is incompatible.\n",
      "llama-index-finetuning 0.1.5 requires sentence-transformers<3.0.0,>=2.3.0, but you have sentence-transformers 3.3.1 which is incompatible.\n",
      "anaconda-cloud-auth 0.1.4 requires pydantic<2.0, but you have pydantic 2.9.2 which is incompatible.\n",
      "llama-index-core 0.10.34 requires tenacity<9.0.0,>=8.2.0, but you have tenacity 9.0.0 which is incompatible.\n",
      "farm-haystack 1.26.4 requires pydantic<2, but you have pydantic 2.9.2 which is incompatible.\u001b[0m\u001b[31m\n",
      "\u001b[0m"
     ]
    },
    {
     "name": "stdout",
     "output_type": "stream",
     "text": [
      "Looking in indexes: https://pypi.org/simple, https://pypi.ngc.nvidia.com\n",
      "Collecting tavily-python\n",
      "  Downloading tavily_python-0.5.0-py3-none-any.whl.metadata (11 kB)\n",
      "Collecting requests (from tavily-python)\n",
      "  Downloading requests-2.32.3-py3-none-any.whl.metadata (4.6 kB)\n",
      "Collecting tiktoken>=0.5.1 (from tavily-python)\n",
      "  Downloading tiktoken-0.8.0-cp311-cp311-macosx_11_0_arm64.whl.metadata (6.6 kB)\n",
      "Collecting httpx (from tavily-python)\n",
      "  Downloading httpx-0.28.1-py3-none-any.whl.metadata (7.1 kB)\n",
      "Collecting regex>=2022.1.18 (from tiktoken>=0.5.1->tavily-python)\n",
      "  Downloading regex-2024.11.6-cp311-cp311-macosx_11_0_arm64.whl.metadata (40 kB)\n",
      "Collecting charset-normalizer<4,>=2 (from requests->tavily-python)\n",
      "  Downloading charset_normalizer-3.4.0-cp311-cp311-macosx_11_0_arm64.whl.metadata (34 kB)\n",
      "Collecting idna<4,>=2.5 (from requests->tavily-python)\n",
      "  Downloading idna-3.10-py3-none-any.whl.metadata (10 kB)\n",
      "Collecting urllib3<3,>=1.21.1 (from requests->tavily-python)\n",
      "  Downloading urllib3-2.2.3-py3-none-any.whl.metadata (6.5 kB)\n",
      "Collecting certifi>=2017.4.17 (from requests->tavily-python)\n",
      "  Downloading certifi-2024.12.14-py3-none-any.whl.metadata (2.3 kB)\n",
      "Collecting anyio (from httpx->tavily-python)\n",
      "  Downloading anyio-4.7.0-py3-none-any.whl.metadata (4.7 kB)\n",
      "Collecting httpcore==1.* (from httpx->tavily-python)\n",
      "  Downloading httpcore-1.0.7-py3-none-any.whl.metadata (21 kB)\n",
      "Collecting h11<0.15,>=0.13 (from httpcore==1.*->httpx->tavily-python)\n",
      "  Downloading h11-0.14.0-py3-none-any.whl.metadata (8.2 kB)\n",
      "Collecting sniffio>=1.1 (from anyio->httpx->tavily-python)\n",
      "  Downloading sniffio-1.3.1-py3-none-any.whl.metadata (3.9 kB)\n",
      "Collecting typing_extensions>=4.5 (from anyio->httpx->tavily-python)\n",
      "  Downloading typing_extensions-4.12.2-py3-none-any.whl.metadata (3.0 kB)\n",
      "Downloading tavily_python-0.5.0-py3-none-any.whl (14 kB)\n",
      "Downloading tiktoken-0.8.0-cp311-cp311-macosx_11_0_arm64.whl (982 kB)\n",
      "\u001b[2K   \u001b[90m━━━━━━━━━━━━━━━━━━━━━━━━━━━━━━━━━━━━━━━━\u001b[0m \u001b[32m982.4/982.4 kB\u001b[0m \u001b[31m15.3 MB/s\u001b[0m eta \u001b[36m0:00:00\u001b[0m\n",
      "\u001b[?25hDownloading requests-2.32.3-py3-none-any.whl (64 kB)\n",
      "Downloading httpx-0.28.1-py3-none-any.whl (73 kB)\n",
      "Downloading httpcore-1.0.7-py3-none-any.whl (78 kB)\n",
      "Downloading certifi-2024.12.14-py3-none-any.whl (164 kB)\n",
      "Downloading charset_normalizer-3.4.0-cp311-cp311-macosx_11_0_arm64.whl (118 kB)\n",
      "Downloading idna-3.10-py3-none-any.whl (70 kB)\n",
      "Downloading regex-2024.11.6-cp311-cp311-macosx_11_0_arm64.whl (284 kB)\n",
      "Downloading urllib3-2.2.3-py3-none-any.whl (126 kB)\n",
      "Downloading anyio-4.7.0-py3-none-any.whl (93 kB)\n",
      "Downloading h11-0.14.0-py3-none-any.whl (58 kB)\n",
      "Downloading sniffio-1.3.1-py3-none-any.whl (10 kB)\n",
      "Downloading typing_extensions-4.12.2-py3-none-any.whl (37 kB)\n",
      "Installing collected packages: urllib3, typing_extensions, sniffio, regex, idna, h11, charset-normalizer, certifi, requests, httpcore, anyio, tiktoken, httpx, tavily-python\n"
     ]
    },
    {
     "name": "stderr",
     "output_type": "stream",
     "text": [
      "\u001b[31mERROR: pip's dependency resolver does not currently take into account all the packages that are installed. This behaviour is the source of the following dependency conflicts.\n",
      "conda-repo-cli 1.0.75 requires requests_mock, which is not installed.\n",
      "langchain-community 0.2.17 requires langchain-core<0.3.0,>=0.2.39, but you have langchain-core 0.3.24 which is incompatible.\n",
      "langchain-community 0.2.17 requires langsmith<0.2.0,>=0.1.112, but you have langsmith 0.2.3 which is incompatible.\n",
      "langchain-community 0.2.17 requires tenacity!=8.4.0,<9.0.0,>=8.1.0, but you have tenacity 9.0.0 which is incompatible.\n",
      "streamlit 1.30.0 requires packaging<24,>=16.8, but you have packaging 24.2 which is incompatible.\n",
      "streamlit 1.30.0 requires protobuf<5,>=3.20, but you have protobuf 5.28.3 which is incompatible.\n",
      "streamlit 1.30.0 requires tenacity<9,>=8.1.0, but you have tenacity 9.0.0 which is incompatible.\n",
      "cohere 5.3.4 requires tokenizers<0.20,>=0.19, but you have tokenizers 0.20.1 which is incompatible.\n",
      "langchain-openai 0.1.8 requires langchain-core<0.3,>=0.2.2, but you have langchain-core 0.3.24 which is incompatible.\n",
      "llama-index-legacy 0.9.48 requires tenacity<9.0.0,>=8.2.0, but you have tenacity 9.0.0 which is incompatible.\n",
      "conda-repo-cli 1.0.75 requires clyent==1.2.1, but you have clyent 1.2.2 which is incompatible.\n",
      "conda-repo-cli 1.0.75 requires python-dateutil==2.8.2, but you have python-dateutil 2.9.0.post0 which is incompatible.\n",
      "conda-repo-cli 1.0.75 requires PyYAML==6.0.1, but you have pyyaml 6.0.2 which is incompatible.\n",
      "conda-repo-cli 1.0.75 requires requests==2.31.0, but you have requests 2.32.3 which is incompatible.\n",
      "sagemaker 2.232.2 requires attrs<24,>=23.1.0, but you have attrs 24.2.0 which is incompatible.\n",
      "sagemaker 2.232.2 requires protobuf<5.0,>=3.12, but you have protobuf 5.28.3 which is incompatible.\n",
      "gradientai 1.11.0 requires pydantic<2.0.0,>=1.10.5, but you have pydantic 2.9.2 which is incompatible.\n",
      "deepeval 0.20.57 requires protobuf==4.25.1, but you have protobuf 5.28.3 which is incompatible.\n",
      "langchain 0.2.16 requires langchain-core<0.3.0,>=0.2.38, but you have langchain-core 0.3.24 which is incompatible.\n",
      "langchain 0.2.16 requires langsmith<0.2.0,>=0.1.17, but you have langsmith 0.2.3 which is incompatible.\n",
      "langchain 0.2.16 requires tenacity!=8.4.0,<9.0.0,>=8.1.0, but you have tenacity 9.0.0 which is incompatible.\n",
      "llama-index-finetuning 0.1.5 requires sentence-transformers<3.0.0,>=2.3.0, but you have sentence-transformers 3.3.1 which is incompatible.\n",
      "anaconda-cloud-auth 0.1.4 requires pydantic<2.0, but you have pydantic 2.9.2 which is incompatible.\n",
      "llama-index-core 0.10.34 requires tenacity<9.0.0,>=8.2.0, but you have tenacity 9.0.0 which is incompatible.\n",
      "farm-haystack 1.26.4 requires pydantic<2, but you have pydantic 2.9.2 which is incompatible.\n",
      "langchain-aws 0.1.6 requires boto3<1.35.0,>=1.34.51, but you have boto3 1.35.83 which is incompatible.\n",
      "langchain-aws 0.1.6 requires langchain-core<0.3,>=0.1.45, but you have langchain-core 0.3.24 which is incompatible.\n",
      "mistral-common 1.4.4 requires tiktoken<0.8.0,>=0.7.0, but you have tiktoken 0.8.0 which is incompatible.\u001b[0m\u001b[31m\n",
      "\u001b[0m\u001b[33mWARNING: Target directory /Users/madhurpt/Desktop/hedge-fund-analyst-multi-agent-collaboration-2/2_ market_analyst_agent/lambda_layer/python/lib/python3.9/site-packages/idna-3.10.dist-info already exists. Specify --upgrade to force replacement.\u001b[0m\u001b[33m\n",
      "\u001b[0m\u001b[33mWARNING: Target directory /Users/madhurpt/Desktop/hedge-fund-analyst-multi-agent-collaboration-2/2_ market_analyst_agent/lambda_layer/python/lib/python3.9/site-packages/urllib3-2.2.3.dist-info already exists. Specify --upgrade to force replacement.\u001b[0m\u001b[33m\n",
      "\u001b[0m\u001b[33mWARNING: Target directory /Users/madhurpt/Desktop/hedge-fund-analyst-multi-agent-collaboration-2/2_ market_analyst_agent/lambda_layer/python/lib/python3.9/site-packages/requests-2.32.3.dist-info already exists. Specify --upgrade to force replacement.\u001b[0m\u001b[33m\n",
      "\u001b[0m\u001b[33mWARNING: Target directory /Users/madhurpt/Desktop/hedge-fund-analyst-multi-agent-collaboration-2/2_ market_analyst_agent/lambda_layer/python/lib/python3.9/site-packages/idna already exists. Specify --upgrade to force replacement.\u001b[0m\u001b[33m\n",
      "\u001b[0m\u001b[33mWARNING: Target directory /Users/madhurpt/Desktop/hedge-fund-analyst-multi-agent-collaboration-2/2_ market_analyst_agent/lambda_layer/python/lib/python3.9/site-packages/charset_normalizer already exists. Specify --upgrade to force replacement.\u001b[0m\u001b[33m\n",
      "\u001b[0m\u001b[33mWARNING: Target directory /Users/madhurpt/Desktop/hedge-fund-analyst-multi-agent-collaboration-2/2_ market_analyst_agent/lambda_layer/python/lib/python3.9/site-packages/requests already exists. Specify --upgrade to force replacement.\u001b[0m\u001b[33m\n",
      "\u001b[0m\u001b[33mWARNING: Target directory /Users/madhurpt/Desktop/hedge-fund-analyst-multi-agent-collaboration-2/2_ market_analyst_agent/lambda_layer/python/lib/python3.9/site-packages/certifi already exists. Specify --upgrade to force replacement.\u001b[0m\u001b[33m\n",
      "\u001b[0m\u001b[33mWARNING: Target directory /Users/madhurpt/Desktop/hedge-fund-analyst-multi-agent-collaboration-2/2_ market_analyst_agent/lambda_layer/python/lib/python3.9/site-packages/urllib3 already exists. Specify --upgrade to force replacement.\u001b[0m\u001b[33m\n",
      "\u001b[0m\u001b[33mWARNING: Target directory /Users/madhurpt/Desktop/hedge-fund-analyst-multi-agent-collaboration-2/2_ market_analyst_agent/lambda_layer/python/lib/python3.9/site-packages/charset_normalizer-3.4.0.dist-info already exists. Specify --upgrade to force replacement.\u001b[0m\u001b[33m\n",
      "\u001b[0m\u001b[33mWARNING: Target directory /Users/madhurpt/Desktop/hedge-fund-analyst-multi-agent-collaboration-2/2_ market_analyst_agent/lambda_layer/python/lib/python3.9/site-packages/certifi-2024.12.14.dist-info already exists. Specify --upgrade to force replacement.\u001b[0m\u001b[33m\n",
      "\u001b[0m\u001b[33mWARNING: Target directory /Users/madhurpt/Desktop/hedge-fund-analyst-multi-agent-collaboration-2/2_ market_analyst_agent/lambda_layer/python/lib/python3.9/site-packages/bin already exists. Specify --upgrade to force replacement.\u001b[0m\u001b[33m\n",
      "\u001b[0m"
     ]
    },
    {
     "name": "stdout",
     "output_type": "stream",
     "text": [
      "Successfully installed anyio-4.7.0 certifi-2024.12.14 charset-normalizer-3.4.0 h11-0.14.0 httpcore-1.0.7 httpx-0.28.1 idna-3.10 regex-2024.11.6 requests-2.32.3 sniffio-1.3.1 tavily-python-0.5.0 tiktoken-0.8.0 typing_extensions-4.12.2 urllib3-2.2.3\n"
     ]
    }
   ],
   "source": [
    "# Create and publish the layer \n",
    "layer_zip = create_lambda_layer(['requests', 'tavily-python'])\n",
    "layer_arn = publish_layer('marketing-agent-lambda-layer')"
   ]
  },
  {
   "cell_type": "markdown",
   "metadata": {},
   "source": [
    "### Create agent\n",
    "---\n",
    "\n",
    "Next we will create the agent with the provided information"
   ]
  },
  {
   "cell_type": "code",
   "execution_count": 9,
   "metadata": {},
   "outputs": [
    {
     "name": "stdout",
     "output_type": "stream",
     "text": [
      "creating agent\n",
      "Policy market-analysis-agent-ba already exists\n",
      "Checking if AmazonBedrockExecutionRoleForAgents_market-analysis-agent role also exists\n",
      "Detaching and deleting market-analysis-agent-ba\n",
      "deleting AmazonBedrockExecutionRoleForAgents_market-analysis-agent\n",
      "Recreating market-analysis-agent-ba\n",
      "creating and attaching action group\n",
      "Role already exists -- deleting and creating it again\n",
      "Detaching AWSLambdaBasicExecutionRole\n",
      "Detaching AmazonDynamoDBFullAccess\n",
      "deleting market-analysis-agent-lambda-role\n",
      "recreating market-analysis-agent-lambda-role\n",
      "attaching basic lambda permissions to market-analysis-agent-lambda-role\n",
      "attaching dynamodb permissions to market-analysis-agent-lambda-role\n",
      "market-analysis-agent-lambda already exists, deleting it and recreating\n",
      "Agent id WBUINUADYX current status: NOT_PREPARED\n",
      "Waiting for agent status to change. Current status PREPARING\n",
      "Agent id WBUINUADYX current status: PREPARED\n",
      "Waiting for agent status to change. Current status VERSIONING\n",
      "Agent id WBUINUADYX current status: PREPARED\n"
     ]
    }
   ],
   "source": [
    "action_group_config = {\n",
    "    'name': 'MarketingAnalysisActionGroup',\n",
    "    'description': 'Action group to analyze marketing questions from the user',\n",
    "    'functions': functions,\n",
    "    'lambda_function_name': f'{SUB_AGENT_MARKETING_ANALYST}-lambda',\n",
    "    'lambda_file_path': MARKET_ANALYSIS_LAMBDA_FUNCTION_NAME,\n",
    "    'dynamodb_table_name': f'{SUB_AGENT_MARKETING_ANALYST}-table',\n",
    "    'dynamodb_attribute_name': 'analysis-id', \n",
    "    # Adding the lambda layer that contains the requests installation\n",
    "    'lambda_layers': [layer_arn]\n",
    "}\n",
    "\n",
    "# Create a Lambda client and attach the API key as env variable to the lambda function\n",
    "lambda_client = boto3.client('lambda')\n",
    "lambda_function_name = action_group_config['lambda_function_name']\n",
    "environment_variables = {\n",
    "    'FINANCIAL_DATASETS_API_KEY': os.getenv('FINANCIAL_DATASETS_API_KEY'), \n",
    "    'TAVILY_API_KEY': os.getenv('TAVILY_API_KEY')\n",
    "}\n",
    "\n",
    "# Create the agent with the updated action group config\n",
    "marketing_agent_id, marketing_agent_alias_id, marketing_agent_alias_arn = create_agent(\n",
    "    SUB_AGENT_MARKETING_ANALYST,\n",
    "    agent_instruction,\n",
    "    agent_foundation_model=BEDROCK_MODEL_CLAUDE_HAIKU,\n",
    "    agent_description=agent_description,\n",
    "    action_group_config=action_group_config\n",
    ")"
   ]
  },
  {
   "cell_type": "code",
   "execution_count": 10,
   "metadata": {},
   "outputs": [],
   "source": [
    "# Update the Lambda function's configuration to include the environment variables\n",
    "# In the case of this agent, we need the financial dataset and Tavily API as an env variable passed to the lambda\n",
    "# so that it can be used in fetching data based on user questions\n",
    "response = lambda_client.update_function_configuration(\n",
    "    FunctionName=lambda_function_name,\n",
    "    Environment={\n",
    "        'Variables': environment_variables\n",
    "    },\n",
    "    Layers=action_group_config['lambda_layers']\n",
    ")"
   ]
  },
  {
   "cell_type": "markdown",
   "metadata": {},
   "source": [
    "### Getting details from the agent\n",
    "--- \n",
    "Let's take a look at the details from the created agent."
   ]
  },
  {
   "cell_type": "code",
   "execution_count": 11,
   "metadata": {},
   "outputs": [
    {
     "data": {
      "text/plain": [
       "('WBUINUADYX',\n",
       " '65H2UJP7TF',\n",
       " 'arn:aws:bedrock:us-east-1:218208277580:agent-alias/WBUINUADYX/65H2UJP7TF')"
      ]
     },
     "execution_count": 11,
     "metadata": {},
     "output_type": "execute_result"
    }
   ],
   "source": [
    "marketing_agent_id, marketing_agent_alias_id, marketing_agent_alias_arn"
   ]
  },
  {
   "cell_type": "markdown",
   "metadata": {},
   "source": [
    "### Testing the Fundamental Analyst agent\n",
    "---\n",
    "\n",
    "Now that we've created the agent, let's test it by using our invoke_agent_helper function. Here, we will invoke the `fundamental analyst` agent to provide balance sheet information, income statements and cash flow information based on the question provided by the user."
   ]
  },
  {
   "cell_type": "code",
   "execution_count": 12,
   "metadata": {},
   "outputs": [],
   "source": [
    "# Sleep for 30 seconds before invoking the marketing analyst agent\n",
    "time.sleep(30)"
   ]
  },
  {
   "cell_type": "markdown",
   "metadata": {},
   "source": [
    "### Route the agent to call the `get_news()` function\n",
    "---\n",
    "\n",
    "This function enables the agent with a `TAVILY_API_KEY` that enables web search. In our function, we have provided `google.com` and `bloomberg.com` as domains that the agent can access, so the agent will search for results in these domains and return a comprehensive answer. "
   ]
  },
  {
   "cell_type": "code",
   "execution_count": 13,
   "metadata": {},
   "outputs": [
    {
     "name": "stderr",
     "output_type": "stream",
     "text": [
      "[2024-12-17 19:45:30,145] p88722 {agents.py:760} INFO - invoke_agent response metadata:\n",
      "[2024-12-17 19:45:30,146] p88722 {agents.py:761} INFO - {\n",
      "  \"RequestId\": \"106ea156-49c8-494d-8055-02b340b3b9a6\",\n",
      "  \"HTTPStatusCode\": 200,\n",
      "  \"HTTPHeaders\": {\n",
      "    \"date\": \"Wed, 18 Dec 2024 00:45:30 GMT\",\n",
      "    \"content-type\": \"application/vnd.amazon.eventstream\",\n",
      "    \"transfer-encoding\": \"chunked\",\n",
      "    \"connection\": \"keep-alive\",\n",
      "    \"x-amzn-requestid\": \"106ea156-49c8-494d-8055-02b340b3b9a6\",\n",
      "    \"x-amz-bedrock-agent-session-id\": \"616b2202-bcd9-11ef-a671-168aeb12c117\",\n",
      "    \"x-amzn-bedrock-agent-content-type\": \"application/json\"\n",
      "  },\n",
      "  \"RetryAttempts\": 0\n",
      "}\n",
      "[2024-12-17 19:45:30,353] p88722 {agents.py:787} INFO - ==== Trace Event Received ====\n",
      "[2024-12-17 19:45:30,354] p88722 {agents.py:790} INFO - callerChain: [\n",
      "  {\n",
      "    \"agentAliasArn\": \"arn:aws:bedrock:us-east-1:218208277580:agent-alias/WBUINUADYX/65H2UJP7TF\"\n",
      "  }\n",
      "]\n",
      "[2024-12-17 19:45:30,354] p88722 {agents.py:803} INFO - Orchestration Trace Detected\n",
      "[2024-12-17 19:45:31,781] p88722 {agents.py:787} INFO - ==== Trace Event Received ====\n",
      "[2024-12-17 19:45:31,783] p88722 {agents.py:790} INFO - callerChain: [\n",
      "  {\n",
      "    \"agentAliasArn\": \"arn:aws:bedrock:us-east-1:218208277580:agent-alias/WBUINUADYX/65H2UJP7TF\"\n",
      "  }\n",
      "]\n",
      "[2024-12-17 19:45:31,783] p88722 {agents.py:803} INFO - Orchestration Trace Detected\n",
      "[2024-12-17 19:45:31,784] p88722 {agents.py:787} INFO - ==== Trace Event Received ====\n",
      "[2024-12-17 19:45:31,785] p88722 {agents.py:790} INFO - callerChain: [\n",
      "  {\n",
      "    \"agentAliasArn\": \"arn:aws:bedrock:us-east-1:218208277580:agent-alias/WBUINUADYX/65H2UJP7TF\"\n",
      "  }\n",
      "]\n",
      "[2024-12-17 19:45:31,788] p88722 {agents.py:803} INFO - Orchestration Trace Detected\n",
      "[2024-12-17 19:45:31,790] p88722 {agents.py:806} INFO - Agent Rationale: Okay, let me search for news and information on Amazon (AMZN) stock as requested.\n",
      "[2024-12-17 19:45:34,651] p88722 {agents.py:787} INFO - ==== Trace Event Received ====\n",
      "[2024-12-17 19:45:34,652] p88722 {agents.py:790} INFO - callerChain: [\n",
      "  {\n",
      "    \"agentAliasArn\": \"arn:aws:bedrock:us-east-1:218208277580:agent-alias/WBUINUADYX/65H2UJP7TF\"\n",
      "  }\n",
      "]\n",
      "[2024-12-17 19:45:34,652] p88722 {agents.py:803} INFO - Orchestration Trace Detected\n",
      "[2024-12-17 19:45:34,655] p88722 {agents.py:787} INFO - ==== Trace Event Received ====\n",
      "[2024-12-17 19:45:34,656] p88722 {agents.py:790} INFO - callerChain: [\n",
      "  {\n",
      "    \"agentAliasArn\": \"arn:aws:bedrock:us-east-1:218208277580:agent-alias/WBUINUADYX/65H2UJP7TF\"\n",
      "  }\n",
      "]\n",
      "[2024-12-17 19:45:34,658] p88722 {agents.py:803} INFO - Orchestration Trace Detected\n",
      "[2024-12-17 19:45:34,659] p88722 {agents.py:808} INFO - Agent Observation: {\n",
      "  \"actionGroupInvocationOutput\": {\n",
      "    \"text\": \"{\\\"query\\\": \\\"Amazon stock\\\", \\\"results\\\": {\\\"query\\\": \\\"Amazon stock\\\", \\\"follow_up_questions\\\": null, \\\"answer\\\": null, \\\"images\\\": [], \\\"results\\\": [{\\\"title\\\": \\\"Amazon.com Inc (AMZN) Stock Price & News - Google Finance\\\", \\\"url\\\": \\\"https://www.google.com/finance/quote/AMZN:NASDAQ\\\", \\\"content\\\": \\\"Amazon.com Inc (AMZN) Stock Price & News - Google Finance NVIDIA Corp -1.27%Palantir Technologies Inc -6.94%Super Micro Computer Inc +24.41%Tesla Inc +3.73%Lucid Group Inc +5.47%MARA Holdings Inc -13.10% Yahoo Finance Bezos Wraps Up Sale Of $3.4B Worth Of Amazon Shares 22 hours ago Investor's Business Daily Nuclear Company Reports Earnings; 'Moving Ahead' With Amazon Despite Regulatory Decision 3 days ago Simply Wall Street Is Amazon.com, Inc.'s (NASDAQ:AMZN) Latest Stock Performance A Reflection Of Its Financial Health? Represents the company's profit divided by the outstanding shares of its common stock. A valuation method that multiplies the price of a company's stock by the total number of outstanding shares. VTI Vanguard Total Stock Market Index Fund ETF $291.45 0.39%\\\", \\\"score\\\": 0.83141696, \\\"raw_content\\\": null}, {\\\"title\\\": \\\"GBP to USD Exchange Rate - Bloomberg.com\\\", \\\"url\\\": \\\"https://www.bloomberg.com/quote/GBPUSD:CUR\\\", \\\"content\\\": \\\"Bloomberg\\\\nConnecting decision makers to a dynamic network of information, people and ideas, Bloomberg quickly and accurately delivers business and financial information, news and insight around the world\\\\nFor Customers\\\\nSupport\\\\nAmericas+1 212 318 2000\\\\nEMEA+44 20 7330 7500\\\\nAsia Pacific+65 6212 1000\\\\nCompany\\\\nCommunications\\\\nFollow\\\\nProducts\\\\nIndustry Products\\\\nMedia\\\\nMedia Services\\\\nCompany\\\\nCommunications\\\\nFollow\\\\nProducts\\\\nIndustry Products\\\\nMedia\\\\nMedia Services\\\\nBloomberg\\\\nConnecting decision makers to a dynamic network of information, people and ideas, Bloomberg quickly and accurately delivers business and financial information, news and insight around the world\\\\nFor Customers\\\\nSupport\\\\nAmericas+1 212 318 2000\\\\nEMEA+44 20 7330 7500\\\\nAsia Pacific+65 6212 1000\\\\nBloomberg TV+\\\\nBloomberg ETF IQ\\\\n\\\\\\\"Bloomberg ETF IQ\\\\\\\" focuses on the opportunities, risks and current trends tied to the trillions of dollars in the global exchange traded funds industry. Also streaming on your TV:\\\\nDeals\\\\nBain Is Exploring\\\\u00a0\\\\u20ac1 Billion Sale of Centrient Pharma\\\\nBusiness\\\\nTesla Relies on Leasing Less After Repeatedly Slashing Prices\\\\nMarket Data\\\\nJobs\\\\nUS Job Openings, Quits and Hiring Ease as Labor Market Cools\\\\nCentral Banks\\\\nFed\\\\u2019s Barkin Says Soft Landing Looks More Likely, But Not Inevitable\\\\nIndicators\\\\nPortugal\\\\u2019s Booming Tourism Sector Sets New Record for Revenue\\\\nMarkets\\\\nTianqi, LG, Eramet Explore Lithium Options in Chile Meetings\\\\nBusiness\\\\nTesla Relies on Leasing Less After Repeatedly Slashing Prices\\\\nFeatured\\\\nTechnology\\\\nTax Credits to Intuit Better Spent to Fund a Free Alternative to TurboTax, Warren Says\\\\nTechnology\\\\nAmazon\\\\u2019s Video Ad Push Expected to Generate an Extra $5 Billion in Revenue\\\\nTechnology\\\\nTingo Group Founder Hit by Hindenburg Now Charged Criminally\\\\nJobs\\\\nNobel Prize Winner Cautions on Rush Into STEM After Rise of AI\\\\nLegal\\\\nMichael Cohen Says AI-Created Fake Cases Mistakenly Used in Court Brief\\\\nPolitics\\\\nArgentina Court Suspends Labor Reforms, Dealing Setback to Milei\\\\nPolitics\\\\nGOP\\\\u2019s Royal Sets Up Firm to Hold $27 Billion in Assets\\\\nFeatured\\\\nPursuits\\\\nMovie Review: Jessica Chastain, Peter Sarsgaard anchor \\\\u2018Memory,\\\\u2019 a thorny drama with a tender heart\\\\nPursuits\\\\nCoco Jones talks earning Grammy nods, overcoming obstacles after Disney fame, Hollywood's pay equity\\\\nFeatured\\\\nJames Stavridis | Columnist\\\\nHit the Houthis \\\\u2014\\\\u00a0and Iran \\\\u2014\\\\u00a0Where It Counts\\\\nMerryn Somerset Webb | Columnist\\\\nThe FTSE 100 Hasn't Been All Bad for Investors\\\\nTyler Cowen | Columnist\\\\nWant to Be Wealthy? Will It Push Locals Out?\\\\nPerspective\\\\nHow to Build Tech Hubs in the American Heartland\\\\nCrypto\\\\nBitcoin Reverses Course Ahead of Eagerly Awaited ETF Decision\\\\nCrypto\\\\nNigeria Slaps Strict Rules on Banks After Lifting Crypto Ban\\\\nCrypto\\\\nBitcoin\\\\u2019s New Year Jump Weathers Somber Start in Global Markets\\\\nGBP-USD X-RATEGBPUSD:CUR\\\\nOverview\\\\nOverview Elon, Inc.\\\\nTesla Is Losing Out to a Chinese EV Maker\\\\nSad Desk Salad\\\\nHelp, I Saw My Boss on a Dating Site\\\\nFeatured\\\\nWeather & Science\\\\nNew York City Has a Snowy\\\\u00a0Weekend Ahead:\\\", \\\"score\\\": 0.10894504, \\\"raw_content\\\": null}, {\\\"title\\\": \\\"Bloomberg DATA \\\", \\\"url\\\": \\\"https://data.bloomberg.com/\\\", \\\"content\\\": \\\"Connecting decision makers to a dynamic network of information, people and ideas, Bloomberg quickly and accurately delivers business and financial information, news and insight around the world\\\", \\\"score\\\": 0.064065434, \\\"raw_content\\\": null}], \\\"response_time\\\": 2.04}}\"\n",
      "  },\n",
      "  \"traceId\": \"106ea156-49c8-494d-8055-02b340b3b9a6-0\",\n",
      "  \"type\": \"ACTION_GROUP\"\n",
      "}\n",
      "[2024-12-17 19:45:34,667] p88722 {agents.py:787} INFO - ==== Trace Event Received ====\n",
      "[2024-12-17 19:45:34,668] p88722 {agents.py:790} INFO - callerChain: [\n",
      "  {\n",
      "    \"agentAliasArn\": \"arn:aws:bedrock:us-east-1:218208277580:agent-alias/WBUINUADYX/65H2UJP7TF\"\n",
      "  }\n",
      "]\n",
      "[2024-12-17 19:45:34,668] p88722 {agents.py:803} INFO - Orchestration Trace Detected\n",
      "[2024-12-17 19:45:36,984] p88722 {agents.py:787} INFO - ==== Trace Event Received ====\n",
      "[2024-12-17 19:45:36,985] p88722 {agents.py:790} INFO - callerChain: [\n",
      "  {\n",
      "    \"agentAliasArn\": \"arn:aws:bedrock:us-east-1:218208277580:agent-alias/WBUINUADYX/65H2UJP7TF\"\n",
      "  }\n",
      "]\n",
      "[2024-12-17 19:45:36,985] p88722 {agents.py:803} INFO - Orchestration Trace Detected\n",
      "[2024-12-17 19:45:37,016] p88722 {agents.py:787} INFO - ==== Trace Event Received ====\n",
      "[2024-12-17 19:45:37,016] p88722 {agents.py:790} INFO - callerChain: [\n",
      "  {\n",
      "    \"agentAliasArn\": \"arn:aws:bedrock:us-east-1:218208277580:agent-alias/WBUINUADYX/65H2UJP7TF\"\n",
      "  }\n",
      "]\n",
      "[2024-12-17 19:45:37,017] p88722 {agents.py:803} INFO - Orchestration Trace Detected\n",
      "[2024-12-17 19:45:37,017] p88722 {agents.py:808} INFO - Agent Observation: {\n",
      "  \"finalResponse\": {\n",
      "    \"text\": \"Based on the news search, here's a summary of the key information on Amazon (AMZN) stock:\\n\\n- Amazon's stock price and performance can be viewed on Google Finance at https://www.google.com/finance/quote/AMZN:NASDAQ. The latest news indicates that Amazon founder Jeff Bezos recently sold $3.4 billion worth of Amazon shares.\\n\\n- The news also mentions that Amazon's video advertising business is expected to generate an extra $5 billion in revenue for the company.\\n\\n- Overall, the news paints a positive picture of Amazon's stock performance and business outlook, though it does not provide a detailed analysis. The stock appears to be trading well and the company's various business segments, including advertising, are performing strongly.\"\n",
      "  },\n",
      "  \"traceId\": \"106ea156-49c8-494d-8055-02b340b3b9a6-1\",\n",
      "  \"type\": \"FINISH\"\n",
      "}\n",
      "[2024-12-17 19:45:37,019] p88722 {agents.py:770} INFO - ==== Final Answer Chunk Received ====\n",
      "[2024-12-17 19:45:37,019] p88722 {agents.py:771} INFO - Based on the news search, here's a summary of the key information on Amazon (AMZN) stock:\n",
      "\n",
      "- Amazon's stock price and performance can be viewed on Google Finance at https://www.google.com/finance/quote/AMZN:NASDAQ. The latest news indicates that Amazon founder Jeff Bezos recently sold $3.4 billion worth of Amazon shares.\n",
      "\n",
      "- The news also mentions that Amazon's video advertising business is expected to generate an extra $5 billion in revenue for the company.\n",
      "\n",
      "- Overall, the news paints a positive picture of Amazon's stock performance and business outlook, though it does not provide a detailed analysis. The stock appears to be trading well and the company's various business segments, including advertising, are performing strongly.\n"
     ]
    },
    {
     "name": "stdout",
     "output_type": "stream",
     "text": [
      "🍩 https://wandb.ai/madhur-prash-none/multi-agent-collaboration/r/call/0193d73a-1c20-73a2-a1c5-d576b46eca73\n",
      "Based on the news search, here's a summary of the key information on Amazon (AMZN) stock:\n",
      "\n",
      "- Amazon's stock price and performance can be viewed on Google Finance at https://www.google.com/finance/quote/AMZN:NASDAQ. The latest news indicates that Amazon founder Jeff Bezos recently sold $3.4 billion worth of Amazon shares.\n",
      "\n",
      "- The news also mentions that Amazon's video advertising business is expected to generate an extra $5 billion in revenue for the company.\n",
      "\n",
      "- Overall, the news paints a positive picture of Amazon's stock performance and business outlook, though it does not provide a detailed analysis. The stock appears to be trading well and the company's various business segments, including advertising, are performing strongly.\n",
      "CPU times: user 70.4 ms, sys: 22.7 ms, total: 93.2 ms\n",
      "Wall time: 7.01 s\n"
     ]
    }
   ],
   "source": [
    "%%time\n",
    "import uuid\n",
    "session_id:str = str(uuid.uuid1())\n",
    "query = \"\"\"Can you give any news on 'AMZN' and what is its stock like? Search for 'Amazon stock'. Be concise and only search once.\"\"\"\n",
    "response = invoke_agent_helper(\n",
    "    query, session_id, marketing_agent_id, marketing_agent_alias_id, enable_trace=True\n",
    ")\n",
    "print(response)"
   ]
  },
  {
   "cell_type": "markdown",
   "metadata": {},
   "source": [
    "### Route the agent to call the `get_insider_trades()` function\n",
    "---\n",
    "\n",
    "In this question, we ask the agent about `How many shares of Apple has General Counsel sold over the past year?`. With this question, the agent identifies that `get_insider_trades()` is the right function to call and using the `FINANCIAL_DATASET_API` key, retrieves that information to answer the user question."
   ]
  },
  {
   "cell_type": "code",
   "execution_count": 14,
   "metadata": {},
   "outputs": [
    {
     "name": "stderr",
     "output_type": "stream",
     "text": [
      "[2024-12-17 19:45:37,137] p88722 {agents.py:760} INFO - invoke_agent response metadata:\n",
      "[2024-12-17 19:45:37,138] p88722 {agents.py:761} INFO - {\n",
      "  \"RequestId\": \"b7018ab0-3d3c-4045-a5dc-17b25d26c2da\",\n",
      "  \"HTTPStatusCode\": 200,\n",
      "  \"HTTPHeaders\": {\n",
      "    \"date\": \"Wed, 18 Dec 2024 00:45:37 GMT\",\n",
      "    \"content-type\": \"application/vnd.amazon.eventstream\",\n",
      "    \"transfer-encoding\": \"chunked\",\n",
      "    \"connection\": \"keep-alive\",\n",
      "    \"x-amzn-requestid\": \"b7018ab0-3d3c-4045-a5dc-17b25d26c2da\",\n",
      "    \"x-amz-bedrock-agent-session-id\": \"659a5104-bcd9-11ef-a671-168aeb12c117\",\n",
      "    \"x-amzn-bedrock-agent-content-type\": \"application/json\"\n",
      "  },\n",
      "  \"RetryAttempts\": 0\n",
      "}\n",
      "[2024-12-17 19:45:37,300] p88722 {agents.py:787} INFO - ==== Trace Event Received ====\n",
      "[2024-12-17 19:45:37,301] p88722 {agents.py:790} INFO - callerChain: [\n",
      "  {\n",
      "    \"agentAliasArn\": \"arn:aws:bedrock:us-east-1:218208277580:agent-alias/WBUINUADYX/65H2UJP7TF\"\n",
      "  }\n",
      "]\n",
      "[2024-12-17 19:45:37,302] p88722 {agents.py:803} INFO - Orchestration Trace Detected\n",
      "[2024-12-17 19:45:38,491] p88722 {agents.py:787} INFO - ==== Trace Event Received ====\n",
      "[2024-12-17 19:45:38,492] p88722 {agents.py:790} INFO - callerChain: [\n",
      "  {\n",
      "    \"agentAliasArn\": \"arn:aws:bedrock:us-east-1:218208277580:agent-alias/WBUINUADYX/65H2UJP7TF\"\n",
      "  }\n",
      "]\n",
      "[2024-12-17 19:45:38,493] p88722 {agents.py:803} INFO - Orchestration Trace Detected\n",
      "[2024-12-17 19:45:38,494] p88722 {agents.py:787} INFO - ==== Trace Event Received ====\n",
      "[2024-12-17 19:45:38,494] p88722 {agents.py:790} INFO - callerChain: [\n",
      "  {\n",
      "    \"agentAliasArn\": \"arn:aws:bedrock:us-east-1:218208277580:agent-alias/WBUINUADYX/65H2UJP7TF\"\n",
      "  }\n",
      "]\n",
      "[2024-12-17 19:45:38,495] p88722 {agents.py:803} INFO - Orchestration Trace Detected\n",
      "[2024-12-17 19:45:38,499] p88722 {agents.py:806} INFO - Agent Rationale: To answer this question, I will need to retrieve insider trading data for Apple (AAPL) to see if the General Counsel has made any sell transactions in the past year.\n",
      "[2024-12-17 19:45:38,621] p88722 {agents.py:787} INFO - ==== Trace Event Received ====\n",
      "[2024-12-17 19:45:38,622] p88722 {agents.py:790} INFO - callerChain: [\n",
      "  {\n",
      "    \"agentAliasArn\": \"arn:aws:bedrock:us-east-1:218208277580:agent-alias/WBUINUADYX/65H2UJP7TF\"\n",
      "  }\n",
      "]\n",
      "[2024-12-17 19:45:38,623] p88722 {agents.py:803} INFO - Orchestration Trace Detected\n",
      "[2024-12-17 19:45:38,624] p88722 {agents.py:787} INFO - ==== Trace Event Received ====\n",
      "[2024-12-17 19:45:38,627] p88722 {agents.py:790} INFO - callerChain: [\n",
      "  {\n",
      "    \"agentAliasArn\": \"arn:aws:bedrock:us-east-1:218208277580:agent-alias/WBUINUADYX/65H2UJP7TF\"\n",
      "  }\n",
      "]\n",
      "[2024-12-17 19:45:38,627] p88722 {agents.py:803} INFO - Orchestration Trace Detected\n",
      "[2024-12-17 19:45:38,628] p88722 {agents.py:808} INFO - Agent Observation: {\n",
      "  \"actionGroupInvocationOutput\": {\n",
      "    \"text\": \"{\\\"insider_trades\\\": [{\\\"ticker\\\": \\\"AAPL\\\", \\\"issuer\\\": \\\"Apple Inc\\\", \\\"name\\\": \\\"Chris Kondo\\\", \\\"title\\\": \\\"Principal Accounting Officer\\\", \\\"is_board_director\\\": false, \\\"transaction_date\\\": \\\"2024-11-18\\\", \\\"transaction_shares\\\": -4130.0, \\\"transaction_price_per_share\\\": 228.87, \\\"transaction_value\\\": 945233.0, \\\"shares_owned_before_transaction\\\": 19549.0, \\\"shares_owned_after_transaction\\\": 15419.0, \\\"security_title\\\": \\\"Common Stock\\\", \\\"filing_date\\\": \\\"2024-11-19\\\"}, {\\\"ticker\\\": \\\"AAPL\\\", \\\"issuer\\\": \\\"Apple Inc\\\", \\\"name\\\": \\\"Arthur D Levinson\\\", \\\"title\\\": null, \\\"is_board_director\\\": true, \\\"transaction_date\\\": \\\"2024-11-18\\\", \\\"transaction_shares\\\": -75000.0, \\\"transaction_price_per_share\\\": 228.66, \\\"transaction_value\\\": 17149500.0, \\\"shares_owned_before_transaction\\\": 4284576.0, \\\"shares_owned_after_transaction\\\": 4209576.0, \\\"security_title\\\": \\\"Common Stock\\\", \\\"filing_date\\\": \\\"2024-11-19\\\"}, {\\\"ticker\\\": \\\"AAPL\\\", \\\"issuer\\\": \\\"Apple Inc\\\", \\\"name\\\": \\\"Arthur D Levinson\\\", \\\"title\\\": null, \\\"is_board_director\\\": true, \\\"transaction_date\\\": \\\"2024-11-19\\\", \\\"transaction_shares\\\": -50000.0, \\\"transaction_price_per_share\\\": 229.28, \\\"transaction_value\\\": 11464000.0, \\\"shares_owned_before_transaction\\\": 4209576.0, \\\"shares_owned_after_transaction\\\": 4159576.0, \\\"security_title\\\": \\\"Common Stock\\\", \\\"filing_date\\\": \\\"2024-11-19\\\"}, {\\\"ticker\\\": \\\"AAPL\\\", \\\"issuer\\\": \\\"Apple Inc\\\", \\\"name\\\": \\\"Arthur D Levinson\\\", \\\"title\\\": null, \\\"is_board_director\\\": true, \\\"transaction_date\\\": \\\"2024-11-15\\\", \\\"transaction_shares\\\": -75000.0, \\\"transaction_price_per_share\\\": 224.68, \\\"transaction_value\\\": 16851000.0, \\\"shares_owned_before_transaction\\\": 4359576.0, \\\"shares_owned_after_transaction\\\": 4284576.0, \\\"security_title\\\": \\\"Common Stock\\\", \\\"filing_date\\\": \\\"2024-11-19\\\"}, {\\\"ticker\\\": \\\"AAPL\\\", \\\"issuer\\\": \\\"Apple Inc\\\", \\\"name\\\": \\\"Katherine L Adams\\\", \\\"title\\\": \\\"SVP GC and Secretary\\\", \\\"is_board_director\\\": false, \\\"transaction_date\\\": \\\"2024-11-05\\\", \\\"transaction_shares\\\": -8000.0, \\\"transaction_price_per_share\\\": null, \\\"transaction_value\\\": null, \\\"shares_owned_before_transaction\\\": 187043.0, \\\"shares_owned_after_transaction\\\": 179043.0, \\\"security_title\\\": \\\"Common Stock\\\", \\\"filing_date\\\": \\\"2024-11-07\\\"}, {\\\"ticker\\\": \\\"AAPL\\\", \\\"issuer\\\": \\\"Apple Inc\\\", \\\"name\\\": \\\"Chris Kondo\\\", \\\"title\\\": \\\"Principal Accounting Officer\\\", \\\"is_board_director\\\": false, \\\"transaction_date\\\": \\\"2024-10-15\\\", \\\"transaction_shares\\\": -2077.0, \\\"transaction_price_per_share\\\": null, \\\"transaction_value\\\": null, \\\"shares_owned_before_transaction\\\": 10387.0, \\\"shares_owned_after_transaction\\\": 8310.0, \\\"security_title\\\": \\\"Restricted Stock Unit\\\", \\\"filing_date\\\": \\\"2024-10-17\\\"}, {\\\"ticker\\\": \\\"AAPL\\\", \\\"issuer\\\": \\\"Apple Inc\\\", \\\"name\\\": \\\"Chris Kondo\\\", \\\"title\\\": \\\"Principal Accounting Officer\\\", \\\"is_board_director\\\": false, \\\"transaction_date\\\": \\\"2024-10-15\\\", \\\"transaction_shares\\\": -1898.0, \\\"transaction_price_per_share\\\": null, \\\"transaction_value\\\": null, \\\"shares_owned_before_transaction\\\": 13288.0, \\\"shares_owned_after_transaction\\\": 11390.0, \\\"security_title\\\": \\\"Restricted Stock Unit\\\", \\\"filing_date\\\": \\\"2024-10-17\\\"}, {\\\"ticker\\\": \\\"AAPL\\\", \\\"issuer\\\": \\\"Apple Inc\\\", \\\"name\\\": \\\"Chris Kondo\\\", \\\"title\\\": \\\"Principal Accounting Officer\\\", \\\"is_board_director\\\": false, \\\"transaction_date\\\": \\\"2024-10-15\\\", \\\"transaction_shares\\\": 8115.0, \\\"transaction_price_per_share\\\": null, \\\"transaction_value\\\": null, \\\"shares_owned_before_transaction\\\": 15419.0, \\\"shares_owned_after_transaction\\\": 23534.0, \\\"security_title\\\": \\\"Common Stock\\\", \\\"filing_date\\\": \\\"2024-10-17\\\"}, {\\\"ticker\\\": \\\"AAPL\\\", \\\"issuer\\\": \\\"Apple Inc\\\", \\\"name\\\": \\\"Chris Kondo\\\", \\\"title\\\": \\\"Principal Accounting Officer\\\", \\\"is_board_director\\\": false, \\\"transaction_date\\\": \\\"2024-10-15\\\", \\\"transaction_shares\\\": -3985.0, \\\"transaction_price_per_share\\\": 233.85, \\\"transaction_value\\\": 931892.0, \\\"shares_owned_before_transaction\\\": 23534.0, \\\"shares_owned_after_transaction\\\": 19549.0, \\\"security_title\\\": \\\"Common Stock\\\", \\\"filing_date\\\": \\\"2024-10-17\\\"}, {\\\"ticker\\\": \\\"AAPL\\\", \\\"issuer\\\": \\\"Apple Inc\\\", \\\"name\\\": \\\"Chris Kondo\\\", \\\"title\\\": \\\"Principal Accounting Officer\\\", \\\"is_board_director\\\": false, \\\"transaction_date\\\": \\\"2024-10-15\\\", \\\"transaction_shares\\\": -2226.0, \\\"transaction_price_per_share\\\": null, \\\"transaction_value\\\": null, \\\"shares_owned_before_transaction\\\": 2226.0, \\\"shares_owned_after_transaction\\\": null, \\\"security_title\\\": \\\"Restricted Stock Unit\\\", \\\"filing_date\\\": \\\"2024-10-17\\\"}]}\"\n",
      "  },\n",
      "  \"traceId\": \"b7018ab0-3d3c-4045-a5dc-17b25d26c2da-0\",\n",
      "  \"type\": \"ACTION_GROUP\"\n",
      "}\n",
      "[2024-12-17 19:45:38,633] p88722 {agents.py:787} INFO - ==== Trace Event Received ====\n",
      "[2024-12-17 19:45:38,634] p88722 {agents.py:790} INFO - callerChain: [\n",
      "  {\n",
      "    \"agentAliasArn\": \"arn:aws:bedrock:us-east-1:218208277580:agent-alias/WBUINUADYX/65H2UJP7TF\"\n",
      "  }\n",
      "]\n",
      "[2024-12-17 19:45:38,634] p88722 {agents.py:803} INFO - Orchestration Trace Detected\n",
      "[2024-12-17 19:45:39,927] p88722 {agents.py:787} INFO - ==== Trace Event Received ====\n",
      "[2024-12-17 19:45:39,928] p88722 {agents.py:790} INFO - callerChain: [\n",
      "  {\n",
      "    \"agentAliasArn\": \"arn:aws:bedrock:us-east-1:218208277580:agent-alias/WBUINUADYX/65H2UJP7TF\"\n",
      "  }\n",
      "]\n",
      "[2024-12-17 19:45:39,928] p88722 {agents.py:803} INFO - Orchestration Trace Detected\n",
      "[2024-12-17 19:45:39,929] p88722 {agents.py:787} INFO - ==== Trace Event Received ====\n",
      "[2024-12-17 19:45:39,929] p88722 {agents.py:790} INFO - callerChain: [\n",
      "  {\n",
      "    \"agentAliasArn\": \"arn:aws:bedrock:us-east-1:218208277580:agent-alias/WBUINUADYX/65H2UJP7TF\"\n",
      "  }\n",
      "]\n",
      "[2024-12-17 19:45:39,930] p88722 {agents.py:803} INFO - Orchestration Trace Detected\n",
      "[2024-12-17 19:45:39,931] p88722 {agents.py:806} INFO - Agent Rationale: The insider trading data shows that Katherine L. Adams, who is the SVP, General Counsel and Secretary at Apple, has sold 8,000 shares of AAPL stock over the past year.\n",
      "[2024-12-17 19:45:39,975] p88722 {agents.py:787} INFO - ==== Trace Event Received ====\n",
      "[2024-12-17 19:45:39,976] p88722 {agents.py:790} INFO - callerChain: [\n",
      "  {\n",
      "    \"agentAliasArn\": \"arn:aws:bedrock:us-east-1:218208277580:agent-alias/WBUINUADYX/65H2UJP7TF\"\n",
      "  }\n",
      "]\n",
      "[2024-12-17 19:45:39,976] p88722 {agents.py:803} INFO - Orchestration Trace Detected\n",
      "[2024-12-17 19:45:39,976] p88722 {agents.py:808} INFO - Agent Observation: {\n",
      "  \"finalResponse\": {\n",
      "    \"text\": \"According to the insider trading data, Katherine L. Adams, the SVP, General Counsel and Secretary at Apple, has sold 8,000 shares of AAPL stock over the past year.\"\n",
      "  },\n",
      "  \"traceId\": \"b7018ab0-3d3c-4045-a5dc-17b25d26c2da-1\",\n",
      "  \"type\": \"FINISH\"\n",
      "}\n",
      "[2024-12-17 19:45:39,977] p88722 {agents.py:770} INFO - ==== Final Answer Chunk Received ====\n",
      "[2024-12-17 19:45:39,977] p88722 {agents.py:771} INFO - According to the insider trading data, Katherine L. Adams, the SVP, General Counsel and Secretary at Apple, has sold 8,000 shares of AAPL stock over the past year.\n"
     ]
    },
    {
     "name": "stdout",
     "output_type": "stream",
     "text": [
      "🍩 https://wandb.ai/madhur-prash-none/multi-agent-collaboration/r/call/0193d73a-3788-7371-ab1e-803037eab842\n",
      "According to the insider trading data, Katherine L. Adams, the SVP, General Counsel and Secretary at Apple, has sold 8,000 shares of AAPL stock over the past year.\n",
      "CPU times: user 59.6 ms, sys: 15.8 ms, total: 75.4 ms\n",
      "Wall time: 2.95 s\n"
     ]
    }
   ],
   "source": [
    "%%time\n",
    "import uuid\n",
    "session_id:str = str(uuid.uuid1())\n",
    "query = \"\"\"How many shares of AAPL has General Counsel sold over the past year?\"\"\"\n",
    "response = invoke_agent_helper(\n",
    "    query, session_id, marketing_agent_id, marketing_agent_alias_id, enable_trace=True\n",
    ")\n",
    "print(response)"
   ]
  },
  {
   "cell_type": "markdown",
   "metadata": {},
   "source": [
    "### Saving the information\n",
    "---\n",
    "Let's now save some information so that we can use this agent as a sub-agent of our financial hedge fund assistant"
   ]
  },
  {
   "cell_type": "code",
   "execution_count": 15,
   "metadata": {},
   "outputs": [
    {
     "name": "stdout",
     "output_type": "stream",
     "text": [
      "Stored 'marketing_agent_id' (str)\n",
      "Stored 'marketing_agent_alias_id' (str)\n",
      "Stored 'marketing_agent_alias_arn' (str)\n"
     ]
    }
   ],
   "source": [
    "%store marketing_agent_id\n",
    "%store marketing_agent_alias_id\n",
    "%store marketing_agent_alias_arn"
   ]
  }
 ],
 "metadata": {
  "kernelspec": {
   "display_name": "Python 3",
   "language": "python",
   "name": "python3"
  },
  "language_info": {
   "codemirror_mode": {
    "name": "ipython",
    "version": 3
   },
   "file_extension": ".py",
   "mimetype": "text/x-python",
   "name": "python",
   "nbconvert_exporter": "python",
   "pygments_lexer": "ipython3",
   "version": "3.11.7"
  }
 },
 "nbformat": 4,
 "nbformat_minor": 2
}

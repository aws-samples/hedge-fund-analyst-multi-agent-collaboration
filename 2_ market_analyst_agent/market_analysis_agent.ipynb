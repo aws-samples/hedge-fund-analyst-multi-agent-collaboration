{
 "cells": [
  {
   "cell_type": "markdown",
   "metadata": {},
   "source": [
    "## Creating sub-agent 3: Market analysis agent\n",
    "\n",
    "In this folder we will create the second sub-agent for get options chains, insider trading transactions and get news. We will use the `financial dataset API` and three functions: `get_options_chains`, `get_insider_trading` and `get_news` using the `marketing-analyst-agent`."
   ]
  },
  {
   "cell_type": "markdown",
   "metadata": {},
   "source": [
    "### Prerequisites\n",
    "---\n",
    "\n",
    "You are going to install boto3 dependencies from pip. Make sure you have the latest version of it for full capabilities\n",
    "\n",
    "Before running this notebook, make sure to populate the `.env` file with your `FINANCIAL_DATASETS_API_KEY` and `TAVILY_API_KEY`. These two `API` keys will be used by the agent to access information on user related questions. You can create an `API` here: https://www.financialdatasets.ai/"
   ]
  },
  {
   "cell_type": "code",
   "execution_count": null,
   "metadata": {},
   "outputs": [],
   "source": [
    "!pip uninstall boto3 botocore awscli --yes"
   ]
  },
  {
   "cell_type": "code",
   "execution_count": null,
   "metadata": {},
   "outputs": [],
   "source": [
    "# Install latest boto3\n",
    "!python3 -m pip install --force-reinstall --no-cache -q --no-dependencies -r ../requirements.txt"
   ]
  },
  {
   "cell_type": "markdown",
   "metadata": {},
   "source": [
    "### Import required libraries\n",
    "\n",
    "Next we will import the required libraries. We will also import some support functions available in the parent directory. Those functions are:\n",
    "\n",
    "1. `create_agent`: helps you to create the necessary IAM permissions and Bedrock agetns based on the agent's name, instructions, foundation models, descriptions and other properties.\n",
    "\n",
    "1. `invoke_agent_helper`: helps you to invoke your agent using invoke_agent\n",
    "You can see the implementation of both functions in the parent directory"
   ]
  },
  {
   "cell_type": "code",
   "execution_count": null,
   "metadata": {},
   "outputs": [],
   "source": [
    "import os\n",
    "import sys\n",
    "import time\n",
    "import json\n",
    "import boto3\n",
    "import shutil\n",
    "import logging\n",
    "import zipfile\n",
    "import subprocess\n",
    "from dotenv import load_dotenv\n",
    "\n",
    "# Get the current file's directory\n",
    "current_dir = os.path.dirname(os.path.abspath('__file__'))\n",
    "\n",
    "# Get the parent directory\n",
    "parent_dir = os.path.dirname(current_dir)\n",
    "print(parent_dir)\n",
    "\n",
    "# Add the parent directory to sys.path\n",
    "sys.path.append(parent_dir)\n",
    "\n",
    "from utils import *\n",
    "from globals import *\n",
    "from agents import create_agent, invoke_agent_helper"
   ]
  },
  {
   "cell_type": "code",
   "execution_count": null,
   "metadata": {},
   "outputs": [],
   "source": [
    "# Load the environment variables that are defined in the \".env\" file. This contains the \n",
    "# financial data API key that will enable the user to access the data\n",
    "load_dotenv"
   ]
  },
  {
   "cell_type": "code",
   "execution_count": null,
   "metadata": {},
   "outputs": [],
   "source": [
    "# set a logger\n",
    "logging.basicConfig(format='[%(asctime)s] p%(process)s {%(filename)s:%(lineno)d} %(levelname)s - %(message)s', level=logging.INFO)\n",
    "logger = logging.getLogger(__name__)"
   ]
  },
  {
   "cell_type": "markdown",
   "metadata": {},
   "source": [
    "### Defining agent configuration\n",
    "---"
   ]
  },
  {
   "cell_type": "code",
   "execution_count": null,
   "metadata": {},
   "outputs": [],
   "source": [
    "agent_instruction = \"\"\"You are a comprehensive market analysis assistant that helps users analyze options chains, insider trading data, and relevant market news.\n",
    "You require the user to provide a stock ticker symbol for analysis.\n",
    "If a user does not provide a ticker symbol, mention in the answer that they need to provide a ticker symbol.\n",
    "\n",
    "You can perform the following types of analysis. You have access to APIs and tools to call to fetch data based on what the user question is:\n",
    "\n",
    "1. Use the appropriate functions based on the analysis needed:\n",
    "    - get_options_chain for options analysis\n",
    "    - get_insider_trades for insider trading analysis\n",
    "    - get_news for market news and sentiment\n",
    "\n",
    "2. Options Chain Analysis:\n",
    "   - View available options contracts\n",
    "   - Filter by strike price\n",
    "   - Filter by option type (call/put)\n",
    "   - Analyze options pricing and volume\n",
    "\n",
    "3. Insider Trading Analysis:\n",
    "   - Recent insider transactions\n",
    "   - Transaction types (buy/sell)\n",
    "\n",
    "4. Market News Analysis:\n",
    "   - Latest relevant news\n",
    "   - Market sentiment\n",
    "   - Industry trends\n",
    "\n",
    "For options chain data, you can specify:\n",
    "- Strike price filters\n",
    "- Option type (call/put)\n",
    "- Number of results to return (limit)\n",
    "\n",
    "For insider trades, you can specify:\n",
    "- Number of transactions to analyze (limit)\n",
    "\n",
    "If you do not have access to the data that the user is asking for, do not make up an answer, just say that you do not know the answer. Be completely\n",
    "accurate. Do not provide answers to anything but on the topic specified above.\n",
    "\"\"\"\n",
    "\n",
    "agent_description = \"Agent for analyzing options chains, insider trading data, and market news\""
   ]
  },
  {
   "cell_type": "code",
   "execution_count": null,
   "metadata": {},
   "outputs": [],
   "source": [
    "# These are the functions that are used by the market analysis agent\n",
    "functions = [{\n",
    "    'name': 'get_options_chain',\n",
    "    'description': 'Get options chain data for a ticker',\n",
    "    'parameters': {\n",
    "        \"ticker\": {\n",
    "            \"description\": \"stock ticker symbol of the company\",\n",
    "            \"required\": True,\n",
    "            \"type\": \"string\"\n",
    "        },\n",
    "        \"limit\": {\n",
    "            \"description\": \"number of options to retrieve\",\n",
    "            \"required\": False,\n",
    "            \"type\": \"integer\"\n",
    "        },\n",
    "        \"strike_price\": {\n",
    "            \"description\": \"filter by strike price\",\n",
    "            \"required\": False,\n",
    "            \"type\": \"number\"\n",
    "        },\n",
    "        \"option_type\": {\n",
    "            \"description\": \"filter by option type (call/put)\",\n",
    "            \"required\": False,\n",
    "            \"type\": \"string\"\n",
    "        }\n",
    "    }\n",
    "},\n",
    "{\n",
    "    'name': 'get_insider_trades',\n",
    "    'description': 'Get insider trading transactions for a ticker',\n",
    "    'parameters': {\n",
    "        \"ticker\": {\n",
    "            \"description\": \"stock ticker symbol of the company\",\n",
    "            \"required\": True,\n",
    "            \"type\": \"string\"\n",
    "        },\n",
    "        \"limit\": {\n",
    "            \"description\": \"number of transactions to retrieve\",\n",
    "            \"required\": False,\n",
    "            \"type\": \"integer\"\n",
    "        }\n",
    "    }\n",
    "},\n",
    "{\n",
    "    'name': 'get_news',\n",
    "    'description': 'Get latest market news and analysis',\n",
    "    'parameters': {\n",
    "        \"query\": {\n",
    "            \"description\": \"search query for news\",\n",
    "            \"required\": True,\n",
    "            \"type\": \"string\"\n",
    "        },\n",
    "        \"max_results\": {\n",
    "            \"description\": \"maximum number of news results\",\n",
    "            \"required\": False,\n",
    "            \"type\": \"integer\"\n",
    "        }\n",
    "    }\n",
    "}]"
   ]
  },
  {
   "cell_type": "markdown",
   "metadata": {},
   "source": [
    "### Add a lambda layer to the lambda function\n",
    "---\n",
    "\n",
    "In this section of the notebook, we will add a lambda layer to the lambda function. We will be installing `requests` to make requests to the financial data API key."
   ]
  },
  {
   "cell_type": "code",
   "execution_count": null,
   "metadata": {},
   "outputs": [],
   "source": [
    "# Create and publish the layer \n",
    "layer_zip = create_lambda_layer(['requests', 'tavily-python'])\n",
    "layer_arn = publish_layer('marketing-agent-lambda-layer')"
   ]
  },
  {
   "cell_type": "markdown",
   "metadata": {},
   "source": [
    "### Create agent\n",
    "---\n",
    "\n",
    "Next we will create the agent with the provided information"
   ]
  },
  {
   "cell_type": "code",
   "execution_count": null,
   "metadata": {},
   "outputs": [],
   "source": [
    "action_group_config = {\n",
    "    'name': 'MarketingAnalysisActionGroup',\n",
    "    'description': 'Action group to analyze marketing questions from the user',\n",
    "    'functions': functions,\n",
    "    'lambda_function_name': f'{SUB_AGENT_MARKETING_ANALYST}-lambda',\n",
    "    'lambda_file_path': MARKET_ANALYSIS_LAMBDA_FUNCTION_NAME,\n",
    "    'dynamodb_table_name': f'{SUB_AGENT_MARKETING_ANALYST}-table',\n",
    "    'dynamodb_attribute_name': 'analysis-id', \n",
    "    # Adding the lambda layer that contains the requests installation\n",
    "    'lambda_layers': [layer_arn]\n",
    "}\n",
    "\n",
    "# Create a Lambda client and attach the API key as env variable to the lambda function\n",
    "lambda_client = boto3.client('lambda')\n",
    "lambda_function_name = action_group_config['lambda_function_name']\n",
    "environment_variables = {\n",
    "    'FINANCIAL_DATASETS_API_KEY': os.getenv('FINANCIAL_DATASETS_API_KEY'), \n",
    "    'TAVILY_API_KEY': os.getenv('TAVILY_API_KEY')\n",
    "}\n",
    "\n",
    "# Create the agent with the updated action group config\n",
    "marketing_agent_id, marketing_agent_alias_id, marketing_agent_alias_arn = create_agent(\n",
    "    SUB_AGENT_MARKETING_ANALYST,\n",
    "    agent_instruction,\n",
    "    agent_foundation_model=BEDROCK_MODEL_CLAUDE_HAIKU,\n",
    "    agent_description=agent_description,\n",
    "    action_group_config=action_group_config\n",
    ")"
   ]
  },
  {
   "cell_type": "code",
   "execution_count": null,
   "metadata": {},
   "outputs": [],
   "source": [
    "# Update the Lambda function's configuration to include the environment variables\n",
    "# In the case of this agent, we need the financial dataset and Tavily API as an env variable passed to the lambda\n",
    "# so that it can be used in fetching data based on user questions\n",
    "response = lambda_client.update_function_configuration(\n",
    "    FunctionName=lambda_function_name,\n",
    "    Environment={\n",
    "        'Variables': environment_variables\n",
    "    },\n",
    "    Layers=action_group_config['lambda_layers']\n",
    ")"
   ]
  },
  {
   "cell_type": "markdown",
   "metadata": {},
   "source": [
    "### Getting details from the agent\n",
    "--- \n",
    "Let's take a look at the details from the created agent."
   ]
  },
  {
   "cell_type": "code",
   "execution_count": null,
   "metadata": {},
   "outputs": [],
   "source": [
    "marketing_agent_id, marketing_agent_alias_id, marketing_agent_alias_arn"
   ]
  },
  {
   "cell_type": "markdown",
   "metadata": {},
   "source": [
    "### Testing the Fundamental Analyst agent\n",
    "---\n",
    "\n",
    "Now that we've created the agent, let's test it by using our invoke_agent_helper function. Here, we will invoke the `fundamental analyst` agent to provide balance sheet information, income statements and cash flow information based on the question provided by the user."
   ]
  },
  {
   "cell_type": "code",
   "execution_count": null,
   "metadata": {},
   "outputs": [],
   "source": [
    "# Sleep for 30 seconds before invoking the marketing analyst agent\n",
    "time.sleep(30)"
   ]
  },
  {
   "cell_type": "markdown",
   "metadata": {},
   "source": [
    "### Route the agent to call the `get_news()` function\n",
    "---\n",
    "\n",
    "This function enables the agent with a `TAVILY_API_KEY` that enables web search. In our function, we have provided `google.com` and `bloomberg.com` as domains that the agent can access, so the agent will search for results in these domains and return a comprehensive answer. "
   ]
  },
  {
   "cell_type": "code",
   "execution_count": null,
   "metadata": {},
   "outputs": [],
   "source": [
    "%%time\n",
    "import uuid\n",
    "session_id:str = str(uuid.uuid1())\n",
    "query = \"\"\"Can you give any news on 'AMZN' and what is its stock like? Search for 'Amazon stock'. Be concise and only search once.\"\"\"\n",
    "response = invoke_agent_helper(\n",
    "    query, session_id, marketing_agent_id, marketing_agent_alias_id, enable_trace=True\n",
    ")\n",
    "print(response)"
   ]
  },
  {
   "cell_type": "markdown",
   "metadata": {},
   "source": [
    "### Route the agent to call the `get_insider_trades()` function\n",
    "---\n",
    "\n",
    "In this question, we ask the agent about `How many shares of Apple has General Counsel sold over the past year?`. With this question, the agent identifies that `get_insider_trades()` is the right function to call and using the `FINANCIAL_DATASET_API` key, retrieves that information to answer the user question."
   ]
  },
  {
   "cell_type": "code",
   "execution_count": null,
   "metadata": {},
   "outputs": [],
   "source": [
    "%%time\n",
    "import uuid\n",
    "session_id:str = str(uuid.uuid1())\n",
    "query = \"\"\"How many shares of AAPL has General Counsel sold over the past year?\"\"\"\n",
    "response = invoke_agent_helper(\n",
    "    query, session_id, marketing_agent_id, marketing_agent_alias_id, enable_trace=True\n",
    ")\n",
    "print(response)"
   ]
  },
  {
   "cell_type": "markdown",
   "metadata": {},
   "source": [
    "### Saving the information\n",
    "---\n",
    "Let's now save some information so that we can use this agent as a sub-agent of our financial hedge fund assistant"
   ]
  },
  {
   "cell_type": "code",
   "execution_count": null,
   "metadata": {},
   "outputs": [],
   "source": [
    "%store marketing_agent_id\n",
    "%store marketing_agent_alias_id\n",
    "%store marketing_agent_alias_arn"
   ]
  }
 ],
 "metadata": {
  "kernelspec": {
   "display_name": "Python 3",
   "language": "python",
   "name": "python3"
  },
  "language_info": {
   "codemirror_mode": {
    "name": "ipython",
    "version": 3
   },
   "file_extension": ".py",
   "mimetype": "text/x-python",
   "name": "python",
   "nbconvert_exporter": "python",
   "pygments_lexer": "ipython3",
   "version": "3.11.7"
  }
 },
 "nbformat": 4,
 "nbformat_minor": 2
}

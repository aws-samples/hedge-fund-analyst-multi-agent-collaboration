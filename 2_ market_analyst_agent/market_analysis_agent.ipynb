{
 "cells": [
  {
   "cell_type": "markdown",
   "metadata": {},
   "source": [
    "## Creating sub-agent 3: Market analysis agent\n",
    "\n",
    "In this folder we will create the second sub-agent for get options chains, insider trading transactions and get news. We will use the `financial dataset API` and three functions: `get_options_chains`, `get_insider_trading` and `get_news` using the `marketing-analyst-agent`."
   ]
  },
  {
   "cell_type": "markdown",
   "metadata": {},
   "source": [
    "### Prerequisites\n",
    "---\n",
    "\n",
    "You are going to install boto3 dependencies from pip. Make sure you have the latest version of it for full capabilities\n",
    "\n",
    "Before running this notebook, make sure to populate the `.env` file with your `FINANCIAL_DATASETS_API_KEY` and `TAVILY_API_KEY`. These two `API` keys will be used by the agent to access information on user related questions. You can create an `API` here: https://www.financialdatasets.ai/"
   ]
  },
  {
   "cell_type": "code",
   "execution_count": null,
   "metadata": {},
   "outputs": [],
   "source": [
    "!pip uninstall boto3 botocore awscli --yes"
   ]
  },
  {
   "cell_type": "code",
   "execution_count": null,
   "metadata": {},
   "outputs": [],
   "source": [
    "# Install latest boto3\n",
    "!python3 -m pip install --force-reinstall --no-cache -q --no-dependencies -r ../requirements.txt"
   ]
  },
  {
   "cell_type": "markdown",
   "metadata": {},
   "source": [
    "### Restart kernel\n",
    "\n",
    "If you face issues to apply the latest multi-agent capabilities, uncomment this line to restart kernel to ensure packages updates to take effect"
   ]
  },
  {
   "cell_type": "code",
   "execution_count": null,
   "metadata": {},
   "outputs": [],
   "source": [
    "import IPython\n",
    "\n",
    "# IPython.Application.instance().kernel.do_shutdown(True)"
   ]
  },
  {
   "cell_type": "code",
   "execution_count": null,
   "metadata": {},
   "outputs": [],
   "source": [
    "!pip freeze | grep boto3"
   ]
  },
  {
   "cell_type": "markdown",
   "metadata": {},
   "source": [
    "### Importing helper functions\n",
    "\n",
    "On following section, we're adding `agents.py` on Python path, so the files can be recognized and their functionalities can be invoked.\n",
    "\n",
    "Now, you're going to import from helper classes `agent.py`.\n",
    "\n",
    "Those files contain helper classes totally focused on make labs experience smoothly.\n",
    "\n",
    "All interactions with Bedrock will be handled by these classes.\n",
    "\n",
    "#### Following are methods that you're going to invoke on this lab:\n",
    "\n",
    "- `create_agent`: Create a new agent and respective IAM roles\n",
    "\n",
    "- `add_action_group_with_lambda`: Create a lambda function and add it as an action group for a previous created agent\n",
    "\n",
    "- `create_agent_alias`: Create an alias for this agent\n",
    "\n",
    "- `invoke`: Execute agent"
   ]
  },
  {
   "cell_type": "code",
   "execution_count": null,
   "metadata": {},
   "outputs": [],
   "source": [
    "import boto3\n",
    "import os\n",
    "import json\n",
    "import time\n",
    "\n",
    "sts_client = boto3.client('sts')\n",
    "session = boto3.session.Session()\n",
    "\n",
    "account_id = sts_client.get_caller_identity()[\"Account\"]\n",
    "region = session.region_name\n",
    "account_id_suffix = account_id[:3]\n",
    "agent_suffix = f\"{region}-{account_id_suffix}\"\n",
    "\n",
    "s3_client = boto3.client('s3', region)\n",
    "bedrock_client = boto3.client('bedrock-runtime', region)"
   ]
  },
  {
   "cell_type": "code",
   "execution_count": null,
   "metadata": {},
   "outputs": [],
   "source": [
    "import os\n",
    "import sys\n",
    "import time\n",
    "import json\n",
    "import boto3\n",
    "import shutil\n",
    "import logging\n",
    "import zipfile\n",
    "import subprocess\n",
    "from dotenv import load_dotenv\n",
    "\n",
    "sys.path.insert(0, \".\")\n",
    "sys.path.insert(1, \"..\")\n",
    "\n",
    "from utils.bedrock_agent_helper import (\n",
    "    AgentsForAmazonBedrock\n",
    ")\n",
    "agents = AgentsForAmazonBedrock()\n",
    "\n",
    "# Get the current file's directory\n",
    "current_dir = os.path.dirname(os.path.abspath('__file__'))\n",
    "\n",
    "# Get the parent directory\n",
    "parent_dir = os.path.dirname(current_dir)\n",
    "print(parent_dir)\n",
    "\n",
    "# Add the parent directory to sys.path\n",
    "sys.path.append(parent_dir)\n",
    "\n",
    "from utils import *\n",
    "from globals import *\n",
    "from utils.utils import *"
   ]
  },
  {
   "cell_type": "code",
   "execution_count": null,
   "metadata": {},
   "outputs": [],
   "source": [
    "# Load the environment variables that are defined in the \".env\" file. This contains the \n",
    "# financial data API key that will enable the user to access the data\n",
    "load_dotenv"
   ]
  },
  {
   "cell_type": "code",
   "execution_count": null,
   "metadata": {},
   "outputs": [],
   "source": [
    "# set a logger\n",
    "logging.basicConfig(format='[%(asctime)s] p%(process)s {%(filename)s:%(lineno)d} %(levelname)s - %(message)s', level=logging.INFO)\n",
    "logger = logging.getLogger(__name__)"
   ]
  },
  {
   "cell_type": "markdown",
   "metadata": {},
   "source": [
    "### Defining agent configuration\n",
    "---"
   ]
  },
  {
   "cell_type": "code",
   "execution_count": null,
   "metadata": {},
   "outputs": [],
   "source": [
    "agent_instruction = \"\"\"You are a comprehensive market analysis assistant that helps users analyze options chains, insider trading data, and relevant market news.\n",
    "You require the user to provide a stock ticker symbol for analysis.\n",
    "If a user does not provide a ticker symbol, mention in the answer that they need to provide a ticker symbol.\n",
    "\n",
    "You can perform the following types of analysis. You have access to APIs and tools to call to fetch data based on what the user question is:\n",
    "\n",
    "1. Use the appropriate functions based on the analysis needed:\n",
    "    - get_options_chain for options analysis\n",
    "    - get_insider_trades for insider trading analysis\n",
    "    - get_news for market news and sentiment\n",
    "\n",
    "2. Options Chain Analysis:\n",
    "   - View available options contracts\n",
    "   - Filter by strike price\n",
    "   - Filter by option type (call/put)\n",
    "   - Analyze options pricing and volume\n",
    "\n",
    "3. Insider Trading Analysis:\n",
    "   - Recent insider transactions\n",
    "   - Transaction types (buy/sell)\n",
    "\n",
    "4. Market News Analysis:\n",
    "   - Latest relevant news\n",
    "   - Market sentiment\n",
    "   - Industry trends\n",
    "\n",
    "For options chain data, you can specify:\n",
    "- Strike price filters\n",
    "- Option type (call/put)\n",
    "- Number of results to return (limit)\n",
    "\n",
    "For insider trades, you can specify:\n",
    "- Number of transactions to analyze (limit)\n",
    "\n",
    "If you do not have access to the data that the user is asking for, do not make up an answer, just say that you do not know the answer. Be completely\n",
    "accurate. Do not provide answers to anything but on the topic specified above.\n",
    "\"\"\"\n",
    "\n",
    "agent_description = \"Agent for analyzing options chains, insider trading data, and market news\""
   ]
  },
  {
   "cell_type": "code",
   "execution_count": null,
   "metadata": {},
   "outputs": [],
   "source": [
    "# These are the functions that are used by the market analysis agent\n",
    "functions = [{\n",
    "    'name': 'get_options_chain',\n",
    "    'description': 'Get options chain data for a ticker',\n",
    "    'parameters': {\n",
    "        \"ticker\": {\n",
    "            \"description\": \"stock ticker symbol of the company\",\n",
    "            \"required\": True,\n",
    "            \"type\": \"string\"\n",
    "        },\n",
    "        \"limit\": {\n",
    "            \"description\": \"number of options to retrieve\",\n",
    "            \"required\": False,\n",
    "            \"type\": \"integer\"\n",
    "        },\n",
    "        \"strike_price\": {\n",
    "            \"description\": \"filter by strike price\",\n",
    "            \"required\": False,\n",
    "            \"type\": \"number\"\n",
    "        },\n",
    "        \"option_type\": {\n",
    "            \"description\": \"filter by option type (call/put)\",\n",
    "            \"required\": False,\n",
    "            \"type\": \"string\"\n",
    "        }\n",
    "    }\n",
    "},\n",
    "{\n",
    "    'name': 'get_insider_trades',\n",
    "    'description': 'Get insider trading transactions for a ticker',\n",
    "    'parameters': {\n",
    "        \"ticker\": {\n",
    "            \"description\": \"stock ticker symbol of the company\",\n",
    "            \"required\": True,\n",
    "            \"type\": \"string\"\n",
    "        },\n",
    "        \"limit\": {\n",
    "            \"description\": \"number of transactions to retrieve\",\n",
    "            \"required\": False,\n",
    "            \"type\": \"integer\"\n",
    "        }\n",
    "    }\n",
    "},\n",
    "{\n",
    "    'name': 'get_news',\n",
    "    'description': 'Get latest market news and analysis',\n",
    "    'parameters': {\n",
    "        \"query\": {\n",
    "            \"description\": \"search query for news\",\n",
    "            \"required\": True,\n",
    "            \"type\": \"string\"\n",
    "        },\n",
    "        \"max_results\": {\n",
    "            \"description\": \"maximum number of news results\",\n",
    "            \"required\": False,\n",
    "            \"type\": \"integer\"\n",
    "        }\n",
    "    }\n",
    "}]"
   ]
  },
  {
   "cell_type": "markdown",
   "metadata": {},
   "source": [
    "### Add a lambda layer to the lambda function\n",
    "---\n",
    "\n",
    "In this section of the notebook, we will add a lambda layer to the lambda function. We will be installing `requests` to make requests to the financial data API key."
   ]
  },
  {
   "cell_type": "code",
   "execution_count": null,
   "metadata": {},
   "outputs": [],
   "source": [
    "# Create and publish the layer \n",
    "layer_zip = create_lambda_layer(['requests', 'tavily-python'])\n",
    "layer_arn = publish_layer('marketing-agent-lambda-layer')"
   ]
  },
  {
   "cell_type": "markdown",
   "metadata": {},
   "source": [
    "### Create agent\n",
    "---\n",
    "\n",
    "Next we will create the agent with the provided information"
   ]
  },
  {
   "cell_type": "code",
   "execution_count": null,
   "metadata": {},
   "outputs": [],
   "source": [
    "# Create the agent with the updated action group config\n",
    "marketing_agent = agents.create_agent(\n",
    "    SUB_AGENT_MARKETING_ANALYST,\n",
    "    agent_description,\n",
    "    agent_instruction,\n",
    "    BEDROCK_MODEL_CLAUDE_HAIKU,\n",
    ")"
   ]
  },
  {
   "cell_type": "code",
   "execution_count": null,
   "metadata": {},
   "outputs": [],
   "source": [
    "# Add the action group with lambda to this fundamental analyst agent\n",
    "agents.add_action_group_with_lambda(\n",
    "    agent_name=SUB_AGENT_MARKETING_ANALYST,\n",
    "    lambda_function_name=f'{SUB_AGENT_MARKETING_ANALYST}-lambda',\n",
    "    source_code_file=MARKET_ANALYSIS_LAMBDA_FUNCTION_NAME,\n",
    "    agent_functions=functions,\n",
    "    agent_action_group_name=\"MarketingAnalysisActionGroup\",\n",
    "    agent_action_group_description=\"Action group to analyze marketing questions from the user\",\n",
    "    lambda_layers=[layer_arn]\n",
    ")\n",
    "\n",
    "# Create a Lambda client and attach the API key as env variable to the lambda function\n",
    "lambda_client = boto3.client('lambda')\n",
    "lambda_function_name = f'{SUB_AGENT_MARKETING_ANALYST}-lambda'\n",
    "environment_variables = {\n",
    "    'FINANCIAL_DATASETS_API_KEY': os.getenv('FINANCIAL_DATASETS_API_KEY'),\n",
    "    'TAVILY_API_KEY': os.getenv('TAVILY_API_KEY')\n",
    "}"
   ]
  },
  {
   "cell_type": "code",
   "execution_count": null,
   "metadata": {},
   "outputs": [],
   "source": [
    "# Update the Lambda function's configuration to include the environment variables\n",
    "# In the case of this agent, we need the financial dataset and Tavily API as an env variable passed to the lambda\n",
    "# so that it can be used in fetching data based on user questions\n",
    "response = lambda_client.update_function_configuration(\n",
    "    FunctionName=lambda_function_name,\n",
    "    Environment={\n",
    "        'Variables': environment_variables\n",
    "    },\n",
    "    Layers=[layer_arn]\n",
    ")"
   ]
  },
  {
   "cell_type": "markdown",
   "metadata": {},
   "source": [
    "### Testing the Fundamental Analyst agent\n",
    "---\n",
    "\n",
    "Now that we've created the agent, let's test it by using our invoke_agent_helper function. Here, we will invoke the `fundamental analyst` agent to provide balance sheet information, income statements and cash flow information based on the question provided by the user."
   ]
  },
  {
   "cell_type": "code",
   "execution_count": null,
   "metadata": {},
   "outputs": [],
   "source": [
    "# Sleep for 30 seconds before invoking the marketing analyst agent\n",
    "time.sleep(30)"
   ]
  },
  {
   "cell_type": "markdown",
   "metadata": {},
   "source": [
    "### Route the agent to call the `get_news()` function\n",
    "---\n",
    "\n",
    "This function enables the agent with a `TAVILY_API_KEY` that enables web search. In our function, we have provided `google.com` and `bloomberg.com` as domains that the agent can access, so the agent will search for results in these domains and return a comprehensive answer. "
   ]
  },
  {
   "cell_type": "code",
   "execution_count": null,
   "metadata": {},
   "outputs": [],
   "source": [
    "%%time\n",
    "response = agents.invoke(\n",
    "    \"\"\"Can you give any news on 'AMZN' and what is its stock like? Search for 'Amazon stock'. Be concise and only search once.\"\"\", \n",
    "    marketing_agent[0], enable_trace=True\n",
    ")\n",
    "print(\"====================\")\n",
    "print(response)"
   ]
  },
  {
   "cell_type": "markdown",
   "metadata": {},
   "source": [
    "### Route the agent to call the `get_insider_trades()` function\n",
    "---\n",
    "\n",
    "In this question, we ask the agent about `How many shares of Apple has General Counsel sold over the past year?`. With this question, the agent identifies that `get_insider_trades()` is the right function to call and using the `FINANCIAL_DATASET_API` key, retrieves that information to answer the user question."
   ]
  },
  {
   "cell_type": "code",
   "execution_count": null,
   "metadata": {},
   "outputs": [],
   "source": [
    "%%time\n",
    "response = agents.invoke(\n",
    "    \"\"\"How many shares of AAPL has General Counsel sold over the past year?\"\"\",\n",
    "    marketing_agent[0], enable_trace=True\n",
    ")\n",
    "print(\"====================\")\n",
    "print(response)"
   ]
  },
  {
   "cell_type": "markdown",
   "metadata": {},
   "source": [
    "### Create alias\n",
    "\n",
    "For multi-agents collaboration it is expected that you first test your agent and only use it once it is fully functional.\n",
    "\n",
    "Since we've tested and validated our agent, let's now create an alias for it:"
   ]
  },
  {
   "cell_type": "code",
   "execution_count": null,
   "metadata": {},
   "outputs": [],
   "source": [
    "marketing_agent_id, marketing_agent_alias_arn = agents.create_agent_alias(\n",
    "    marketing_agent[0], 'v1'\n",
    ")"
   ]
  },
  {
   "cell_type": "code",
   "execution_count": null,
   "metadata": {},
   "outputs": [],
   "source": [
    "marketing_agent_arn = agents.get_agent_arn_by_name(SUB_AGENT_MARKETING_ANALYST)"
   ]
  },
  {
   "cell_type": "markdown",
   "metadata": {},
   "source": [
    "### Saving the information\n",
    "---\n",
    "Let's now save some information so that we can use this agent as a sub-agent of our financial hedge fund assistant"
   ]
  },
  {
   "cell_type": "code",
   "execution_count": null,
   "metadata": {},
   "outputs": [],
   "source": [
    "%store marketing_agent_id\n",
    "%store marketing_agent_alias_arn\n",
    "%store marketing_agent_arn"
   ]
  }
 ],
 "metadata": {
  "kernelspec": {
   "display_name": "Python 3",
   "language": "python",
   "name": "python3"
  },
  "language_info": {
   "codemirror_mode": {
    "name": "ipython",
    "version": 3
   },
   "file_extension": ".py",
   "mimetype": "text/x-python",
   "name": "python",
   "nbconvert_exporter": "python",
   "pygments_lexer": "ipython3",
   "version": "3.11.7"
  }
 },
 "nbformat": 4,
 "nbformat_minor": 2
}

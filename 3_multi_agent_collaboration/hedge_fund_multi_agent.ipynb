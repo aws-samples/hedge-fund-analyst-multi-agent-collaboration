{
 "cells": [
  {
   "cell_type": "markdown",
   "metadata": {},
   "source": [
    "### Creating multi-agent collaboration: Hedge Fund assistant\n",
    "---\n",
    "\n",
    "In this folder we will create the supervisor agent for our `Hedge Fund assistant` and attach the `fundamental analyst assistant`, `technical analyst assistant` and `marketing analyst assistant` as sub-agents to it.\n",
    "\n",
    "**IMPORTANT: This notebook uses the new `Amazon Nova Micro` model as the FM that powers the supervisor agent to route requests efficiently between associated sub agents.**\n",
    "\n",
    "Each of the sub agents have access to three tools each that can access `APIs` to fetch financial data on ticker symbols and search the web. Based on the user question, the supervisor agent hedge assistant will be able to call the appropriate sub agent. The sub agent will then identify the question and call one of the functions that it has access to, and return the answer back to the user. View the diagram of what this looks like below:\n",
    "\n",
    "![multi-agent-diagram](/multi-agent-diagram.png)\n",
    "\n",
    "This agent will make usage of the `SUPERVISOR_ROUTER` collaboration mode in order to get the user's intent classification routed to the correct sub-agent\n",
    "\n",
    "### Agent invocation tracking\n",
    "---\n",
    "\n",
    "As a part of the `invoke_agent_helper` function, we have integrated tracking on `weave`. For this, enter your `WEAVE_API_KEY` in the `.env` file. View an example below:\n",
    "\n",
    "![weave-tracking](weave-tracking.png)"
   ]
  },
  {
   "cell_type": "markdown",
   "metadata": {},
   "source": [
    "### Prerequisites\n",
    "---\n",
    "\n",
    "You are going to install boto3 dependencies from pip. Make sure you have the latest version of it for full capabilities\n",
    "\n",
    "Before running this notebook, make sure to populate the `.env` file with your `FINANCIAL_DATASETS_API_KEY` and `TAVILY_API_KEY`. These two `API` keys will be used by the agent to access information on user related questions. You can create an `API` here: https://www.financialdatasets.ai/"
   ]
  },
  {
   "cell_type": "code",
   "execution_count": null,
   "metadata": {},
   "outputs": [],
   "source": [
    "!pip uninstall boto3 botocore awscli --yes"
   ]
  },
  {
   "cell_type": "code",
   "execution_count": null,
   "metadata": {},
   "outputs": [],
   "source": [
    "# Install latest boto3\n",
    "!python3 -m pip install --force-reinstall --no-cache -q --no-dependencies -r ../requirements.txt"
   ]
  },
  {
   "cell_type": "markdown",
   "metadata": {},
   "source": [
    "### Import required libraries\n",
    "---\n",
    "\n",
    "Next we will import the required libraries. We will also import some support functions available in the parent directory. Those functions are:\n",
    "\n",
    "1. `create_agent`: helps you to create the necessary IAM permissions and Bedrock agents based on the agent's name, instructions, foundation models, descriptions and other properties.\n",
    "\n",
    "1. `associate_sub_agents`: associate existing agents as sub-agents to the created supervisor agent\n",
    "\n",
    "1. `list_agent_collaborators`: list the available agents collaborations\n",
    "\n",
    "1. `invoke_agent_helper`: helps you to invoke your agent using invoke_agent\n",
    "You can see the implementation of both functions in the parent directory"
   ]
  },
  {
   "cell_type": "code",
   "execution_count": null,
   "metadata": {},
   "outputs": [],
   "source": [
    "import os\n",
    "import sys\n",
    "import json\n",
    "import time\n",
    "import logging\n",
    "\n",
    "# Get the current file's directory\n",
    "current_dir = os.path.dirname(os.path.abspath('__file__'))\n",
    "\n",
    "# Get the parent directory\n",
    "parent_dir = os.path.dirname(current_dir)\n",
    "print(parent_dir)\n",
    "\n",
    "# Add the parent directory to sys.path\n",
    "sys.path.append(parent_dir)\n",
    "\n",
    "from globals import *\n",
    "from agents import create_agent, associate_sub_agents, list_agent_collaborators, invoke_agent_helper"
   ]
  },
  {
   "cell_type": "code",
   "execution_count": null,
   "metadata": {},
   "outputs": [],
   "source": [
    "# set a logger\n",
    "logging.basicConfig(format='[%(asctime)s] p%(process)s {%(filename)s:%(lineno)d} %(levelname)s - %(message)s', level=logging.INFO)\n",
    "logger = logging.getLogger(__name__)"
   ]
  },
  {
   "cell_type": "markdown",
   "metadata": {},
   "source": [
    "#### Defining supervisor agent configuration\n",
    "\n",
    "Let's now define the configuration for our hedge fund assistant supervisor agent. Let's use the follow instructions to create our agent:\n",
    "\n",
    "You are a hedge fund assistant who fetches information on fundamental, technical and marketing analysis on financial data. You can fetch this different kind of financial data based on user questions."
   ]
  },
  {
   "cell_type": "code",
   "execution_count": null,
   "metadata": {},
   "outputs": [],
   "source": [
    "%store -r\n",
    "fundamental_analyst_agent_alias_arn, marketing_agent_alias_arn, technical_analyst_agent_alias_arn"
   ]
  },
  {
   "cell_type": "code",
   "execution_count": null,
   "metadata": {},
   "outputs": [],
   "source": [
    "agent_instruction: str = \"\"\"You are a sophisticated financial analysis system with access to three specialized analysts: a Fundamental Analyst who analyzes financial statements, balance sheets, and cash flows; \n",
    "a Technical Analyst who examines price patterns, technical indicators, and market trends; and a Sentiment Analyst who monitors market sentiment through options data, insider trading, and news coverage. When responding to user queries, \n",
    "coordinate with these analysts to provide comprehensive investment insights. The Fundamental Analyst will focus on company financials and valuation metrics, the Technical Analyst will analyze price movements and technical indicators, \n",
    "and the Sentiment Analyst will gauge market psychology and news sentiment. Work together to synthesize their individual analyses into a cohesive, well-rounded response that considers multiple perspectives on the investment opportunity. \n",
    "Each analysis should be clearly labeled and contribute to an overall recommendation or insight.\"\"\""
   ]
  },
  {
   "cell_type": "code",
   "execution_count": null,
   "metadata": {},
   "outputs": [],
   "source": [
    "agent_name = 'multi-agent-hedge-fund'\n",
    "agent_description = \"Multi-agent collaboration for hedge fund assistant to get fundamental, technical and marketing analysis\"\n",
    "\n",
    "sub_agents_list = [\n",
    "    {\n",
    "        'sub_agent_alias_arn': fundamental_analyst_agent_alias_arn,\n",
    "        'sub_agent_instruction': \"\"\"Use this agent when the user asks to analyze company financial statements across three key areas: income statements, balance sheets, and cash flow statements. You require the user to provide a stock ticker symbol to analyze the company's financials. If a user does not provide a ticker symbol, please ask for it as a follow-up question.\"\"\",\n",
    "        'sub_agent_association_name': 'fundamental-analyst-agent',\n",
    "        'relay_conversation_history': 'TO_COLLABORATOR'\n",
    "    },\n",
    "    {\n",
    "        'sub_agent_alias_arn': marketing_agent_alias_arn,\n",
    "        'sub_agent_instruction': \"\"\"Use this agent when a user asks to analyze options chains, insider trading data, and relevant market news. You require the user to provide a stock ticker symbol for analysis. If a user does not provide a ticker symbol, mention in the answer that they need to provide a ticker symbol.\"\"\",\n",
    "        'sub_agent_association_name': 'market-analysis-agent',\n",
    "        'relay_conversation_history': 'TO_COLLABORATOR'\n",
    "    },\n",
    "    {\n",
    "        'sub_agent_alias_arn': technical_analyst_agent_alias_arn,\n",
    "        'sub_agent_instruction': \"\"\"Use this agent if a users asks to analyze stock price movements and technical indicators. You can calculate and interpret various technical indicators using historical price data.\"\"\",\n",
    "        'sub_agent_association_name': 'technical-analyst-agent',\n",
    "        'relay_conversation_history': 'TO_COLLABORATOR'\n",
    "    }\n",
    "]"
   ]
  },
  {
   "cell_type": "markdown",
   "metadata": {},
   "source": [
    "### Create the hedge fund agent\n",
    "---\n",
    "\n",
    "Next we will create the agent with the provided information"
   ]
  },
  {
   "cell_type": "code",
   "execution_count": null,
   "metadata": {},
   "outputs": [],
   "source": [
    "supervisor_agent_id, supervisor_agent_alias_id, supervisor_agent_alias_arn = create_agent(\n",
    "    agent_name,\n",
    "    agent_instruction,\n",
    "    agent_foundation_model=BEDROCK_NOVA_MICRO,\n",
    "    agent_description=agent_description,\n",
    "    agent_collaboration='SUPERVISOR',\n",
    "    create_alias=False\n",
    ")\n",
    "supervisor_agent_id, supervisor_agent_alias_id, supervisor_agent_alias_arn"
   ]
  },
  {
   "cell_type": "markdown",
   "metadata": {},
   "source": [
    "### Create agent associations\n",
    "---\n",
    "\n",
    "Next we will associate the required sub-agents to our supervisor agent"
   ]
  },
  {
   "cell_type": "code",
   "execution_count": null,
   "metadata": {},
   "outputs": [],
   "source": [
    "supervisor_agent_alias_id, supervisor_agent_alias_arn = associate_sub_agents(\n",
    "    supervisor_agent_id, sub_agents_list\n",
    ")\n",
    "supervisor_agent_alias_id, supervisor_agent_alias_arn"
   ]
  },
  {
   "cell_type": "markdown",
   "metadata": {},
   "source": [
    "Now you would have the four agents created and prepared on the console - this includes the `SUPERVISOR HEDGE FUND AGENT` and 3 `SUB AGENTS`\n",
    "\n",
    "![agents](agents-created.png)"
   ]
  },
  {
   "cell_type": "markdown",
   "metadata": {},
   "source": [
    "### List agent associations\n",
    "---\n",
    "\n",
    "After that we can list the associations of our agent"
   ]
  },
  {
   "cell_type": "code",
   "execution_count": null,
   "metadata": {},
   "outputs": [],
   "source": [
    "logger.info(f\"The collaborators of the multi hedge fund agent are: {list_agent_collaborators(supervisor_agent_id)}\")\n",
    "logger.info(f\"Number of agent collaborators: {len(list_agent_collaborators(supervisor_agent_id))}\")"
   ]
  },
  {
   "cell_type": "markdown",
   "metadata": {},
   "source": [
    "### Testing Agent\n",
    "---\n",
    "\n",
    "Now that we've created the agent, let's test it by using our invoke_agent_helper function"
   ]
  },
  {
   "cell_type": "code",
   "execution_count": null,
   "metadata": {},
   "outputs": [],
   "source": [
    "time.sleep(10)"
   ]
  },
  {
   "cell_type": "markdown",
   "metadata": {},
   "source": [
    "#### Route to the Marketing analyst sub agent\n",
    "---\n",
    "\n",
    "In this portion, we will invoke the supervisor agent to look for General Council's stocks in `AAPL`. For this, the `marketing analyst agent` should be invoked.\n",
    "\n",
    "The `get_news()` function is used by the `sub-agent` to get the latest information on the question below."
   ]
  },
  {
   "cell_type": "code",
   "execution_count": null,
   "metadata": {},
   "outputs": [],
   "source": [
    "%%time\n",
    "import uuid\n",
    "session_id:str = str(uuid.uuid1())\n",
    "query = \"\"\"How many shares of AAPL has General Counsel sold over the past year?\"\"\"\n",
    "response = invoke_agent_helper(query, session_id, supervisor_agent_id, supervisor_agent_alias_id, enable_trace=True)\n",
    "print(response)"
   ]
  },
  {
   "cell_type": "markdown",
   "metadata": {},
   "source": [
    "#### Route to the Fundamental analyst agent\n",
    "---\n",
    "\n",
    "In this portion, we will invoke the supervisor agent to look for AAPL's balance sheet information for the first quarter of May, 2021. For this, the supervisor agent should route the request to the `fundamental analyst sub agent` and get the information.\n",
    "\n",
    "The `get_balance_sheets()` function is used by the sub agent to get the response below"
   ]
  },
  {
   "cell_type": "code",
   "execution_count": null,
   "metadata": {},
   "outputs": [],
   "source": [
    "%%time\n",
    "import uuid\n",
    "session_id:str = str(uuid.uuid1())\n",
    "query = \"\"\"What is AAPL's balance sheet information for 2023?\"\"\"\n",
    "response = invoke_agent_helper(query, session_id, supervisor_agent_id, supervisor_agent_alias_id, enable_trace=True)\n",
    "print(response)"
   ]
  },
  {
   "cell_type": "markdown",
   "metadata": {},
   "source": [
    "### Route to the `Marketing analyst agent` to get news by searching on web\n",
    "---"
   ]
  },
  {
   "cell_type": "code",
   "execution_count": null,
   "metadata": {},
   "outputs": [],
   "source": [
    "%%time\n",
    "import uuid\n",
    "session_id:str = str(uuid.uuid1())\n",
    "query = \"\"\"Can you give any news on 'AAPL' and what is its stock like? Search for 'Apple stock data'. Look for statistical data to provide. Be concise and only search once.\"\"\"\n",
    "response = invoke_agent_helper(query, session_id, supervisor_agent_id, supervisor_agent_alias_id, enable_trace=True)\n",
    "print(response)"
   ]
  },
  {
   "cell_type": "markdown",
   "metadata": {},
   "source": [
    "### Invoking collaboration between two sub agents via one user query\n",
    "---\n",
    "\n",
    "In this example, we will ask for some news as well as balance sheet information which will require the supervisor agent to collaborate with both, the marketing analyst agent and the fundamental analyst agent."
   ]
  },
  {
   "cell_type": "code",
   "execution_count": null,
   "metadata": {},
   "outputs": [],
   "source": [
    "%%time\n",
    "import uuid\n",
    "session_id:str = str(uuid.uuid1())\n",
    "query = \"\"\"Search for 'Apple stock data' and give the latest news. Also, what is AAPL's balance sheet information for 2023?\"\"\"\n",
    "response = invoke_agent_helper(query, session_id, supervisor_agent_id, supervisor_agent_alias_id, enable_trace=True)\n",
    "print(response)"
   ]
  }
 ],
 "metadata": {
  "kernelspec": {
   "display_name": "Python 3",
   "language": "python",
   "name": "python3"
  },
  "language_info": {
   "codemirror_mode": {
    "name": "ipython",
    "version": 3
   },
   "file_extension": ".py",
   "mimetype": "text/x-python",
   "name": "python",
   "nbconvert_exporter": "python",
   "pygments_lexer": "ipython3",
   "version": "3.11.7"
  }
 },
 "nbformat": 4,
 "nbformat_minor": 2
}

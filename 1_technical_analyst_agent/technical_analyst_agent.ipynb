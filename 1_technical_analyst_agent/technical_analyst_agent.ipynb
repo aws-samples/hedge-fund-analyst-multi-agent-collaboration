{
 "cells": [
  {
   "cell_type": "markdown",
   "metadata": {},
   "source": [
    "## Creating sub-agent 2: Get technical analysis of the financial data\n",
    "\n",
    "In this folder we will create the second sub-agent for collecting technical analysis to user questions. This agent will call the financial data API to handle the following user questions:\n",
    "\n",
    "1. Questions about getting stock prices. Based on a user question, ticker over a given data range and interval, the agent will get the stock prices.\n",
    "\n",
    "1. Questions about seeking information on the current stock price. If the user asks for the current stock price, then this agent will call a lambda function to get the current (latest) stock price for a ticker\n",
    "\n",
    "1. If a user question is about calculating technical indicators for a given ticker and a time period, for example `RSI`, `MACD`, `SMA`, `EMA` and `Bollinger Bands` calculations."
   ]
  },
  {
   "cell_type": "markdown",
   "metadata": {},
   "source": [
    "### Prerequisites\n",
    "---\n",
    "\n",
    "You are going to install boto3 dependencies from pip. Make sure you have the latest version of it for full capabilities\n",
    "\n",
    "Before running this notebook, make sure to populate the `.env` file with your `FINANCIAL_DATASETS_API_KEY` and `TAVILY_API_KEY`. These two `API` keys will be used by the agent to access information on user related questions. You can create an `API` here: https://www.financialdatasets.ai/"
   ]
  },
  {
   "cell_type": "code",
   "execution_count": 1,
   "metadata": {},
   "outputs": [
    {
     "name": "stdout",
     "output_type": "stream",
     "text": [
      "Found existing installation: boto3 1.35.83\n",
      "Uninstalling boto3-1.35.83:\n",
      "  Successfully uninstalled boto3-1.35.83\n",
      "Found existing installation: botocore 1.35.83\n",
      "Uninstalling botocore-1.35.83:\n",
      "  Successfully uninstalled botocore-1.35.83\n",
      "Found existing installation: awscli 1.36.24\n",
      "Uninstalling awscli-1.36.24:\n",
      "  Successfully uninstalled awscli-1.36.24\n"
     ]
    }
   ],
   "source": [
    "!pip uninstall boto3 botocore awscli --yes"
   ]
  },
  {
   "cell_type": "code",
   "execution_count": 2,
   "metadata": {},
   "outputs": [],
   "source": [
    "# Install latest boto3\n",
    "!python3 -m pip install --force-reinstall --no-cache -q --no-dependencies -r ../requirements.txt"
   ]
  },
  {
   "cell_type": "markdown",
   "metadata": {},
   "source": [
    "### Import required libraries\n",
    "\n",
    "Next we will import the required libraries. We will also import some support functions available in the parent directory. Those functions are:\n",
    "\n",
    "1. `create_agent`: helps you to create the necessary IAM permissions and Bedrock agetns based on the agent's name, instructions, foundation models, descriptions and other properties.\n",
    "\n",
    "1. `invoke_agent_helper`: helps you to invoke your agent using invoke_agent\n",
    "You can see the implementation of both functions in the parent directory"
   ]
  },
  {
   "cell_type": "code",
   "execution_count": 3,
   "metadata": {},
   "outputs": [
    {
     "name": "stdout",
     "output_type": "stream",
     "text": [
      "/Users/madhurpt/Desktop/hedge-fund-analyst-multi-agent-collaboration-2\n",
      "Boto3 version: 1.35.83\n"
     ]
    },
    {
     "name": "stderr",
     "output_type": "stream",
     "text": [
      "[2024-12-17 19:41:06,745] p87293 {requests.py:227} INFO - >>> {\"query\": \"query DefaultEntity {\\n  viewer {\\n    username\\n    defaultEntity {\\n      name\\n    }\\n  }\\n}\"}\n",
      "[2024-12-17 19:41:06,836] p87293 {requests.py:263} INFO - <<< {\"data\":{\"viewer\":{\"username\":\"madhur-prash\",\"defaultEntity\":{\"name\":\"madhur-prash-none\"}}}}\n",
      "[2024-12-17 19:41:08,200] p87293 {utils.py:160} INFO - NumExpr defaulting to 8 threads.\n",
      "[2024-12-17 19:41:08,975] p87293 {_client.py:1026} INFO - HTTP Request: GET https://raw.githubusercontent.com/BerriAI/litellm/main/model_prices_and_context_window.json \"HTTP/1.1 200 OK\"\n",
      "[2024-12-17 19:41:09,511] p87293 {config.py:59} INFO - PyTorch version 2.3.0 available.\n",
      "[2024-12-17 19:41:09,695] p87293 {requests.py:227} INFO - >>> {\"query\": \"query DefaultEntity {\\n  viewer {\\n    username\\n    defaultEntity {\\n      name\\n    }\\n  }\\n}\"}\n",
      "[2024-12-17 19:41:09,781] p87293 {requests.py:263} INFO - <<< {\"data\":{\"viewer\":{\"username\":\"madhur-prash\",\"defaultEntity\":{\"name\":\"madhur-prash-none\"}}}}\n"
     ]
    },
    {
     "name": "stdout",
     "output_type": "stream",
     "text": [
      "Logged in as Weights & Biases user: madhur-prash.\n",
      "View Weave data at https://wandb.ai/madhur-prash-none/multi-agent-collaboration/weave\n"
     ]
    }
   ],
   "source": [
    "import os\n",
    "import sys\n",
    "import time\n",
    "import json\n",
    "import boto3\n",
    "from dotenv import load_dotenv\n",
    "\n",
    "# Get the current file's directory\n",
    "current_dir = os.path.dirname(os.path.abspath('__file__'))\n",
    "\n",
    "# Get the parent directory\n",
    "parent_dir = os.path.dirname(current_dir)\n",
    "print(parent_dir)\n",
    "\n",
    "# Add the parent directory to sys.path\n",
    "sys.path.append(parent_dir)\n",
    "\n",
    "from utils import *\n",
    "from globals import *\n",
    "from agents import create_agent, invoke_agent_helper"
   ]
  },
  {
   "cell_type": "code",
   "execution_count": 15,
   "metadata": {},
   "outputs": [
    {
     "data": {
      "text/plain": [
       "<function dotenv.main.load_dotenv(dotenv_path: Union[str, ForwardRef('os.PathLike[str]'), NoneType] = None, stream: Optional[IO[str]] = None, verbose: bool = False, override: bool = False, interpolate: bool = True, encoding: Optional[str] = 'utf-8') -> bool>"
      ]
     },
     "execution_count": 15,
     "metadata": {},
     "output_type": "execute_result"
    }
   ],
   "source": [
    "# Load environment variables from .env file\n",
    "load_dotenv"
   ]
  },
  {
   "cell_type": "code",
   "execution_count": 5,
   "metadata": {},
   "outputs": [],
   "source": [
    "# set a logger\n",
    "logging.basicConfig(format='[%(asctime)s] p%(process)s {%(filename)s:%(lineno)d} %(levelname)s - %(message)s', level=logging.INFO)\n",
    "logger = logging.getLogger(__name__)"
   ]
  },
  {
   "cell_type": "markdown",
   "metadata": {},
   "source": [
    "### Defining agent configuration\n",
    "---"
   ]
  },
  {
   "cell_type": "code",
   "execution_count": 6,
   "metadata": {},
   "outputs": [],
   "source": [
    "agent_instruction = \"\"\"You are a technical analysis assistant that helps users analyze stock price movements and technical indicators. You can calculate and interpret various technical indicators using historical price data.\n",
    "\n",
    "You have access to the following technical analysis capabilities based on the API key you have access to to call the available functions and get the following information:\n",
    "\n",
    "1. Stock Price Data:\n",
    "   - Current stock prices\n",
    "   - Historical price data with various intervals\n",
    "   - Custom date range analysis\n",
    "\n",
    "2. Technical Indicators:\n",
    "   - RSI\n",
    "   - MACD\n",
    "   - SMA\n",
    "   - EMA\n",
    "   - Bollinger Bands\n",
    "\n",
    "You require the user to provide:\n",
    "1. A stock ticker symbol\n",
    "2. The type of technical indicator they want to analyze\n",
    "3. Optionally: specific time periods or date ranges\n",
    "\n",
    "Available functions:\n",
    "1. get_current_stock_price: Retrieve latest stock price\n",
    "2. get_stock_prices: Get historical price data for a specified period\n",
    "3. get_technical_indicators: Calculate technical indicators for analysis\n",
    "\n",
    "If you do not have access to the data that the user is asking for, do not make up an answer. Be completely accurate and only provide analysis based on the available technical indicators and price data.\n",
    "\n",
    "Only answer questions related to technical analysis and price data based on the provided functions. If unsure, acknowledge limitations\"\"\"\n",
    "\n",
    "agent_description = \"Agent for technical analysis of stocks using various technical indicators and price data\""
   ]
  },
  {
   "cell_type": "code",
   "execution_count": 7,
   "metadata": {},
   "outputs": [],
   "source": [
    "# This is the function definition for the lambda function that will be invoked\n",
    "# as a part of the action group\n",
    "functions = [{\n",
    "    'name': 'get_stock_prices',\n",
    "    'description': 'Get prices for a ticker over a given date range and interval.',\n",
    "    'parameters': {\n",
    "        \"ticker\": {\n",
    "            \"description\": \"stock ticker symbol of the company\",\n",
    "            \"required\": True,\n",
    "            \"type\": \"string\"\n",
    "        },\n",
    "        \"start_date\": {\n",
    "            \"description\": \"Start date to get the stock price from\",\n",
    "            \"required\": True,\n",
    "            \"type\": \"string\"\n",
    "        },\n",
    "        \"end_date\": {\n",
    "            \"description\": \"End data until which the stock price needs to be computed\",\n",
    "            \"required\": True,\n",
    "            \"type\": \"string\"\n",
    "        }, \n",
    "        \"limit\": {\n",
    "            \"description\": \"number of statements to retrieve\",\n",
    "            \"required\": True,\n",
    "            \"type\": \"integer\"\n",
    "        }\n",
    "    }\n",
    "},\n",
    "{\n",
    "    'name': 'get_current_stock_price',\n",
    "    'description': 'Get the current (latest) stock price for a ticker.',\n",
    "    'parameters': {\n",
    "        \"ticker\": {\n",
    "            \"description\": \"stock ticker symbol of the company\",\n",
    "            \"required\": True,\n",
    "            \"type\": \"string\"\n",
    "        }\n",
    "    }\n",
    "},\n",
    "{\n",
    "    'name': 'get_technical_indicators',\n",
    "    'description': 'Calculate technical indicators (RSI, MACD, SMA, EMA, or Bollinger Bands) for a given ticker.',\n",
    "    'parameters': {\n",
    "        \"ticker\": {\n",
    "            \"description\": \"stock ticker symbol of the company\",\n",
    "            \"required\": True,\n",
    "            \"type\": \"string\"\n",
    "        },\n",
    "        \"indicator\": {\n",
    "            \"description\": \"technical indicator type (RSI, MACD, SMA, EMA, or BBANDS)\",\n",
    "            \"required\": True,\n",
    "            \"type\": \"string\"\n",
    "        },\n",
    "        \"period\": {\n",
    "            \"description\": \"period for indicator calculation (default: 14)\",\n",
    "            \"required\": False,\n",
    "            \"type\": \"integer\"\n",
    "        },\n",
    "        \"start_date\": {\n",
    "            \"description\": \"start date for analysis (YYYY-MM-DD)\",\n",
    "            \"required\": False,\n",
    "            \"type\": \"string\"\n",
    "        },\n",
    "        \"end_date\": {\n",
    "            \"description\": \"end date for analysis (YYYY-MM-DD)\",\n",
    "            \"required\": False,\n",
    "            \"type\": \"string\"\n",
    "        }\n",
    "    }\n",
    "}]"
   ]
  },
  {
   "cell_type": "markdown",
   "metadata": {},
   "source": [
    "### Add a lambda layer to the lambda function\n",
    "---\n",
    "\n",
    "In this section of the notebook, we will add a lambda layer to the lambda function. We will be installing `requests`, `ta` to make requests to the financial data API key."
   ]
  },
  {
   "cell_type": "code",
   "execution_count": 8,
   "metadata": {},
   "outputs": [
    {
     "name": "stdout",
     "output_type": "stream",
     "text": [
      "Looking in indexes: https://pypi.org/simple, https://pypi.ngc.nvidia.com\n",
      "Collecting requests\n",
      "  Downloading requests-2.32.3-py3-none-any.whl.metadata (4.6 kB)\n",
      "Collecting charset-normalizer<4,>=2 (from requests)\n",
      "  Downloading charset_normalizer-3.4.0-cp311-cp311-macosx_11_0_arm64.whl.metadata (34 kB)\n",
      "Collecting idna<4,>=2.5 (from requests)\n",
      "  Downloading idna-3.10-py3-none-any.whl.metadata (10 kB)\n",
      "Collecting urllib3<3,>=1.21.1 (from requests)\n",
      "  Downloading urllib3-2.2.3-py3-none-any.whl.metadata (6.5 kB)\n",
      "Collecting certifi>=2017.4.17 (from requests)\n",
      "  Downloading certifi-2024.12.14-py3-none-any.whl.metadata (2.3 kB)\n",
      "Downloading requests-2.32.3-py3-none-any.whl (64 kB)\n",
      "Downloading certifi-2024.12.14-py3-none-any.whl (164 kB)\n",
      "Downloading charset_normalizer-3.4.0-cp311-cp311-macosx_11_0_arm64.whl (118 kB)\n",
      "Downloading idna-3.10-py3-none-any.whl (70 kB)\n",
      "Downloading urllib3-2.2.3-py3-none-any.whl (126 kB)\n",
      "Installing collected packages: urllib3, idna, charset-normalizer, certifi, requests\n",
      "Successfully installed certifi-2024.12.14 charset-normalizer-3.4.0 idna-3.10 requests-2.32.3 urllib3-2.2.3\n"
     ]
    },
    {
     "name": "stderr",
     "output_type": "stream",
     "text": [
      "\u001b[31mERROR: pip's dependency resolver does not currently take into account all the packages that are installed. This behaviour is the source of the following dependency conflicts.\n",
      "conda-repo-cli 1.0.75 requires requests_mock, which is not installed.\n",
      "langchain-community 0.2.17 requires langchain-core<0.3.0,>=0.2.39, but you have langchain-core 0.3.24 which is incompatible.\n",
      "langchain-community 0.2.17 requires langsmith<0.2.0,>=0.1.112, but you have langsmith 0.2.3 which is incompatible.\n",
      "langchain-community 0.2.17 requires tenacity!=8.4.0,<9.0.0,>=8.1.0, but you have tenacity 9.0.0 which is incompatible.\n",
      "streamlit 1.30.0 requires packaging<24,>=16.8, but you have packaging 24.2 which is incompatible.\n",
      "streamlit 1.30.0 requires protobuf<5,>=3.20, but you have protobuf 5.28.3 which is incompatible.\n",
      "streamlit 1.30.0 requires tenacity<9,>=8.1.0, but you have tenacity 9.0.0 which is incompatible.\n",
      "cohere 5.3.4 requires tokenizers<0.20,>=0.19, but you have tokenizers 0.20.1 which is incompatible.\n",
      "llama-index-legacy 0.9.48 requires tenacity<9.0.0,>=8.2.0, but you have tenacity 9.0.0 which is incompatible.\n",
      "conda-repo-cli 1.0.75 requires clyent==1.2.1, but you have clyent 1.2.2 which is incompatible.\n",
      "conda-repo-cli 1.0.75 requires python-dateutil==2.8.2, but you have python-dateutil 2.9.0.post0 which is incompatible.\n",
      "conda-repo-cli 1.0.75 requires PyYAML==6.0.1, but you have pyyaml 6.0.2 which is incompatible.\n",
      "conda-repo-cli 1.0.75 requires requests==2.31.0, but you have requests 2.32.3 which is incompatible.\n",
      "sagemaker 2.232.2 requires attrs<24,>=23.1.0, but you have attrs 24.2.0 which is incompatible.\n",
      "sagemaker 2.232.2 requires protobuf<5.0,>=3.12, but you have protobuf 5.28.3 which is incompatible.\n",
      "gradientai 1.11.0 requires pydantic<2.0.0,>=1.10.5, but you have pydantic 2.9.2 which is incompatible.\n",
      "deepeval 0.20.57 requires protobuf==4.25.1, but you have protobuf 5.28.3 which is incompatible.\n",
      "langchain 0.2.16 requires langchain-core<0.3.0,>=0.2.38, but you have langchain-core 0.3.24 which is incompatible.\n",
      "langchain 0.2.16 requires langsmith<0.2.0,>=0.1.17, but you have langsmith 0.2.3 which is incompatible.\n",
      "langchain 0.2.16 requires tenacity!=8.4.0,<9.0.0,>=8.1.0, but you have tenacity 9.0.0 which is incompatible.\n",
      "llama-index-finetuning 0.1.5 requires sentence-transformers<3.0.0,>=2.3.0, but you have sentence-transformers 3.3.1 which is incompatible.\n",
      "anaconda-cloud-auth 0.1.4 requires pydantic<2.0, but you have pydantic 2.9.2 which is incompatible.\n",
      "llama-index-core 0.10.34 requires tenacity<9.0.0,>=8.2.0, but you have tenacity 9.0.0 which is incompatible.\n",
      "farm-haystack 1.26.4 requires pydantic<2, but you have pydantic 2.9.2 which is incompatible.\u001b[0m\u001b[31m\n",
      "\u001b[0m"
     ]
    }
   ],
   "source": [
    "# Create and publish the layer ~ this step will take around 2 minutes\n",
    "\n",
    "# In this case we want to add a layer to the lambda containing files to import the \n",
    "# requests, ta and pandas libraries\n",
    "layer_zip = create_lambda_layer(['requests'])\n",
    "layer_arn = publish_layer('technical-agent-lambda-layer-new')"
   ]
  },
  {
   "cell_type": "markdown",
   "metadata": {},
   "source": [
    "### Create agent\n",
    "---\n",
    "\n",
    "Next we will create the agent with the provided information. In this, we will use the prompt configuration, the lambda function and lambda layers, update the lambda function to contain the `FINANCIAL_DATASETS_API_KEY` that the agent can use to fetch data to user inputs, and then finally create the agent."
   ]
  },
  {
   "cell_type": "code",
   "execution_count": 9,
   "metadata": {},
   "outputs": [],
   "source": [
    "action_group_config = {\n",
    "    'name': 'TechnicalAgentActionGroup',\n",
    "    'description': 'Action group for technical analysis of stocks using various technical indicators and price data',\n",
    "    'functions': functions,\n",
    "    'lambda_function_name': f'{SUB_AGENT_NAME_TECHNICAL_ANALYST}-lambda',\n",
    "    'lambda_file_path': TECHNICAL_LAMBDA_FUNCTION_NAME,\n",
    "    'dynamodb_table_name': f'{SUB_AGENT_NAME_TECHNICAL_ANALYST}-table',\n",
    "    'dynamodb_attribute_name': 'analysis-id', \n",
    "    'lambda_layers': [layer_arn]\n",
    "}\n",
    "\n",
    "# Create a Lambda client and attach the API key as env variable to the lambda function\n",
    "lambda_client = boto3.client('lambda')\n",
    "lambda_function_name = action_group_config['lambda_function_name']\n",
    "environment_variables = {\n",
    "    'FINANCIAL_DATASETS_API_KEY': os.getenv('FINANCIAL_DATASETS_API_KEY')\n",
    "}"
   ]
  },
  {
   "cell_type": "code",
   "execution_count": 10,
   "metadata": {},
   "outputs": [
    {
     "name": "stdout",
     "output_type": "stream",
     "text": [
      "creating agent\n",
      "Policy technical-analyst-agent-ba already exists\n",
      "Checking if AmazonBedrockExecutionRoleForAgents_technical-analyst-agent role also exists\n",
      "Detaching and deleting technical-analyst-agent-ba\n",
      "deleting AmazonBedrockExecutionRoleForAgents_technical-analyst-agent\n",
      "Recreating technical-analyst-agent-ba\n",
      "creating and attaching action group\n",
      "Role already exists -- deleting and creating it again\n",
      "Detaching AWSLambdaBasicExecutionRole\n",
      "Detaching AmazonDynamoDBFullAccess\n",
      "deleting technical-analyst-agent-lambda-role\n",
      "recreating technical-analyst-agent-lambda-role\n",
      "attaching basic lambda permissions to technical-analyst-agent-lambda-role\n",
      "attaching dynamodb permissions to technical-analyst-agent-lambda-role\n",
      "technical-analyst-agent-lambda already exists, deleting it and recreating\n",
      "Agent id BRU2RYCZR1 current status: NOT_PREPARED\n",
      "Waiting for agent status to change. Current status PREPARING\n",
      "Agent id BRU2RYCZR1 current status: PREPARED\n",
      "Waiting for agent status to change. Current status VERSIONING\n",
      "Agent id BRU2RYCZR1 current status: PREPARED\n"
     ]
    }
   ],
   "source": [
    "# Update your agent creation code to include the action_group_config\n",
    "technical_analyst_agent_id, technical_analyst_agent_alias_id, technical_analyst_agent_alias_arn = create_agent(\n",
    "    SUB_AGENT_NAME_TECHNICAL_ANALYST,\n",
    "    agent_instruction,\n",
    "    agent_foundation_model=NOVA_LITE,\n",
    "    agent_description=agent_description,\n",
    "    action_group_config=action_group_config\n",
    ")"
   ]
  },
  {
   "cell_type": "code",
   "execution_count": 11,
   "metadata": {},
   "outputs": [],
   "source": [
    "# Update the Lambda function's configuration to include the environment variables\n",
    "# In the case of this agent, we need the financial dataset API as an env variable passed to the lambda\n",
    "# so that it can be used in fetching data based on user questions\n",
    "response = lambda_client.update_function_configuration(\n",
    "    FunctionName=lambda_function_name,\n",
    "    Environment={\n",
    "        'Variables': environment_variables\n",
    "    },\n",
    "    Layers=action_group_config['lambda_layers']\n",
    ")"
   ]
  },
  {
   "cell_type": "markdown",
   "metadata": {},
   "source": [
    "### Getting details from the agent\n",
    "--- \n",
    "Let's take a look at the details from the created agent."
   ]
  },
  {
   "cell_type": "code",
   "execution_count": 12,
   "metadata": {},
   "outputs": [
    {
     "data": {
      "text/plain": [
       "('BRU2RYCZR1',\n",
       " 'X0OOOOEXXL',\n",
       " 'arn:aws:bedrock:us-east-1:218208277580:agent-alias/BRU2RYCZR1/X0OOOOEXXL')"
      ]
     },
     "execution_count": 12,
     "metadata": {},
     "output_type": "execute_result"
    }
   ],
   "source": [
    "technical_analyst_agent_id, technical_analyst_agent_alias_id, technical_analyst_agent_alias_arn"
   ]
  },
  {
   "cell_type": "markdown",
   "metadata": {},
   "source": [
    "### Testing the Fundamental Analyst agent\n",
    "---\n",
    "\n",
    "Now that we've created the agent, let's test it by using our `invoke_agent_helper` function. Here, we will invoke the `technical analyst` agent to provide information on `technical indicators` and `stock price data` based on the question provided by the user.\n",
    "\n",
    "Since the `invoke_agent_helper` is wrapped with a `weave` decorator, it will log the input/outputs or any errors to your weave account dashboard. To create a weave API key, refer to the following link: https://wandb.ai/site/weave/"
   ]
  },
  {
   "cell_type": "code",
   "execution_count": 13,
   "metadata": {},
   "outputs": [],
   "source": [
    "# Sleep for 30 seconds before invoking the technical analyst agent\n",
    "time.sleep(30)"
   ]
  },
  {
   "cell_type": "code",
   "execution_count": 16,
   "metadata": {},
   "outputs": [
    {
     "name": "stderr",
     "output_type": "stream",
     "text": [
      "[2024-12-17 19:43:10,208] p87293 {agents.py:760} INFO - invoke_agent response metadata:\n",
      "[2024-12-17 19:43:10,208] p87293 {agents.py:761} INFO - {\n",
      "  \"RequestId\": \"3fd3b3c1-2cda-4038-b1e2-d5bf1a2f3eea\",\n",
      "  \"HTTPStatusCode\": 200,\n",
      "  \"HTTPHeaders\": {\n",
      "    \"date\": \"Wed, 18 Dec 2024 00:43:10 GMT\",\n",
      "    \"content-type\": \"application/vnd.amazon.eventstream\",\n",
      "    \"transfer-encoding\": \"chunked\",\n",
      "    \"connection\": \"keep-alive\",\n",
      "    \"x-amzn-requestid\": \"3fd3b3c1-2cda-4038-b1e2-d5bf1a2f3eea\",\n",
      "    \"x-amz-bedrock-agent-session-id\": \"0dff3c0c-bcd9-11ef-8c47-168aeb12c117\",\n",
      "    \"x-amzn-bedrock-agent-content-type\": \"application/json\"\n",
      "  },\n",
      "  \"RetryAttempts\": 0\n",
      "}\n",
      "[2024-12-17 19:43:10,365] p87293 {agents.py:787} INFO - ==== Trace Event Received ====\n",
      "[2024-12-17 19:43:10,366] p87293 {agents.py:790} INFO - callerChain: [\n",
      "  {\n",
      "    \"agentAliasArn\": \"arn:aws:bedrock:us-east-1:218208277580:agent-alias/BRU2RYCZR1/X0OOOOEXXL\"\n",
      "  }\n",
      "]\n",
      "[2024-12-17 19:43:10,366] p87293 {agents.py:803} INFO - Orchestration Trace Detected\n",
      "[2024-12-17 19:43:18,296] p87293 {agents.py:787} INFO - ==== Trace Event Received ====\n",
      "[2024-12-17 19:43:18,297] p87293 {agents.py:790} INFO - callerChain: [\n",
      "  {\n",
      "    \"agentAliasArn\": \"arn:aws:bedrock:us-east-1:218208277580:agent-alias/BRU2RYCZR1/X0OOOOEXXL\"\n",
      "  }\n",
      "]\n",
      "[2024-12-17 19:43:18,297] p87293 {agents.py:803} INFO - Orchestration Trace Detected\n",
      "[2024-12-17 19:43:18,298] p87293 {agents.py:787} INFO - ==== Trace Event Received ====\n",
      "[2024-12-17 19:43:18,298] p87293 {agents.py:790} INFO - callerChain: [\n",
      "  {\n",
      "    \"agentAliasArn\": \"arn:aws:bedrock:us-east-1:218208277580:agent-alias/BRU2RYCZR1/X0OOOOEXXL\"\n",
      "  }\n",
      "]\n",
      "[2024-12-17 19:43:18,299] p87293 {agents.py:803} INFO - Orchestration Trace Detected\n",
      "[2024-12-17 19:43:18,300] p87293 {agents.py:806} INFO - Agent Rationale: The User's goal is to get the latest stock price for AAPL from January 2022 to December 2022.\n",
      "(2) The information provided is the ticker symbol (AAPL) and the date range (January 2022 to December 2022).\n",
      "(3) The action plan is to first get the historical stock prices for the specified date range and ticker symbol, and then provide the latest price from that data.\n",
      "(4) All steps in the action plan are not complete as we need to first fetch the historical prices.\n",
      "(5) The next step is to fetch the historical prices using the `get_stock_prices` action.\n",
      "(6) The required information for this action is the ticker symbol (AAPL), start date (2022-01-01), end date (2022-12-31), and limit (number of data points).\n",
      "(7) I have everything I need to execute the next step.\n"
     ]
    },
    {
     "ename": "Exception",
     "evalue": "('unexpected event.', EventStreamError('An error occurred (dependencyFailedException) when calling the InvokeAgent operation: The server encountered an error processing the Lambda response. Check the Lambda response and retry the request'))",
     "output_type": "error",
     "traceback": [
      "\u001b[0;31m---------------------------------------------------------------------------\u001b[0m",
      "\u001b[0;31mEventStreamError\u001b[0m                          Traceback (most recent call last)",
      "File \u001b[0;32m~/Desktop/hedge-fund-analyst-multi-agent-collaboration-2/agents.py:765\u001b[0m, in \u001b[0;36minvoke_agent_helper\u001b[0;34m(query, session_id, agent_id, alias_id, enable_trace, session_state, trace_level)\u001b[0m\n\u001b[1;32m    764\u001b[0m \u001b[38;5;28;01mtry\u001b[39;00m:\n\u001b[0;32m--> 765\u001b[0m     \u001b[38;5;28;01mfor\u001b[39;00m event \u001b[38;5;129;01min\u001b[39;00m event_stream:\n\u001b[1;32m    766\u001b[0m         \u001b[38;5;28;01mif\u001b[39;00m \u001b[38;5;124m'\u001b[39m\u001b[38;5;124mchunk\u001b[39m\u001b[38;5;124m'\u001b[39m \u001b[38;5;129;01min\u001b[39;00m event:\n",
      "File \u001b[0;32m/opt/homebrew/anaconda3/lib/python3.11/site-packages/botocore/eventstream.py:592\u001b[0m, in \u001b[0;36mEventStream.__iter__\u001b[0;34m(self)\u001b[0m\n\u001b[1;32m    591\u001b[0m \u001b[38;5;28;01mfor\u001b[39;00m event \u001b[38;5;129;01min\u001b[39;00m \u001b[38;5;28mself\u001b[39m\u001b[38;5;241m.\u001b[39m_event_generator:\n\u001b[0;32m--> 592\u001b[0m     parsed_event \u001b[38;5;241m=\u001b[39m \u001b[38;5;28mself\u001b[39m\u001b[38;5;241m.\u001b[39m_parse_event(event)\n\u001b[1;32m    593\u001b[0m     \u001b[38;5;28;01mif\u001b[39;00m parsed_event:\n",
      "File \u001b[0;32m/opt/homebrew/anaconda3/lib/python3.11/site-packages/botocore/eventstream.py:608\u001b[0m, in \u001b[0;36mEventStream._parse_event\u001b[0;34m(self, event)\u001b[0m\n\u001b[1;32m    607\u001b[0m \u001b[38;5;28;01melse\u001b[39;00m:\n\u001b[0;32m--> 608\u001b[0m     \u001b[38;5;28;01mraise\u001b[39;00m EventStreamError(parsed_response, \u001b[38;5;28mself\u001b[39m\u001b[38;5;241m.\u001b[39m_operation_name)\n",
      "\u001b[0;31mEventStreamError\u001b[0m: An error occurred (dependencyFailedException) when calling the InvokeAgent operation: The server encountered an error processing the Lambda response. Check the Lambda response and retry the request",
      "\nDuring handling of the above exception, another exception occurred:\n",
      "\u001b[0;31mException\u001b[0m                                 Traceback (most recent call last)",
      "File \u001b[0;32m<timed exec>:4\u001b[0m\n",
      "File \u001b[0;32m/opt/homebrew/anaconda3/lib/python3.11/site-packages/weave/trace/op.py:658\u001b[0m, in \u001b[0;36mop.<locals>.op_deco.<locals>.create_wrapper.<locals>.wrapper\u001b[0;34m(*args, **kwargs)\u001b[0m\n\u001b[1;32m    656\u001b[0m \u001b[38;5;129m@wraps\u001b[39m(func)\n\u001b[1;32m    657\u001b[0m \u001b[38;5;28;01mdef\u001b[39;00m \u001b[38;5;21mwrapper\u001b[39m(\u001b[38;5;241m*\u001b[39margs: Any, \u001b[38;5;241m*\u001b[39m\u001b[38;5;241m*\u001b[39mkwargs: Any) \u001b[38;5;241m-\u001b[39m\u001b[38;5;241m>\u001b[39m Any:\n\u001b[0;32m--> 658\u001b[0m     res, _ \u001b[38;5;241m=\u001b[39m _do_call(\n\u001b[1;32m    659\u001b[0m         cast(Op, wrapper), \u001b[38;5;241m*\u001b[39margs, __should_raise\u001b[38;5;241m=\u001b[39m\u001b[38;5;28;01mTrue\u001b[39;00m, \u001b[38;5;241m*\u001b[39m\u001b[38;5;241m*\u001b[39mkwargs\n\u001b[1;32m    660\u001b[0m     )\n\u001b[1;32m    661\u001b[0m     \u001b[38;5;28;01mreturn\u001b[39;00m res\n",
      "File \u001b[0;32m/opt/homebrew/anaconda3/lib/python3.11/site-packages/weave/trace/op.py:456\u001b[0m, in \u001b[0;36m_do_call\u001b[0;34m(op, __weave, __should_raise, *args, **kwargs)\u001b[0m\n\u001b[1;32m    454\u001b[0m     res \u001b[38;5;241m=\u001b[39m func(\u001b[38;5;241m*\u001b[39mpargs\u001b[38;5;241m.\u001b[39margs, \u001b[38;5;241m*\u001b[39m\u001b[38;5;241m*\u001b[39mpargs\u001b[38;5;241m.\u001b[39mkwargs)\n\u001b[1;32m    455\u001b[0m \u001b[38;5;28;01melse\u001b[39;00m:\n\u001b[0;32m--> 456\u001b[0m     execute_result \u001b[38;5;241m=\u001b[39m _execute_op(\n\u001b[1;32m    457\u001b[0m         op, call, \u001b[38;5;241m*\u001b[39mpargs\u001b[38;5;241m.\u001b[39margs, __should_raise\u001b[38;5;241m=\u001b[39m__should_raise, \u001b[38;5;241m*\u001b[39m\u001b[38;5;241m*\u001b[39mpargs\u001b[38;5;241m.\u001b[39mkwargs\n\u001b[1;32m    458\u001b[0m     )\n\u001b[1;32m    459\u001b[0m     \u001b[38;5;28;01mif\u001b[39;00m inspect\u001b[38;5;241m.\u001b[39miscoroutine(execute_result):\n\u001b[1;32m    460\u001b[0m         \u001b[38;5;28;01mraise\u001b[39;00m \u001b[38;5;167;01mTypeError\u001b[39;00m(\n\u001b[1;32m    461\u001b[0m             \u001b[38;5;124m\"\u001b[39m\u001b[38;5;124mInternal error: Expected `_execute_call` to return a sync result\u001b[39m\u001b[38;5;124m\"\u001b[39m\n\u001b[1;32m    462\u001b[0m         )\n",
      "File \u001b[0;32m/opt/homebrew/anaconda3/lib/python3.11/site-packages/weave/trace/op.py:340\u001b[0m, in \u001b[0;36m_execute_op\u001b[0;34m(__op, __call, __should_raise, *args, **kwargs)\u001b[0m\n\u001b[1;32m    338\u001b[0m     res \u001b[38;5;241m=\u001b[39m func(\u001b[38;5;241m*\u001b[39margs, \u001b[38;5;241m*\u001b[39m\u001b[38;5;241m*\u001b[39mkwargs)\n\u001b[1;32m    339\u001b[0m \u001b[38;5;28;01mexcept\u001b[39;00m \u001b[38;5;167;01mException\u001b[39;00m \u001b[38;5;28;01mas\u001b[39;00m e:\n\u001b[0;32m--> 340\u001b[0m     handle_exception(e)\n\u001b[1;32m    341\u001b[0m \u001b[38;5;28;01melse\u001b[39;00m:\n\u001b[1;32m    342\u001b[0m     \u001b[38;5;28;01mreturn\u001b[39;00m process(res)\n",
      "File \u001b[0;32m/opt/homebrew/anaconda3/lib/python3.11/site-packages/weave/trace/op.py:338\u001b[0m, in \u001b[0;36m_execute_op\u001b[0;34m(__op, __call, __should_raise, *args, **kwargs)\u001b[0m\n\u001b[1;32m    335\u001b[0m     \u001b[38;5;28;01mreturn\u001b[39;00m _call_async()\n\u001b[1;32m    337\u001b[0m \u001b[38;5;28;01mtry\u001b[39;00m:\n\u001b[0;32m--> 338\u001b[0m     res \u001b[38;5;241m=\u001b[39m func(\u001b[38;5;241m*\u001b[39margs, \u001b[38;5;241m*\u001b[39m\u001b[38;5;241m*\u001b[39mkwargs)\n\u001b[1;32m    339\u001b[0m \u001b[38;5;28;01mexcept\u001b[39;00m \u001b[38;5;167;01mException\u001b[39;00m \u001b[38;5;28;01mas\u001b[39;00m e:\n\u001b[1;32m    340\u001b[0m     handle_exception(e)\n",
      "File \u001b[0;32m~/Desktop/hedge-fund-analyst-multi-agent-collaboration-2/agents.py:814\u001b[0m, in \u001b[0;36minvoke_agent_helper\u001b[0;34m(query, session_id, agent_id, alias_id, enable_trace, session_state, trace_level)\u001b[0m\n\u001b[1;32m    812\u001b[0m             \u001b[38;5;28;01mraise\u001b[39;00m \u001b[38;5;167;01mException\u001b[39;00m(\u001b[38;5;124m\"\u001b[39m\u001b[38;5;124munexpected event.\u001b[39m\u001b[38;5;124m\"\u001b[39m, event)\n\u001b[1;32m    813\u001b[0m \u001b[38;5;28;01mexcept\u001b[39;00m \u001b[38;5;167;01mException\u001b[39;00m \u001b[38;5;28;01mas\u001b[39;00m e:\n\u001b[0;32m--> 814\u001b[0m     \u001b[38;5;28;01mraise\u001b[39;00m \u001b[38;5;167;01mException\u001b[39;00m(\u001b[38;5;124m\"\u001b[39m\u001b[38;5;124munexpected event.\u001b[39m\u001b[38;5;124m\"\u001b[39m, e)\n",
      "\u001b[0;31mException\u001b[0m: ('unexpected event.', EventStreamError('An error occurred (dependencyFailedException) when calling the InvokeAgent operation: The server encountered an error processing the Lambda response. Check the Lambda response and retry the request'))"
     ]
    }
   ],
   "source": [
    "%%time\n",
    "import uuid\n",
    "session_id:str = str(uuid.uuid1())\n",
    "query = \"\"\"What is the latest stock price for AAPL from january 2022 to december 2022?\"\"\"\n",
    "response = invoke_agent_helper(\n",
    "    query, session_id, technical_analyst_agent_id, technical_analyst_agent_alias_id, enable_trace=True\n",
    ")\n",
    "print(response)"
   ]
  },
  {
   "cell_type": "code",
   "execution_count": 17,
   "metadata": {},
   "outputs": [
    {
     "name": "stderr",
     "output_type": "stream",
     "text": [
      "[2024-12-17 19:43:26,740] p87293 {agents.py:760} INFO - invoke_agent response metadata:\n",
      "[2024-12-17 19:43:26,741] p87293 {agents.py:761} INFO - {\n",
      "  \"RequestId\": \"bf0ad130-727a-4d5b-968e-d67231fd383b\",\n",
      "  \"HTTPStatusCode\": 200,\n",
      "  \"HTTPHeaders\": {\n",
      "    \"date\": \"Wed, 18 Dec 2024 00:43:26 GMT\",\n",
      "    \"content-type\": \"application/vnd.amazon.eventstream\",\n",
      "    \"transfer-encoding\": \"chunked\",\n",
      "    \"connection\": \"keep-alive\",\n",
      "    \"x-amzn-requestid\": \"bf0ad130-727a-4d5b-968e-d67231fd383b\",\n",
      "    \"x-amz-bedrock-agent-session-id\": \"17dfdc40-bcd9-11ef-8c47-168aeb12c117\",\n",
      "    \"x-amzn-bedrock-agent-content-type\": \"application/json\"\n",
      "  },\n",
      "  \"RetryAttempts\": 0\n",
      "}\n",
      "[2024-12-17 19:43:26,904] p87293 {agents.py:787} INFO - ==== Trace Event Received ====\n",
      "[2024-12-17 19:43:26,905] p87293 {agents.py:790} INFO - callerChain: [\n",
      "  {\n",
      "    \"agentAliasArn\": \"arn:aws:bedrock:us-east-1:218208277580:agent-alias/BRU2RYCZR1/X0OOOOEXXL\"\n",
      "  }\n",
      "]\n",
      "[2024-12-17 19:43:26,905] p87293 {agents.py:803} INFO - Orchestration Trace Detected\n",
      "[2024-12-17 19:43:29,440] p87293 {agents.py:787} INFO - ==== Trace Event Received ====\n",
      "[2024-12-17 19:43:29,440] p87293 {agents.py:790} INFO - callerChain: [\n",
      "  {\n",
      "    \"agentAliasArn\": \"arn:aws:bedrock:us-east-1:218208277580:agent-alias/BRU2RYCZR1/X0OOOOEXXL\"\n",
      "  }\n",
      "]\n",
      "[2024-12-17 19:43:29,441] p87293 {agents.py:803} INFO - Orchestration Trace Detected\n",
      "[2024-12-17 19:43:29,442] p87293 {agents.py:787} INFO - ==== Trace Event Received ====\n",
      "[2024-12-17 19:43:29,443] p87293 {agents.py:790} INFO - callerChain: [\n",
      "  {\n",
      "    \"agentAliasArn\": \"arn:aws:bedrock:us-east-1:218208277580:agent-alias/BRU2RYCZR1/X0OOOOEXXL\"\n",
      "  }\n",
      "]\n",
      "[2024-12-17 19:43:29,445] p87293 {agents.py:803} INFO - Orchestration Trace Detected\n",
      "[2024-12-17 19:43:29,445] p87293 {agents.py:806} INFO - Agent Rationale: The User's goal is to get the latest Simple Moving Average (SMA) for AAPL in the first 20 days of the year 2021.\n",
      "(2) The information provided is the ticker symbol (AAPL) and the time period (first 20 days of 2021).\n",
      "(3) The action plan is to first get the historical price data for AAPL for the first 20 days of 2021, and then calculate the SMA for that period.\n",
      "(4) The first step is to get the historical price data. The second step is to calculate the SMA.\n",
      "(5) The next step is to get the historical price data.\n",
      "(6) The action `get_stock_prices` requires the ticker symbol, start date, end date, and limit. The ticker symbol is AAPL, the start date is 2021-01-01, the end date is 2021-01-20, and the limit is 20.\n",
      "(7) I have everything I need to execute the next step.\n"
     ]
    },
    {
     "ename": "Exception",
     "evalue": "('unexpected event.', EventStreamError('An error occurred (dependencyFailedException) when calling the InvokeAgent operation: The server encountered an error processing the Lambda response. Check the Lambda response and retry the request'))",
     "output_type": "error",
     "traceback": [
      "\u001b[0;31m---------------------------------------------------------------------------\u001b[0m",
      "\u001b[0;31mEventStreamError\u001b[0m                          Traceback (most recent call last)",
      "File \u001b[0;32m~/Desktop/hedge-fund-analyst-multi-agent-collaboration-2/agents.py:765\u001b[0m, in \u001b[0;36minvoke_agent_helper\u001b[0;34m(query, session_id, agent_id, alias_id, enable_trace, session_state, trace_level)\u001b[0m\n\u001b[1;32m    764\u001b[0m \u001b[38;5;28;01mtry\u001b[39;00m:\n\u001b[0;32m--> 765\u001b[0m     \u001b[38;5;28;01mfor\u001b[39;00m event \u001b[38;5;129;01min\u001b[39;00m event_stream:\n\u001b[1;32m    766\u001b[0m         \u001b[38;5;28;01mif\u001b[39;00m \u001b[38;5;124m'\u001b[39m\u001b[38;5;124mchunk\u001b[39m\u001b[38;5;124m'\u001b[39m \u001b[38;5;129;01min\u001b[39;00m event:\n",
      "File \u001b[0;32m/opt/homebrew/anaconda3/lib/python3.11/site-packages/botocore/eventstream.py:592\u001b[0m, in \u001b[0;36mEventStream.__iter__\u001b[0;34m(self)\u001b[0m\n\u001b[1;32m    591\u001b[0m \u001b[38;5;28;01mfor\u001b[39;00m event \u001b[38;5;129;01min\u001b[39;00m \u001b[38;5;28mself\u001b[39m\u001b[38;5;241m.\u001b[39m_event_generator:\n\u001b[0;32m--> 592\u001b[0m     parsed_event \u001b[38;5;241m=\u001b[39m \u001b[38;5;28mself\u001b[39m\u001b[38;5;241m.\u001b[39m_parse_event(event)\n\u001b[1;32m    593\u001b[0m     \u001b[38;5;28;01mif\u001b[39;00m parsed_event:\n",
      "File \u001b[0;32m/opt/homebrew/anaconda3/lib/python3.11/site-packages/botocore/eventstream.py:608\u001b[0m, in \u001b[0;36mEventStream._parse_event\u001b[0;34m(self, event)\u001b[0m\n\u001b[1;32m    607\u001b[0m \u001b[38;5;28;01melse\u001b[39;00m:\n\u001b[0;32m--> 608\u001b[0m     \u001b[38;5;28;01mraise\u001b[39;00m EventStreamError(parsed_response, \u001b[38;5;28mself\u001b[39m\u001b[38;5;241m.\u001b[39m_operation_name)\n",
      "\u001b[0;31mEventStreamError\u001b[0m: An error occurred (dependencyFailedException) when calling the InvokeAgent operation: The server encountered an error processing the Lambda response. Check the Lambda response and retry the request",
      "\nDuring handling of the above exception, another exception occurred:\n",
      "\u001b[0;31mException\u001b[0m                                 Traceback (most recent call last)",
      "File \u001b[0;32m<timed exec>:4\u001b[0m\n",
      "File \u001b[0;32m/opt/homebrew/anaconda3/lib/python3.11/site-packages/weave/trace/op.py:658\u001b[0m, in \u001b[0;36mop.<locals>.op_deco.<locals>.create_wrapper.<locals>.wrapper\u001b[0;34m(*args, **kwargs)\u001b[0m\n\u001b[1;32m    656\u001b[0m \u001b[38;5;129m@wraps\u001b[39m(func)\n\u001b[1;32m    657\u001b[0m \u001b[38;5;28;01mdef\u001b[39;00m \u001b[38;5;21mwrapper\u001b[39m(\u001b[38;5;241m*\u001b[39margs: Any, \u001b[38;5;241m*\u001b[39m\u001b[38;5;241m*\u001b[39mkwargs: Any) \u001b[38;5;241m-\u001b[39m\u001b[38;5;241m>\u001b[39m Any:\n\u001b[0;32m--> 658\u001b[0m     res, _ \u001b[38;5;241m=\u001b[39m _do_call(\n\u001b[1;32m    659\u001b[0m         cast(Op, wrapper), \u001b[38;5;241m*\u001b[39margs, __should_raise\u001b[38;5;241m=\u001b[39m\u001b[38;5;28;01mTrue\u001b[39;00m, \u001b[38;5;241m*\u001b[39m\u001b[38;5;241m*\u001b[39mkwargs\n\u001b[1;32m    660\u001b[0m     )\n\u001b[1;32m    661\u001b[0m     \u001b[38;5;28;01mreturn\u001b[39;00m res\n",
      "File \u001b[0;32m/opt/homebrew/anaconda3/lib/python3.11/site-packages/weave/trace/op.py:456\u001b[0m, in \u001b[0;36m_do_call\u001b[0;34m(op, __weave, __should_raise, *args, **kwargs)\u001b[0m\n\u001b[1;32m    454\u001b[0m     res \u001b[38;5;241m=\u001b[39m func(\u001b[38;5;241m*\u001b[39mpargs\u001b[38;5;241m.\u001b[39margs, \u001b[38;5;241m*\u001b[39m\u001b[38;5;241m*\u001b[39mpargs\u001b[38;5;241m.\u001b[39mkwargs)\n\u001b[1;32m    455\u001b[0m \u001b[38;5;28;01melse\u001b[39;00m:\n\u001b[0;32m--> 456\u001b[0m     execute_result \u001b[38;5;241m=\u001b[39m _execute_op(\n\u001b[1;32m    457\u001b[0m         op, call, \u001b[38;5;241m*\u001b[39mpargs\u001b[38;5;241m.\u001b[39margs, __should_raise\u001b[38;5;241m=\u001b[39m__should_raise, \u001b[38;5;241m*\u001b[39m\u001b[38;5;241m*\u001b[39mpargs\u001b[38;5;241m.\u001b[39mkwargs\n\u001b[1;32m    458\u001b[0m     )\n\u001b[1;32m    459\u001b[0m     \u001b[38;5;28;01mif\u001b[39;00m inspect\u001b[38;5;241m.\u001b[39miscoroutine(execute_result):\n\u001b[1;32m    460\u001b[0m         \u001b[38;5;28;01mraise\u001b[39;00m \u001b[38;5;167;01mTypeError\u001b[39;00m(\n\u001b[1;32m    461\u001b[0m             \u001b[38;5;124m\"\u001b[39m\u001b[38;5;124mInternal error: Expected `_execute_call` to return a sync result\u001b[39m\u001b[38;5;124m\"\u001b[39m\n\u001b[1;32m    462\u001b[0m         )\n",
      "File \u001b[0;32m/opt/homebrew/anaconda3/lib/python3.11/site-packages/weave/trace/op.py:340\u001b[0m, in \u001b[0;36m_execute_op\u001b[0;34m(__op, __call, __should_raise, *args, **kwargs)\u001b[0m\n\u001b[1;32m    338\u001b[0m     res \u001b[38;5;241m=\u001b[39m func(\u001b[38;5;241m*\u001b[39margs, \u001b[38;5;241m*\u001b[39m\u001b[38;5;241m*\u001b[39mkwargs)\n\u001b[1;32m    339\u001b[0m \u001b[38;5;28;01mexcept\u001b[39;00m \u001b[38;5;167;01mException\u001b[39;00m \u001b[38;5;28;01mas\u001b[39;00m e:\n\u001b[0;32m--> 340\u001b[0m     handle_exception(e)\n\u001b[1;32m    341\u001b[0m \u001b[38;5;28;01melse\u001b[39;00m:\n\u001b[1;32m    342\u001b[0m     \u001b[38;5;28;01mreturn\u001b[39;00m process(res)\n",
      "File \u001b[0;32m/opt/homebrew/anaconda3/lib/python3.11/site-packages/weave/trace/op.py:338\u001b[0m, in \u001b[0;36m_execute_op\u001b[0;34m(__op, __call, __should_raise, *args, **kwargs)\u001b[0m\n\u001b[1;32m    335\u001b[0m     \u001b[38;5;28;01mreturn\u001b[39;00m _call_async()\n\u001b[1;32m    337\u001b[0m \u001b[38;5;28;01mtry\u001b[39;00m:\n\u001b[0;32m--> 338\u001b[0m     res \u001b[38;5;241m=\u001b[39m func(\u001b[38;5;241m*\u001b[39margs, \u001b[38;5;241m*\u001b[39m\u001b[38;5;241m*\u001b[39mkwargs)\n\u001b[1;32m    339\u001b[0m \u001b[38;5;28;01mexcept\u001b[39;00m \u001b[38;5;167;01mException\u001b[39;00m \u001b[38;5;28;01mas\u001b[39;00m e:\n\u001b[1;32m    340\u001b[0m     handle_exception(e)\n",
      "File \u001b[0;32m~/Desktop/hedge-fund-analyst-multi-agent-collaboration-2/agents.py:814\u001b[0m, in \u001b[0;36minvoke_agent_helper\u001b[0;34m(query, session_id, agent_id, alias_id, enable_trace, session_state, trace_level)\u001b[0m\n\u001b[1;32m    812\u001b[0m             \u001b[38;5;28;01mraise\u001b[39;00m \u001b[38;5;167;01mException\u001b[39;00m(\u001b[38;5;124m\"\u001b[39m\u001b[38;5;124munexpected event.\u001b[39m\u001b[38;5;124m\"\u001b[39m, event)\n\u001b[1;32m    813\u001b[0m \u001b[38;5;28;01mexcept\u001b[39;00m \u001b[38;5;167;01mException\u001b[39;00m \u001b[38;5;28;01mas\u001b[39;00m e:\n\u001b[0;32m--> 814\u001b[0m     \u001b[38;5;28;01mraise\u001b[39;00m \u001b[38;5;167;01mException\u001b[39;00m(\u001b[38;5;124m\"\u001b[39m\u001b[38;5;124munexpected event.\u001b[39m\u001b[38;5;124m\"\u001b[39m, e)\n",
      "\u001b[0;31mException\u001b[0m: ('unexpected event.', EventStreamError('An error occurred (dependencyFailedException) when calling the InvokeAgent operation: The server encountered an error processing the Lambda response. Check the Lambda response and retry the request'))"
     ]
    }
   ],
   "source": [
    "%%time\n",
    "import uuid\n",
    "session_id:str = str(uuid.uuid1())\n",
    "query = \"\"\"What is the latest SMA for AAPL in the first 20 days of the year 2021?\"\"\"\n",
    "response = invoke_agent_helper(\n",
    "    query, session_id, technical_analyst_agent_id, technical_analyst_agent_alias_id, enable_trace=True\n",
    ")\n",
    "print(response)"
   ]
  },
  {
   "cell_type": "code",
   "execution_count": 18,
   "metadata": {},
   "outputs": [
    {
     "name": "stdout",
     "output_type": "stream",
     "text": [
      "Stored 'technical_analyst_agent_id' (str)\n",
      "Stored 'technical_analyst_agent_alias_id' (str)\n",
      "Stored 'technical_analyst_agent_alias_arn' (str)\n"
     ]
    }
   ],
   "source": [
    "%store technical_analyst_agent_id\n",
    "%store technical_analyst_agent_alias_id\n",
    "%store technical_analyst_agent_alias_arn"
   ]
  }
 ],
 "metadata": {
  "kernelspec": {
   "display_name": "Python 3",
   "language": "python",
   "name": "python3"
  },
  "language_info": {
   "codemirror_mode": {
    "name": "ipython",
    "version": 3
   },
   "file_extension": ".py",
   "mimetype": "text/x-python",
   "name": "python",
   "nbconvert_exporter": "python",
   "pygments_lexer": "ipython3",
   "version": "3.11.7"
  }
 },
 "nbformat": 4,
 "nbformat_minor": 2
}

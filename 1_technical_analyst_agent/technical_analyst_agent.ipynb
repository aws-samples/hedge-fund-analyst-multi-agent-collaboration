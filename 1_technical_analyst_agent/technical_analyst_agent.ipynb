{
 "cells": [
  {
   "cell_type": "markdown",
   "metadata": {},
   "source": [
    "## Creating sub-agent 2: Get technical analysis of the financial data\n",
    "\n",
    "In this folder we will create the second sub-agent for collecting technical analysis to user questions. This agent will call the financial data API to handle the following user questions:\n",
    "\n",
    "1. Questions about getting stock prices. Based on a user question, ticker over a given data range and interval, the agent will get the stock prices.\n",
    "\n",
    "1. Questions about seeking information on the current stock price. If the user asks for the current stock price, then this agent will call a lambda function to get the current (latest) stock price for a ticker\n",
    "\n",
    "1. If a user question is about calculating technical indicators for a given ticker and a time period, for example `RSI`, `MACD`, `SMA`, `EMA` and `Bollinger Bands` calculations."
   ]
  },
  {
   "cell_type": "markdown",
   "metadata": {},
   "source": [
    "### Prerequisites\n",
    "---\n",
    "\n",
    "You are going to install boto3 dependencies from pip. Make sure you have the latest version of it for full capabilities\n",
    "\n",
    "Before running this notebook, make sure to populate the `.env` file with your `FINANCIAL_DATASETS_API_KEY` and `TAVILY_API_KEY`. These two `API` keys will be used by the agent to access information on user related questions. You can create an `API` here: https://www.financialdatasets.ai/"
   ]
  },
  {
   "cell_type": "code",
   "execution_count": null,
   "metadata": {},
   "outputs": [],
   "source": [
    "!pip uninstall boto3 botocore awscli --yes"
   ]
  },
  {
   "cell_type": "code",
   "execution_count": null,
   "metadata": {},
   "outputs": [],
   "source": [
    "# Install latest boto3\n",
    "!python3 -m pip install --force-reinstall --no-cache -q --no-dependencies -r ../requirements.txt"
   ]
  },
  {
   "cell_type": "markdown",
   "metadata": {},
   "source": [
    "### Restart kernel\n",
    "\n",
    "If you face issues to apply the latest multi-agent capabilities, uncomment this line to restart kernel to ensure packages updates to take effect"
   ]
  },
  {
   "cell_type": "code",
   "execution_count": null,
   "metadata": {},
   "outputs": [],
   "source": [
    "import IPython\n",
    "\n",
    "# IPython.Application.instance().kernel.do_shutdown(True)"
   ]
  },
  {
   "cell_type": "code",
   "execution_count": null,
   "metadata": {},
   "outputs": [],
   "source": [
    "!pip freeze | grep boto3"
   ]
  },
  {
   "cell_type": "markdown",
   "metadata": {},
   "source": [
    "### Importing helper functions\n",
    "\n",
    "On following section, we're adding `agents.py` on Python path, so the files can be recognized and their functionalities can be invoked.\n",
    "\n",
    "Now, you're going to import from helper classes `agent.py`.\n",
    "\n",
    "Those files contain helper classes totally focused on make labs experience smoothly.\n",
    "\n",
    "All interactions with Bedrock will be handled by these classes.\n",
    "\n",
    "#### Following are methods that you're going to invoke on this lab:\n",
    "\n",
    "- `create_agent`: Create a new agent and respective IAM roles\n",
    "\n",
    "- `add_action_group_with_lambda`: Create a lambda function and add it as an action group for a previous created agent\n",
    "\n",
    "- `create_agent_alias`: Create an alias for this agent\n",
    "\n",
    "- `invoke`: Execute agent"
   ]
  },
  {
   "cell_type": "code",
   "execution_count": null,
   "metadata": {},
   "outputs": [],
   "source": [
    "import boto3\n",
    "import os\n",
    "import json\n",
    "import time\n",
    "\n",
    "sts_client = boto3.client('sts')\n",
    "session = boto3.session.Session()\n",
    "\n",
    "account_id = sts_client.get_caller_identity()[\"Account\"]\n",
    "region = session.region_name\n",
    "account_id_suffix = account_id[:3]\n",
    "agent_suffix = f\"{region}-{account_id_suffix}\"\n",
    "\n",
    "s3_client = boto3.client('s3', region)\n",
    "bedrock_client = boto3.client('bedrock-runtime', region)"
   ]
  },
  {
   "cell_type": "code",
   "execution_count": null,
   "metadata": {},
   "outputs": [],
   "source": [
    "import os\n",
    "import sys\n",
    "import time\n",
    "import json\n",
    "import boto3\n",
    "import shutil\n",
    "import logging\n",
    "import zipfile\n",
    "import subprocess\n",
    "from dotenv import load_dotenv\n",
    "\n",
    "sys.path.insert(0, \".\")\n",
    "sys.path.insert(1, \"..\")\n",
    "\n",
    "from utils.bedrock_agent_helper import (\n",
    "    AgentsForAmazonBedrock\n",
    ")\n",
    "agents = AgentsForAmazonBedrock()\n",
    "\n",
    "# Get the current file's directory\n",
    "current_dir = os.path.dirname(os.path.abspath('__file__'))\n",
    "\n",
    "# Get the parent directory\n",
    "parent_dir = os.path.dirname(current_dir)\n",
    "print(parent_dir)\n",
    "\n",
    "# Add the parent directory to sys.path\n",
    "sys.path.append(parent_dir)\n",
    "\n",
    "from utils import *\n",
    "from globals import *\n",
    "from utils.utils import *"
   ]
  },
  {
   "cell_type": "code",
   "execution_count": null,
   "metadata": {},
   "outputs": [],
   "source": [
    "# Load environment variables from .env file\n",
    "load_dotenv"
   ]
  },
  {
   "cell_type": "code",
   "execution_count": null,
   "metadata": {},
   "outputs": [],
   "source": [
    "# set a logger\n",
    "logging.basicConfig(format='[%(asctime)s] p%(process)s {%(filename)s:%(lineno)d} %(levelname)s - %(message)s', level=logging.INFO)\n",
    "logger = logging.getLogger(__name__)"
   ]
  },
  {
   "cell_type": "markdown",
   "metadata": {},
   "source": [
    "### Defining agent configuration\n",
    "---"
   ]
  },
  {
   "cell_type": "code",
   "execution_count": null,
   "metadata": {},
   "outputs": [],
   "source": [
    "agent_instruction = \"\"\"You are a technical analysis assistant that helps users analyze stock price movements and technical indicators. You can calculate and interpret various technical indicators using historical price data.\n",
    "\n",
    "You have access to the following technical analysis capabilities based on the API key you have access to to call the available functions and get the following information:\n",
    "\n",
    "1. Stock Price Data:\n",
    "   - Current stock prices\n",
    "   - Historical price data with various intervals\n",
    "   - Custom date range analysis\n",
    "\n",
    "2. Technical Indicators:\n",
    "   - RSI\n",
    "   - MACD\n",
    "   - SMA\n",
    "   - EMA\n",
    "   - Bollinger Bands\n",
    "\n",
    "You require the user to provide:\n",
    "1. A stock ticker symbol\n",
    "2. The type of technical indicator they want to analyze\n",
    "3. Optionally: specific time periods or date ranges\n",
    "\n",
    "Available functions:\n",
    "1. get_current_stock_price: Retrieve latest stock price\n",
    "2. get_stock_prices: Get historical price data for a specified period\n",
    "3. get_technical_indicators: Calculate technical indicators for analysis\n",
    "\n",
    "If you do not have access to the data that the user is asking for, do not make up an answer. Be completely accurate and only provide analysis based on the available technical indicators and price data.\n",
    "\n",
    "Only answer questions related to technical analysis and price data based on the provided functions. If unsure, acknowledge limitations\"\"\"\n",
    "\n",
    "agent_description = \"Agent for technical analysis of stocks using various technical indicators and price data\""
   ]
  },
  {
   "cell_type": "code",
   "execution_count": null,
   "metadata": {},
   "outputs": [],
   "source": [
    "# This is the function definition for the lambda function that will be invoked\n",
    "# as a part of the action group\n",
    "functions = [{\n",
    "    'name': 'get_stock_prices',\n",
    "    'description': 'Get prices for a ticker over a given date range and interval.',\n",
    "    'parameters': {\n",
    "        \"ticker\": {\n",
    "            \"description\": \"stock ticker symbol of the company\",\n",
    "            \"required\": True,\n",
    "            \"type\": \"string\"\n",
    "        },\n",
    "        \"start_date\": {\n",
    "            \"description\": \"Start date to get the stock price from\",\n",
    "            \"required\": True,\n",
    "            \"type\": \"string\"\n",
    "        },\n",
    "        \"end_date\": {\n",
    "            \"description\": \"End data until which the stock price needs to be computed\",\n",
    "            \"required\": True,\n",
    "            \"type\": \"string\"\n",
    "        }, \n",
    "        \"limit\": {\n",
    "            \"description\": \"number of statements to retrieve\",\n",
    "            \"required\": True,\n",
    "            \"type\": \"integer\"\n",
    "        }\n",
    "    }\n",
    "},\n",
    "{\n",
    "    'name': 'get_current_stock_price',\n",
    "    'description': 'Get the current (latest) stock price for a ticker.',\n",
    "    'parameters': {\n",
    "        \"ticker\": {\n",
    "            \"description\": \"stock ticker symbol of the company\",\n",
    "            \"required\": True,\n",
    "            \"type\": \"string\"\n",
    "        }\n",
    "    }\n",
    "},\n",
    "{\n",
    "    'name': 'get_technical_indicators',\n",
    "    'description': 'Calculate technical indicators (RSI, MACD, SMA, EMA, or Bollinger Bands) for a given ticker.',\n",
    "    'parameters': {\n",
    "        \"ticker\": {\n",
    "            \"description\": \"stock ticker symbol of the company\",\n",
    "            \"required\": True,\n",
    "            \"type\": \"string\"\n",
    "        },\n",
    "        \"indicator\": {\n",
    "            \"description\": \"technical indicator type (RSI, MACD, SMA, EMA, or BBANDS)\",\n",
    "            \"required\": True,\n",
    "            \"type\": \"string\"\n",
    "        },\n",
    "        \"period\": {\n",
    "            \"description\": \"period for indicator calculation (default: 14)\",\n",
    "            \"required\": False,\n",
    "            \"type\": \"integer\"\n",
    "        },\n",
    "        \"start_date\": {\n",
    "            \"description\": \"start date for analysis (YYYY-MM-DD)\",\n",
    "            \"required\": False,\n",
    "            \"type\": \"string\"\n",
    "        },\n",
    "        \"end_date\": {\n",
    "            \"description\": \"end date for analysis (YYYY-MM-DD)\",\n",
    "            \"required\": False,\n",
    "            \"type\": \"string\"\n",
    "        }\n",
    "    }\n",
    "}]"
   ]
  },
  {
   "cell_type": "markdown",
   "metadata": {},
   "source": [
    "### Add a lambda layer to the lambda function\n",
    "---\n",
    "\n",
    "In this section of the notebook, we will add a lambda layer to the lambda function. We will be installing `requests`, `ta` to make requests to the financial data API key."
   ]
  },
  {
   "cell_type": "code",
   "execution_count": null,
   "metadata": {},
   "outputs": [],
   "source": [
    "# Create and publish the layer ~ this step will take around 2 minutes\n",
    "\n",
    "# In this case we want to add a layer to the lambda containing files to import the \n",
    "# requests, ta and pandas libraries\n",
    "layer_zip = create_lambda_layer(['requests'])\n",
    "layer_arn = publish_layer('technical-agent-lambda-layer-new')"
   ]
  },
  {
   "cell_type": "markdown",
   "metadata": {},
   "source": [
    "### Create agent\n",
    "---\n",
    "\n",
    "Next we will create the agent with the provided information. In this, we will use the prompt configuration, the lambda function and lambda layers, update the lambda function to contain the `FINANCIAL_DATASETS_API_KEY` that the agent can use to fetch data to user inputs, and then finally create the agent."
   ]
  },
  {
   "cell_type": "code",
   "execution_count": null,
   "metadata": {},
   "outputs": [],
   "source": [
    "if region == \"us-west-2\":\n",
    "    NOVA_LITE = f\"us.{NOVA_LITE}\"\n",
    "    logger.info(f\"Using the cross region inference model id for the technical analyst agent: {NOVA_LITE}\")\n",
    "\n",
    "# Update your agent creation code to include the action_group_config\n",
    "technical_analyst_agent = agents.create_agent(\n",
    "    SUB_AGENT_NAME_TECHNICAL_ANALYST,\n",
    "    agent_description,\n",
    "    agent_instruction,\n",
    "    NOVA_LITE, # change to \"us.<model-id> for cross region inference if you are using the agent in us.west.2\"\n",
    ")"
   ]
  },
  {
   "cell_type": "code",
   "execution_count": null,
   "metadata": {},
   "outputs": [],
   "source": [
    "# Add the action group with lambda to this fundamental analyst agent\n",
    "agents.add_action_group_with_lambda(\n",
    "    agent_name=SUB_AGENT_NAME_TECHNICAL_ANALYST,\n",
    "    lambda_function_name=f'{SUB_AGENT_NAME_TECHNICAL_ANALYST}-lambda',\n",
    "    source_code_file=TECHNICAL_LAMBDA_FUNCTION_NAME,\n",
    "    agent_functions=functions,\n",
    "    agent_action_group_name=\"TechnicalAgentActionGroup\",\n",
    "    agent_action_group_description=\"Action group for technical analysis of stocks using various technical indicators and price data\",\n",
    "    lambda_layers=[layer_arn]\n",
    ")\n",
    "\n",
    "# Create a Lambda client and attach the API key as env variable to the lambda function\n",
    "lambda_client = boto3.client('lambda')\n",
    "lambda_function_name = f'{SUB_AGENT_FUNDAMENTAL_ANALYST}-lambda'\n",
    "environment_variables = {\n",
    "    'FINANCIAL_DATASETS_API_KEY': os.getenv('FINANCIAL_DATASETS_API_KEY')\n",
    "}"
   ]
  },
  {
   "cell_type": "code",
   "execution_count": null,
   "metadata": {},
   "outputs": [],
   "source": [
    "# Update the Lambda function's configuration to include the environment variables\n",
    "# In the case of this agent, we need the financial dataset API as an env variable passed to the lambda\n",
    "# so that it can be used in fetching data based on user questions\n",
    "response = lambda_client.update_function_configuration(\n",
    "    FunctionName=lambda_function_name,\n",
    "    Environment={\n",
    "        'Variables': environment_variables\n",
    "    },\n",
    "    Layers=[layer_arn]\n",
    ")"
   ]
  },
  {
   "cell_type": "markdown",
   "metadata": {},
   "source": [
    "### Testing the Fundamental Analyst agent\n",
    "---\n",
    "\n",
    "Now that we've created the agent, let's test it by using our `invoke_agent_helper` function. Here, we will invoke the `technical analyst` agent to provide information on `technical indicators` and `stock price data` based on the question provided by the user.\n",
    "\n",
    "Since the `invoke_agent_helper` is wrapped with a `weave` decorator, it will log the input/outputs or any errors to your weave account dashboard. To create a weave API key, refer to the following link: https://wandb.ai/site/weave/"
   ]
  },
  {
   "cell_type": "code",
   "execution_count": null,
   "metadata": {},
   "outputs": [],
   "source": [
    "# Sleep for 30 seconds before invoking the technical analyst agent\n",
    "time.sleep(30)"
   ]
  },
  {
   "cell_type": "code",
   "execution_count": null,
   "metadata": {},
   "outputs": [],
   "source": [
    "%%time\n",
    "response = agents.invoke(\n",
    "    \"\"\"What is the latest stock price for AAPL from january 2022 to december 2022?\"\"\", \n",
    "    technical_analyst_agent[0], enable_trace=True\n",
    ")\n",
    "print(\"====================\")\n",
    "print(response)"
   ]
  },
  {
   "cell_type": "code",
   "execution_count": null,
   "metadata": {},
   "outputs": [],
   "source": [
    "%%time\n",
    "response = agents.invoke(\n",
    "    \"\"\"What is the latest SMA for AAPL in the first 20 days of the year 2021?\"\"\", \n",
    "    technical_analyst_agent[0], enable_trace=True\n",
    ")\n",
    "print(\"====================\")\n",
    "print(response)"
   ]
  },
  {
   "cell_type": "markdown",
   "metadata": {},
   "source": [
    "### Create alias\n",
    "\n",
    "For multi-agents collaboration it is expected that you first test your agent and only use it once it is fully functional.\n",
    "\n",
    "Since we've tested and validated our agent, let's now create an alias for it:"
   ]
  },
  {
   "cell_type": "code",
   "execution_count": null,
   "metadata": {},
   "outputs": [],
   "source": [
    "technical_analyst_agent_id, technical_analyst_agent_alias_arn = agents.create_agent_alias(\n",
    "    technical_analyst_agent[0], 'v1'\n",
    ")"
   ]
  },
  {
   "cell_type": "code",
   "execution_count": null,
   "metadata": {},
   "outputs": [],
   "source": [
    "techical_analyst_agent_arn = agents.get_agent_arn_by_name(SUB_AGENT_NAME_TECHNICAL_ANALYST)"
   ]
  },
  {
   "cell_type": "code",
   "execution_count": null,
   "metadata": {},
   "outputs": [],
   "source": [
    "%store technical_analyst_agent_id\n",
    "%store technical_analyst_agent_alias_arn\n",
    "%store techical_analyst_agent_arn"
   ]
  }
 ],
 "metadata": {
  "kernelspec": {
   "display_name": "Python 3",
   "language": "python",
   "name": "python3"
  },
  "language_info": {
   "codemirror_mode": {
    "name": "ipython",
    "version": 3
   },
   "file_extension": ".py",
   "mimetype": "text/x-python",
   "name": "python",
   "nbconvert_exporter": "python",
   "pygments_lexer": "ipython3",
   "version": "3.11.7"
  }
 },
 "nbformat": 4,
 "nbformat_minor": 2
}
